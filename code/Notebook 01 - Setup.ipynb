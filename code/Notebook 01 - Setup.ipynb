{
 "cells": [
  {
   "cell_type": "markdown",
   "id": "e6d9ad94-0017-4fb4-860b-e8f813d1b57f",
   "metadata": {},
   "source": [
    "**OBJECTIVE:** Setup the environment required for this workshop\n",
    "\n",
    "**AUTHOR:** [@jonjoncardoso](https://github.com/jonjoncardoso)\n",
    "\n",
    "**LAST UPDATED:** 21/02/2022\n"
   ]
  },
  {
   "cell_type": "markdown",
   "id": "e7351a82-8c1f-4669-b887-50359be6b978",
   "metadata": {},
   "source": [
    "# Software requirements\n",
    "\n",
    "- Python 3.8.10 or above ([link to Python download](https://www.python.org/downloads/))\n",
    "- pip3\n",
    "- [Git](https://docs.github.com/en/get-started/quickstart/set-up-git) \n"
   ]
  },
  {
   "cell_type": "markdown",
   "id": "2336f8e1-007b-46e6-9b5d-93074d0ea2a2",
   "metadata": {},
   "source": [
    "# Clone the repo\n",
    "\n",
    "On the terminal, cd to your workspace directory, clone the Github repository ([instructions](https://docs.github.com/en/repositories/creating-and-managing-repositories/cloning-a-repository)) and move to that directory:\n",
    "\n",
    "```shell \n",
    "git clone git@github.com:jonjoncardoso/bracis-2021-supp-material.git\n",
    "cd bracis-2021-supp-material\n",
    "```\n",
    "\n",
    "Obs.: If you plan to modify this code and save it to your account, you could [fork this repository to your username](https://docs.github.com/en/get-started/quickstart/fork-a-repo). If you do, modify the git clone command above appropriately.\n",
    "\n"
   ]
  },
  {
   "cell_type": "markdown",
   "id": "358f607f-2cf9-43fc-a603-c4fe3e6fcfd5",
   "metadata": {},
   "source": [
    "# Create a Virtual Environment\n",
    "\n",
    "\n",
    "Let us create a Virtual Environment specific to this project. This way we guarantee this notebooks is reproducible. \n",
    "\n",
    "Still on the terminal, run:\n",
    "\n",
    "```shell\n",
    "python3 -m venv env\n",
    "source env/bin/activate\n",
    "```\n",
    "\n",
    "The code above was tested on Ubuntu 20.04 (WSL2). Follow the link below to learn how to set it up under a different Operating System. Link to [**venv official documentation**](https://packaging.python.org/en/latest/guides/installing-using-pip-and-virtual-environments/#creating-a-virtual-environment).\n"
   ]
  },
  {
   "cell_type": "markdown",
   "id": "d38791c2-d6c8-4e7f-ad01-606cf1346d95",
   "metadata": {},
   "source": [
    "# Install and setup Jupyter Lab\n",
    "\n",
    "Install [Jupyter lab](https://jupyterlab.readthedocs.io/en/stable/getting_started/overview.html) and set default kernel to the environment variable we have just created:\n",
    "\n",
    "```shell\n",
    "pip install jupyterlab==3.2.8\n",
    "python3 -m ipykernel install --user --name=env\n",
    "jupyter lab --generate-config\n",
    "echo \"c.MappingKernelManager.default_kernel_name='env'\" >> ~/.jupyter/jupyter_lab_config.py\n",
    "```\n"
   ]
  },
  {
   "cell_type": "markdown",
   "id": "b1ce2103-29e7-40bd-a885-5e9154e59552",
   "metadata": {},
   "source": [
    "# Install python requirements\n",
    "\n",
    "```shell\n",
    "pip install -r requirements.txt\n",
    "```"
   ]
  },
  {
   "cell_type": "markdown",
   "id": "cf7d1545-690c-4b74-a7d1-4752ceba80c2",
   "metadata": {},
   "source": [
    "# Start Jupyter Lab\n",
    "\n",
    "```shell\n",
    "cd notebooks && jupyter lab .\n",
    "```\n",
    "\n",
    "Follow the link to your browser and open this very same notebook there.\n",
    "\n"
   ]
  },
  {
   "cell_type": "markdown",
   "id": "4ca0bc22-76ed-4d12-b4e7-4701be160539",
   "metadata": {},
   "source": [
    "**OBS:** Alternatively, you can just run scripts `setup.sh` and `start-notebook.sh` to replicate the steps above"
   ]
  },
  {
   "cell_type": "markdown",
   "id": "77d47397-4efe-476b-aca8-ef98e9bcae17",
   "metadata": {},
   "source": [
    "# (Optional) Activate Widgets\n",
    "\n",
    "Once you are on Jupyter Lab, click on the Extensions tab to activate the widgets. \n",
    "\n",
    "I recommend activating the [jupyterlab-execute-time](https://github.com/deshaw/jupyterlab-execute-time) plugin."
   ]
  },
  {
   "cell_type": "markdown",
   "id": "d69ab547-d013-49ed-bd2b-f1d06768b99c",
   "metadata": {},
   "source": [
    "# Double check\n",
    "\n",
    "You should be able to see that all the relevant packages you have installed (i.e. the ones listed on `requirements.txt`) match the ones I had on my environment, as shown below:"
   ]
  },
  {
   "cell_type": "code",
   "execution_count": 2,
   "id": "9386c187-5854-4041-81a7-2a693e88c678",
   "metadata": {
    "execution": {
     "iopub.execute_input": "2022-02-23T19:32:35.927346Z",
     "iopub.status.busy": "2022-02-23T19:32:35.926574Z",
     "iopub.status.idle": "2022-02-23T19:32:36.045492Z",
     "shell.execute_reply": "2022-02-23T19:32:36.043246Z",
     "shell.execute_reply.started": "2022-02-23T19:32:35.927315Z"
    },
    "tags": []
   },
   "outputs": [
    {
     "name": "stdout",
     "output_type": "stream",
     "text": [
      "/home/jonathan/Workspace/bracis-2021-supp-material/env/bin/pip\n"
     ]
    }
   ],
   "source": [
    "!which pip"
   ]
  },
  {
   "cell_type": "code",
   "execution_count": 3,
   "id": "8646026f-e962-48ea-aa5c-59560d1a0d8f",
   "metadata": {
    "execution": {
     "iopub.execute_input": "2022-02-23T19:32:38.648061Z",
     "iopub.status.busy": "2022-02-23T19:32:38.647821Z",
     "iopub.status.idle": "2022-02-23T19:32:39.590974Z",
     "shell.execute_reply": "2022-02-23T19:32:39.588788Z",
     "shell.execute_reply.started": "2022-02-23T19:32:38.648017Z"
    },
    "tags": []
   },
   "outputs": [
    {
     "name": "stdout",
     "output_type": "stream",
     "text": [
      "Package                 Version  \n",
      "----------------------- ---------\n",
      "aiohttp                 3.8.1    \n",
      "aiosignal               1.2.0    \n",
      "anyio                   3.5.0    \n",
      "appdirs                 1.4.4    \n",
      "argon2-cffi             21.3.0   \n",
      "argon2-cffi-bindings    21.2.0   \n",
      "asttokens               2.0.5    \n",
      "async-timeout           4.0.2    \n",
      "attrs                   21.4.0   \n",
      "Babel                   2.9.1    \n",
      "backcall                0.2.0    \n",
      "black                   22.1.0   \n",
      "bleach                  4.1.0    \n",
      "certifi                 2021.10.8\n",
      "cffi                    1.15.0   \n",
      "charset-normalizer      2.0.12   \n",
      "click                   8.0.4    \n",
      "clikit                  0.6.2    \n",
      "crashtest               0.3.1    \n",
      "cycler                  0.11.0   \n",
      "debugpy                 1.5.1    \n",
      "decorator               5.1.1    \n",
      "defusedxml              0.7.1    \n",
      "descartes               1.1.0    \n",
      "entrypoints             0.4      \n",
      "executing               0.8.2    \n",
      "fonttools               4.29.1   \n",
      "frozenlist              1.3.0    \n",
      "httpstan                4.4.2    \n",
      "idna                    3.3      \n",
      "importlib-resources     5.4.0    \n",
      "iniconfig               1.1.1    \n",
      "ipdb                    0.13.9   \n",
      "ipykernel               6.9.1    \n",
      "ipython                 8.0.1    \n",
      "ipython-genutils        0.2.0    \n",
      "ipywidgets              7.6.5    \n",
      "jedi                    0.18.1   \n",
      "Jinja2                  3.0.3    \n",
      "json5                   0.9.6    \n",
      "jsonschema              4.4.0    \n",
      "jupyter-client          7.1.2    \n",
      "jupyter-core            4.9.2    \n",
      "jupyter-server          1.13.5   \n",
      "jupyterlab              3.2.8    \n",
      "jupyterlab-execute-time 2.0.5    \n",
      "jupyterlab-pygments     0.1.2    \n",
      "jupyterlab-server       2.10.3   \n",
      "jupyterlab-widgets      1.0.2    \n",
      "kiwisolver              1.3.2    \n",
      "lz4                     3.1.10   \n",
      "MarkupSafe              2.1.0    \n",
      "marshmallow             3.14.1   \n",
      "matplotlib              3.5.1    \n",
      "matplotlib-inline       0.1.3    \n",
      "mistune                 0.8.4    \n",
      "mizani                  0.7.3    \n",
      "multidict               6.0.2    \n",
      "mypy-extensions         0.4.3    \n",
      "nbclassic               0.3.5    \n",
      "nbclient                0.5.11   \n",
      "nbconvert               6.4.2    \n",
      "nbformat                5.1.3    \n",
      "nest-asyncio            1.5.4    \n",
      "networkx                2.6.2    \n",
      "notebook                6.4.8    \n",
      "numpy                   1.21.2   \n",
      "packaging               21.3     \n",
      "palettable              3.3.0    \n",
      "pandas                  1.4.1    \n",
      "pandocfilters           1.5.0    \n",
      "parso                   0.8.3    \n",
      "pastel                  0.2.1    \n",
      "pathspec                0.9.0    \n",
      "patsy                   0.5.2    \n",
      "pexpect                 4.8.0    \n",
      "pickleshare             0.7.5    \n",
      "Pillow                  9.0.1    \n",
      "pip                     20.0.2   \n",
      "pkg-resources           0.0.0    \n",
      "platformdirs            2.5.1    \n",
      "plotnine                0.8.0    \n",
      "pluggy                  0.13.1   \n",
      "prometheus-client       0.13.1   \n",
      "prompt-toolkit          3.0.28   \n",
      "ptyprocess              0.7.0    \n",
      "pure-eval               0.2.2    \n",
      "py                      1.11.0   \n",
      "pycparser               2.21     \n",
      "Pygments                2.11.2   \n",
      "pylev                   1.4.0    \n",
      "pyparsing               3.0.7    \n",
      "pyrsistent              0.18.1   \n",
      "pysimdjson              3.2.0    \n",
      "pystan                  3.1.0    \n",
      "pytest                  6.2.4    \n",
      "python-dateutil         2.8.2    \n",
      "pytz                    2021.3   \n",
      "pyzmq                   22.3.0   \n",
      "requests                2.27.1   \n",
      "scipy                   1.7.1    \n",
      "Send2Trash              1.8.0    \n",
      "setuptools              44.0.0   \n",
      "six                     1.16.0   \n",
      "sniffio                 1.2.0    \n",
      "stack-data              0.2.0    \n",
      "statsmodels             0.13.2   \n",
      "terminado               0.13.1   \n",
      "testpath                0.5.0    \n",
      "toml                    0.10.2   \n",
      "tomli                   2.0.1    \n",
      "tornado                 6.1      \n",
      "tqdm                    4.62.0   \n",
      "traitlets               5.1.1    \n",
      "typing-extensions       4.1.1    \n",
      "urllib3                 1.26.8   \n",
      "wcwidth                 0.2.5    \n",
      "webargs                 7.0.1    \n",
      "webencodings            0.5.1    \n",
      "websocket-client        1.2.3    \n",
      "wget                    3.2      \n",
      "wheel                   0.37.1   \n",
      "widgetsnbextension      3.5.2    \n",
      "yarl                    1.7.2    \n",
      "zipp                    3.7.0    \n"
     ]
    }
   ],
   "source": [
    "!pip list"
   ]
  }
 ],
 "metadata": {
  "kernelspec": {
   "display_name": "env",
   "language": "python",
   "name": "env"
  },
  "language_info": {
   "codemirror_mode": {
    "name": "ipython",
    "version": 3
   },
   "file_extension": ".py",
   "mimetype": "text/x-python",
   "name": "python",
   "nbconvert_exporter": "python",
   "pygments_lexer": "ipython3",
   "version": "3.8.10"
  },
  "toc-autonumbering": true
 },
 "nbformat": 4,
 "nbformat_minor": 5
}
