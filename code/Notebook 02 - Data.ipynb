{
 "cells": [
  {
   "cell_type": "markdown",
   "id": "46e2c96b-08c3-4f18-99a2-6c1c59f1b10e",
   "metadata": {},
   "source": [
    "**OBJECTIVE:** Download the data used in this workshop\n",
    "\n",
    "**AUTHOR:** [@jonjoncardoso](https://github.com/jonjoncardoso)\n",
    "\n",
    "**LAST UPDATED:** 23/02/2022\n",
    "\n",
    "---\n",
    "<div class=\"csl-entry\">Andrade Junior, J. E., Cardoso-Silva, J., &#38; Bezerra, L. C. T. (2021). Comparing Contextual Embeddings for Semantic Textual Similarity in Portuguese. <i>Lecture Notes in Computer Science (Including Subseries Lecture Notes in Artificial Intelligence and Lecture Notes in Bioinformatics)</i>, <i>13074 LNAI</i>, 389–404. </div>\n",
    "\n",
    "----\n",
    "\n",
    "Link to download [here](https://www.researchgate.net/publication/356582885_Comparing_Contextual_Embeddings_for_Semantic_Textual_Similarity_in_Portuguese)"
   ]
  },
  {
   "cell_type": "markdown",
   "id": "e643d403-a25d-43ca-b5ce-7a67b2c27492",
   "metadata": {},
   "source": [
    "# Imports"
   ]
  },
  {
   "cell_type": "code",
   "execution_count": 1,
   "id": "17b83eba-4dc0-4ca0-84b2-58fd9693818b",
   "metadata": {
    "execution": {
     "iopub.execute_input": "2022-02-24T16:14:32.146356Z",
     "iopub.status.busy": "2022-02-24T16:14:32.145930Z",
     "iopub.status.idle": "2022-02-24T16:14:34.168377Z",
     "shell.execute_reply": "2022-02-24T16:14:34.166499Z",
     "shell.execute_reply.started": "2022-02-24T16:14:32.146254Z"
    },
    "tags": []
   },
   "outputs": [],
   "source": [
    "import os\n",
    "\n",
    "import numpy as np\n",
    "import pandas as pd\n",
    "import xml.etree.ElementTree as et \n",
    "\n",
    "from plotnine import *"
   ]
  },
  {
   "cell_type": "markdown",
   "id": "066def0d-b2df-46e7-9235-2c0d399a1f4b",
   "metadata": {
    "tags": []
   },
   "source": [
    "# Dataset Description\n",
    "\n",
    "The data we are using was annotated in two workshops: [ASSIN](http://propor2016.di.fc.ul.pt/?page_id=381) & [ASSIN2 workshop](https://sites.google.com/view/assin2/).\n",
    "\n",
    "The following description comes from the ASSIN website:\n",
    "\n",
    "> **Task Description**\n",
    ">\n",
    "> The ASSIN dataset contains 10,000 sentence pairs collected from Google News, half from Brazilian sources and half from Portuguese ones. 6,000 pairs are released for training and the remaining will serve as a blind test set. Each pair is annotated for both semantic relatedness and textual entailment.\n",
    ">\n",
    "> Semantic relatedness is measured on a scale from 1 to 5. The general guidelines for each score are:\n",
    ">\n",
    ">    1. Completely different sentences, on different subjects\n",
    ">    1. Sentences are not related, but are roughly on the same subject\n",
    ">    1. Sentences are somewhat related; they may describe different facts but share some details\n",
    ">    1. Sentences are strongly related, but some details differ\n",
    ">    1. Sentences mean essentially the same thing\n",
    ">\n",
    "> A sentence _T_ (the text) entails another sentence _H_ (the hypothesis) if, after reading both and knowing that _T_ is true, a person concludes that _H_ must also be true. ASSIN also distinguishes bidirectional entailment cases, or paraphrases.\n",
    ">\n",
    ">"
   ]
  },
  {
   "cell_type": "markdown",
   "id": "6bef7bee-276e-4704-aba1-1fe256926e98",
   "metadata": {},
   "source": [
    "# Data Input\n",
    "\n",
    "The data was stored in XML format. Let us parse it as a dataframe:"
   ]
  },
  {
   "cell_type": "code",
   "execution_count": 2,
   "id": "ec42a841-7696-41d8-a585-b5716b6cd922",
   "metadata": {
    "execution": {
     "iopub.execute_input": "2022-02-24T16:14:34.170953Z",
     "iopub.status.busy": "2022-02-24T16:14:34.170734Z",
     "iopub.status.idle": "2022-02-24T16:14:34.180166Z",
     "shell.execute_reply": "2022-02-24T16:14:34.179161Z",
     "shell.execute_reply.started": "2022-02-24T16:14:34.170928Z"
    },
    "tags": []
   },
   "outputs": [],
   "source": [
    "def parse_xml(xml_file):\n",
    "    \n",
    "    dataset = str(os.path.basename(xml_file).replace(\".xml\", \"\"))\n",
    "    \n",
    "    \"\"\"Parse xml to pandas dataframe.\"\"\"\n",
    "    xtree = et.parse(xml_file)\n",
    "    xroot = xtree.getroot() \n",
    "\n",
    "    df_cols = ['id', 't', 'h', 'similarity', 'language', 'set']\n",
    "    rows = []\n",
    "\n",
    "    for node in xroot:\n",
    "        id_ = node.attrib.get(\"id\")\n",
    "        similarity = node.attrib.get(\"similarity\")\n",
    "        t = node.find(\"t\").text\n",
    "        h = node.find(\"h\").text\n",
    "\n",
    "        rows.append({\n",
    "            \"id\": int(id_),\n",
    "            \"t\": str(t), \n",
    "            \"h\": str(h),\n",
    "            \"similarity\": float(similarity),\n",
    "            \"language\": dataset[6:10],\n",
    "            \"set\": dataset[11:]\n",
    "        })\n",
    "    return pd.DataFrame(rows, columns=df_cols)"
   ]
  },
  {
   "cell_type": "code",
   "execution_count": 3,
   "id": "636a1a00-70a5-4909-a11e-7a88593def80",
   "metadata": {
    "execution": {
     "iopub.execute_input": "2022-02-24T16:14:34.181633Z",
     "iopub.status.busy": "2022-02-24T16:14:34.181115Z",
     "iopub.status.idle": "2022-02-24T16:14:34.273827Z",
     "shell.execute_reply": "2022-02-24T16:14:34.273039Z",
     "shell.execute_reply.started": "2022-02-24T16:14:34.181569Z"
    },
    "tags": []
   },
   "outputs": [],
   "source": [
    "DATA_DIRECTORY = \"../data/assin_data/\"\n",
    "dataset_names = ['assin-ptbr-train.xml', \n",
    "                 'assin-ptbr-dev.xml', \n",
    "                 'assin-ptbr-test.xml', \n",
    "                 'assin-ptpt-train.xml', \n",
    "                 'assin-ptpt-dev.xml', \n",
    "                 'assin-ptpt-test.xml']\n",
    "\n",
    "df = pd.concat([parse_xml(os.path.join(DATA_DIRECTORY, dataset_name)) \n",
    "                for dataset_name in dataset_names])"
   ]
  },
  {
   "cell_type": "code",
   "execution_count": 4,
   "id": "8ad5b33a-23d7-4c5d-a133-6287d11f710e",
   "metadata": {
    "execution": {
     "iopub.execute_input": "2022-02-24T16:14:34.275027Z",
     "iopub.status.busy": "2022-02-24T16:14:34.274796Z",
     "iopub.status.idle": "2022-02-24T16:14:34.283056Z",
     "shell.execute_reply": "2022-02-24T16:14:34.281965Z",
     "shell.execute_reply.started": "2022-02-24T16:14:34.275005Z"
    },
    "tags": []
   },
   "outputs": [
    {
     "data": {
      "text/plain": [
       "(10000, 6)"
      ]
     },
     "execution_count": 4,
     "metadata": {},
     "output_type": "execute_result"
    }
   ],
   "source": [
    "df.shape"
   ]
  },
  {
   "cell_type": "code",
   "execution_count": 5,
   "id": "1ddd25b3-c58f-499b-8b2f-6b6bfa184c32",
   "metadata": {
    "execution": {
     "iopub.execute_input": "2022-02-24T16:14:34.286023Z",
     "iopub.status.busy": "2022-02-24T16:14:34.284433Z",
     "iopub.status.idle": "2022-02-24T16:14:34.304477Z",
     "shell.execute_reply": "2022-02-24T16:14:34.303610Z",
     "shell.execute_reply.started": "2022-02-24T16:14:34.285994Z"
    },
    "tags": []
   },
   "outputs": [
    {
     "data": {
      "text/html": [
       "<div>\n",
       "<style scoped>\n",
       "    .dataframe tbody tr th:only-of-type {\n",
       "        vertical-align: middle;\n",
       "    }\n",
       "\n",
       "    .dataframe tbody tr th {\n",
       "        vertical-align: top;\n",
       "    }\n",
       "\n",
       "    .dataframe thead th {\n",
       "        text-align: right;\n",
       "    }\n",
       "</style>\n",
       "<table border=\"1\" class=\"dataframe\">\n",
       "  <thead>\n",
       "    <tr style=\"text-align: right;\">\n",
       "      <th></th>\n",
       "      <th></th>\n",
       "      <th>count</th>\n",
       "    </tr>\n",
       "    <tr>\n",
       "      <th>set</th>\n",
       "      <th>language</th>\n",
       "      <th></th>\n",
       "    </tr>\n",
       "  </thead>\n",
       "  <tbody>\n",
       "    <tr>\n",
       "      <th rowspan=\"2\" valign=\"top\">dev</th>\n",
       "      <th>ptbr</th>\n",
       "      <td>500</td>\n",
       "    </tr>\n",
       "    <tr>\n",
       "      <th>ptpt</th>\n",
       "      <td>500</td>\n",
       "    </tr>\n",
       "    <tr>\n",
       "      <th rowspan=\"2\" valign=\"top\">test</th>\n",
       "      <th>ptbr</th>\n",
       "      <td>2000</td>\n",
       "    </tr>\n",
       "    <tr>\n",
       "      <th>ptpt</th>\n",
       "      <td>2000</td>\n",
       "    </tr>\n",
       "    <tr>\n",
       "      <th rowspan=\"2\" valign=\"top\">train</th>\n",
       "      <th>ptbr</th>\n",
       "      <td>2500</td>\n",
       "    </tr>\n",
       "    <tr>\n",
       "      <th>ptpt</th>\n",
       "      <td>2500</td>\n",
       "    </tr>\n",
       "  </tbody>\n",
       "</table>\n",
       "</div>"
      ],
      "text/plain": [
       "                count\n",
       "set   language       \n",
       "dev   ptbr        500\n",
       "      ptpt        500\n",
       "test  ptbr       2000\n",
       "      ptpt       2000\n",
       "train ptbr       2500\n",
       "      ptpt       2500"
      ]
     },
     "execution_count": 5,
     "metadata": {},
     "output_type": "execute_result"
    }
   ],
   "source": [
    "df.groupby([\"set\", \"language\"]).apply(lambda x: pd.Series({\"count\": len(x)}))"
   ]
  },
  {
   "cell_type": "markdown",
   "id": "a617c806-a0cd-4244-b6da-9259e696653d",
   "metadata": {},
   "source": [
    "# Sentence Similarity scores"
   ]
  },
  {
   "cell_type": "code",
   "execution_count": 6,
   "id": "9849e44e-e6c5-42d5-a697-5ed283fd18dd",
   "metadata": {
    "execution": {
     "iopub.execute_input": "2022-02-24T16:14:34.305851Z",
     "iopub.status.busy": "2022-02-24T16:14:34.305431Z",
     "iopub.status.idle": "2022-02-24T16:14:35.506819Z",
     "shell.execute_reply": "2022-02-24T16:14:35.505981Z",
     "shell.execute_reply.started": "2022-02-24T16:14:34.305826Z"
    },
    "tags": []
   },
   "outputs": [
    {
     "name": "stderr",
     "output_type": "stream",
     "text": [
      "/home/jonathan/Workspace/bracis-2021-supp-material/env/lib/python3.8/site-packages/plotnine/utils.py:371: FutureWarning: The frame.append method is deprecated and will be removed from pandas in a future version. Use pandas.concat instead.\n"
     ]
    },
    {
     "data": {
      "image/png": "[encoded data removed]",
      "text/plain": [
       "<Figure size 1000x500 with 6 Axes>"
      ]
     },
     "metadata": {},
     "output_type": "display_data"
    },
    {
     "data": {
      "text/plain": [
       "<ggplot: (8769789382129)>"
      ]
     },
     "execution_count": 6,
     "metadata": {},
     "output_type": "execute_result"
    }
   ],
   "source": [
    "g = (ggplot(df, aes(x='similarity')) +\n",
    "     geom_histogram(binwidth=0.1) + \n",
    "     theme_seaborn() + \n",
    "     theme(figure_size=(10, 5)) +\n",
    "     facet_grid(\"set ~ language\"))\n",
    "\n",
    "g"
   ]
  },
  {
   "cell_type": "markdown",
   "id": "33b039e0-8ddc-4b97-a6cc-02aea24bd29c",
   "metadata": {},
   "source": [
    "# Examples of Sentences"
   ]
  },
  {
   "cell_type": "markdown",
   "id": "8bff6a73-d3da-4dae-84d5-33741d8c3e86",
   "metadata": {},
   "source": [
    "\n",
    "## Similarity = 5 | 🇧🇷 PT-BR"
   ]
  },
  {
   "cell_type": "code",
   "execution_count": 7,
   "id": "714a8350-0727-43e7-aa55-f14528548ff0",
   "metadata": {
    "execution": {
     "iopub.execute_input": "2022-02-24T16:14:35.507987Z",
     "iopub.status.busy": "2022-02-24T16:14:35.507789Z",
     "iopub.status.idle": "2022-02-24T16:14:35.527602Z",
     "shell.execute_reply": "2022-02-24T16:14:35.526847Z",
     "shell.execute_reply.started": "2022-02-24T16:14:35.507964Z"
    },
    "tags": []
   },
   "outputs": [
    {
     "data": {
      "text/html": [
       "<div>\n",
       "<style scoped>\n",
       "    .dataframe tbody tr th:only-of-type {\n",
       "        vertical-align: middle;\n",
       "    }\n",
       "\n",
       "    .dataframe tbody tr th {\n",
       "        vertical-align: top;\n",
       "    }\n",
       "\n",
       "    .dataframe thead th {\n",
       "        text-align: right;\n",
       "    }\n",
       "</style>\n",
       "<table border=\"1\" class=\"dataframe\">\n",
       "  <thead>\n",
       "    <tr style=\"text-align: right;\">\n",
       "      <th></th>\n",
       "      <th></th>\n",
       "      <th></th>\n",
       "    </tr>\n",
       "    <tr>\n",
       "      <th>t</th>\n",
       "      <th>h</th>\n",
       "      <th>similarity</th>\n",
       "    </tr>\n",
       "  </thead>\n",
       "  <tbody>\n",
       "    <tr>\n",
       "      <th>Vou convocar um congresso extraordinário para me substituir enquanto presidente.</th>\n",
       "      <th>Vou organizar um congresso extraordinário para se realizar a minha substituição como presidente.</th>\n",
       "      <th>5.0</th>\n",
       "    </tr>\n",
       "    <tr>\n",
       "      <th>Conseguimos reverter os momentos de abatimento que vinham acontecendo após os gols sofridos.</th>\n",
       "      <th>O time vinha se abatendo quando tomava um gol, e conseguimos reverter isso.</th>\n",
       "      <th>5.0</th>\n",
       "    </tr>\n",
       "    <tr>\n",
       "      <th>Cerca de 5 mil pessoas trabalham usando a plataforma Uber hoje no Brasil.</th>\n",
       "      <th>Atualmente, cerca de 5 mil profissionais atuam usando a plataforma Uber no país.</th>\n",
       "      <th>5.0</th>\n",
       "    </tr>\n",
       "    <tr>\n",
       "      <th>Oito, dos onze ministros, entenderam que as doações empresariais ferem a Constituição e desequilibram a disputa eleitoral.</th>\n",
       "      <th>Por oito votos a três, o Supremo entendeu que as doações empresariais ferem a Constituição e desequilibram a disputa eleitoral.</th>\n",
       "      <th>5.0</th>\n",
       "    </tr>\n",
       "  </tbody>\n",
       "</table>\n",
       "</div>"
      ],
      "text/plain": [
       "Empty DataFrame\n",
       "Columns: []\n",
       "Index: [(Vou convocar um congresso extraordinário para me substituir enquanto presidente., Vou organizar um congresso extraordinário para se realizar a minha substituição como presidente., 5.0), (Conseguimos reverter os momentos de abatimento que vinham acontecendo após os gols sofridos., O time vinha se abatendo quando tomava um gol, e conseguimos reverter isso., 5.0), (Cerca de 5 mil pessoas trabalham usando a plataforma Uber hoje no Brasil., Atualmente, cerca de 5 mil profissionais atuam usando a plataforma Uber no país., 5.0), (Oito, dos onze ministros, entenderam que as doações empresariais ferem a Constituição e desequilibram a disputa eleitoral., Por oito votos a três, o Supremo entendeu que as doações empresariais ferem a Constituição e desequilibram a disputa eleitoral., 5.0)]"
      ]
     },
     "execution_count": 7,
     "metadata": {},
     "output_type": "execute_result"
    }
   ],
   "source": [
    "df[(df[\"language\"] == \"ptbr\") & (df[\"similarity\"] == 5)].set_index([\"t\", \"h\", \"similarity\"])[[]].sample(n=4)"
   ]
  },
  {
   "cell_type": "markdown",
   "id": "a2885ebc-6e99-48ba-a28b-efc6ddb67b55",
   "metadata": {},
   "source": [
    "## Similarity = 5 | 🇵🇹 PT-PT"
   ]
  },
  {
   "cell_type": "code",
   "execution_count": 8,
   "id": "e8dfbcb2-f6e5-470e-ac2a-b288c18507e9",
   "metadata": {
    "execution": {
     "iopub.execute_input": "2022-02-24T16:14:35.529106Z",
     "iopub.status.busy": "2022-02-24T16:14:35.528506Z",
     "iopub.status.idle": "2022-02-24T16:14:35.546898Z",
     "shell.execute_reply": "2022-02-24T16:14:35.546136Z",
     "shell.execute_reply.started": "2022-02-24T16:14:35.529071Z"
    },
    "tags": []
   },
   "outputs": [
    {
     "data": {
      "text/html": [
       "<div>\n",
       "<style scoped>\n",
       "    .dataframe tbody tr th:only-of-type {\n",
       "        vertical-align: middle;\n",
       "    }\n",
       "\n",
       "    .dataframe tbody tr th {\n",
       "        vertical-align: top;\n",
       "    }\n",
       "\n",
       "    .dataframe thead th {\n",
       "        text-align: right;\n",
       "    }\n",
       "</style>\n",
       "<table border=\"1\" class=\"dataframe\">\n",
       "  <thead>\n",
       "    <tr style=\"text-align: right;\">\n",
       "      <th></th>\n",
       "      <th></th>\n",
       "      <th></th>\n",
       "    </tr>\n",
       "    <tr>\n",
       "      <th>t</th>\n",
       "      <th>h</th>\n",
       "      <th>similarity</th>\n",
       "    </tr>\n",
       "  </thead>\n",
       "  <tbody>\n",
       "    <tr>\n",
       "      <th>A Universidade de Yale contou com a colaboração da neozelandeza até à sua morte.</th>\n",
       "      <th>A neozelandeza trabalhou na Universidade de Yale até ao final da sua vida.</th>\n",
       "      <th>5.0</th>\n",
       "    </tr>\n",
       "    <tr>\n",
       "      <th>Por oposição, Chipre e a Grécia falharam na melhoria destes pilares.</th>\n",
       "      <th>Por outro lado, Chipre e a Grécia não conseguiram melhorar nestes pilares.</th>\n",
       "      <th>5.0</th>\n",
       "    </tr>\n",
       "    <tr>\n",
       "      <th>Entretanto, dados gravitacionais coletados durante voos rasantes da sonda suportam a possibilidade de o mar ser global.</th>\n",
       "      <th>No entanto, dados gravitacionais coletados durante voos rasantes da sonda reforçam a chance de o mar ser global.</th>\n",
       "      <th>5.0</th>\n",
       "    </tr>\n",
       "    <tr>\n",
       "      <th>Essa é uma matéria que precisa de estudo e portanto só será posta em prática para 2017.</th>\n",
       "      <th>Essa é outra matéria que exige estudo e portanto nunca será aplicada antes de 2017.</th>\n",
       "      <th>5.0</th>\n",
       "    </tr>\n",
       "  </tbody>\n",
       "</table>\n",
       "</div>"
      ],
      "text/plain": [
       "Empty DataFrame\n",
       "Columns: []\n",
       "Index: [(A Universidade de Yale contou com a colaboração da neozelandeza até à sua morte., A neozelandeza trabalhou na Universidade de Yale até ao final da sua vida., 5.0), (Por oposição, Chipre e a Grécia falharam na melhoria destes pilares., Por outro lado, Chipre e a Grécia não conseguiram melhorar nestes pilares., 5.0), (Entretanto, dados gravitacionais coletados durante voos rasantes da sonda suportam a possibilidade de o mar ser global., No entanto, dados gravitacionais coletados durante voos rasantes da sonda reforçam a chance de o mar ser global., 5.0), (Essa é uma matéria que precisa de estudo e portanto só será posta em prática para 2017., Essa é outra matéria que exige estudo e portanto nunca será aplicada antes de 2017., 5.0)]"
      ]
     },
     "execution_count": 8,
     "metadata": {},
     "output_type": "execute_result"
    }
   ],
   "source": [
    "df[(df[\"language\"] == \"ptpt\") & (df[\"similarity\"] == 5)].set_index([\"t\", \"h\", \"similarity\"])[[]].sample(n=4)"
   ]
  },
  {
   "cell_type": "markdown",
   "id": "c6b04dc5-c71e-4e76-a130-e0b28414c039",
   "metadata": {},
   "source": [
    "\n",
    "## Similarity = 4 | 🇧🇷 PT-BR"
   ]
  },
  {
   "cell_type": "code",
   "execution_count": 9,
   "id": "4a23aeaa-b225-4870-8839-109f05351041",
   "metadata": {
    "execution": {
     "iopub.execute_input": "2022-02-24T16:14:35.548348Z",
     "iopub.status.busy": "2022-02-24T16:14:35.548102Z",
     "iopub.status.idle": "2022-02-24T16:14:35.563285Z",
     "shell.execute_reply": "2022-02-24T16:14:35.562572Z",
     "shell.execute_reply.started": "2022-02-24T16:14:35.548307Z"
    },
    "tags": []
   },
   "outputs": [
    {
     "data": {
      "text/html": [
       "<div>\n",
       "<style scoped>\n",
       "    .dataframe tbody tr th:only-of-type {\n",
       "        vertical-align: middle;\n",
       "    }\n",
       "\n",
       "    .dataframe tbody tr th {\n",
       "        vertical-align: top;\n",
       "    }\n",
       "\n",
       "    .dataframe thead th {\n",
       "        text-align: right;\n",
       "    }\n",
       "</style>\n",
       "<table border=\"1\" class=\"dataframe\">\n",
       "  <thead>\n",
       "    <tr style=\"text-align: right;\">\n",
       "      <th></th>\n",
       "      <th></th>\n",
       "      <th></th>\n",
       "    </tr>\n",
       "    <tr>\n",
       "      <th>t</th>\n",
       "      <th>h</th>\n",
       "      <th>similarity</th>\n",
       "    </tr>\n",
       "  </thead>\n",
       "  <tbody>\n",
       "    <tr>\n",
       "      <th>Quando o Dragão trocava bola e esperava o final da partida veio o castigo aos 41 minutos.</th>\n",
       "      <th>O castigo do Dragão veio aos 41 minutos.</th>\n",
       "      <th>4.0</th>\n",
       "    </tr>\n",
       "    <tr>\n",
       "      <th>O zagueiro do Real Madrid, Pepe, renovou contrato com o clube merengue, até 2017.</th>\n",
       "      <th>Pepe renovou o contrato com o Real Madrid esta sexta-feira, dia 21.</th>\n",
       "      <th>4.0</th>\n",
       "    </tr>\n",
       "    <tr>\n",
       "      <th>De quebra, o atacante sueco de 34 anos também se tornou o maior artilheiro do Paris Saint-Germain.</th>\n",
       "      <th>Agora, o sueco é o maior artilheiro da história do Paris Saint-Germain.</th>\n",
       "      <th>4.0</th>\n",
       "    </tr>\n",
       "    <tr>\n",
       "      <th>Os primeiros a experimentar os vídeos de perfil são donos de iPhones do Reino Unido e do estado da Califórnia (EUA).</th>\n",
       "      <th>Similar às chamadas Live Photos dos novos iPhones, os vídeos de perfil chegam primeiro aos usuários dos EUA e Reino Unido.</th>\n",
       "      <th>4.0</th>\n",
       "    </tr>\n",
       "  </tbody>\n",
       "</table>\n",
       "</div>"
      ],
      "text/plain": [
       "Empty DataFrame\n",
       "Columns: []\n",
       "Index: [(Quando o Dragão trocava bola e esperava o final da partida veio o castigo aos 41 minutos., O castigo do Dragão veio aos 41 minutos., 4.0), (O zagueiro do Real Madrid, Pepe, renovou contrato com o clube merengue, até 2017., Pepe renovou o contrato com o Real Madrid esta sexta-feira, dia 21., 4.0), (De quebra, o atacante sueco de 34 anos também se tornou o maior artilheiro do Paris Saint-Germain., Agora, o sueco é o maior artilheiro da história do Paris Saint-Germain., 4.0), (Os primeiros a experimentar os vídeos de perfil são donos de iPhones do Reino Unido e do estado da Califórnia (EUA)., Similar às chamadas Live Photos dos novos iPhones, os vídeos de perfil chegam primeiro aos usuários dos EUA e Reino Unido., 4.0)]"
      ]
     },
     "execution_count": 9,
     "metadata": {},
     "output_type": "execute_result"
    }
   ],
   "source": [
    "df[(df[\"language\"] == \"ptbr\") & (df[\"similarity\"] == 4)].set_index([\"t\", \"h\", \"similarity\"])[[]].sample(n=4)"
   ]
  },
  {
   "cell_type": "markdown",
   "id": "59b8f37f-89ad-4e05-9ba9-bbc3277d676a",
   "metadata": {},
   "source": [
    "## Similarity = 4 | 🇵🇹 PT-PT"
   ]
  },
  {
   "cell_type": "code",
   "execution_count": 10,
   "id": "8938a13d-fa19-493f-b7b7-d1584d9263df",
   "metadata": {
    "execution": {
     "iopub.execute_input": "2022-02-24T16:14:35.564148Z",
     "iopub.status.busy": "2022-02-24T16:14:35.563987Z",
     "iopub.status.idle": "2022-02-24T16:14:35.579751Z",
     "shell.execute_reply": "2022-02-24T16:14:35.579119Z",
     "shell.execute_reply.started": "2022-02-24T16:14:35.564133Z"
    },
    "tags": []
   },
   "outputs": [
    {
     "data": {
      "text/html": [
       "<div>\n",
       "<style scoped>\n",
       "    .dataframe tbody tr th:only-of-type {\n",
       "        vertical-align: middle;\n",
       "    }\n",
       "\n",
       "    .dataframe tbody tr th {\n",
       "        vertical-align: top;\n",
       "    }\n",
       "\n",
       "    .dataframe thead th {\n",
       "        text-align: right;\n",
       "    }\n",
       "</style>\n",
       "<table border=\"1\" class=\"dataframe\">\n",
       "  <thead>\n",
       "    <tr style=\"text-align: right;\">\n",
       "      <th></th>\n",
       "      <th></th>\n",
       "      <th></th>\n",
       "    </tr>\n",
       "    <tr>\n",
       "      <th>t</th>\n",
       "      <th>h</th>\n",
       "      <th>similarity</th>\n",
       "    </tr>\n",
       "  </thead>\n",
       "  <tbody>\n",
       "    <tr>\n",
       "      <th>Na história do Nobel da Literatura, apenas um autor português foi premiado, quando, em 1998, José Saramago recebeu o galardão.</th>\n",
       "      <th>José Saramago é até agora o único autor português que recebeu este prémio Nobel da Literatura.</th>\n",
       "      <th>4.0</th>\n",
       "    </tr>\n",
       "    <tr>\n",
       "      <th>O FC Porto venceu o Benfica (30-25), esta quarta-feira, em jogo da sétima jornada do Nacional de andebol.</th>\n",
       "      <th>O FC Porto venceu, nesta quarta-feira, o Benfica (30-25) no encontro realizado no Dragão Caixa.</th>\n",
       "      <th>4.0</th>\n",
       "    </tr>\n",
       "    <tr>\n",
       "      <th>O presidente do Rio Ave confirmou a transferência de Marvin Zeegelaar para o Sporting já em janeiro.</th>\n",
       "      <th>Marvin Zeegelaar será jogador do Sporting a partir de janeiro.</th>\n",
       "      <th>4.0</th>\n",
       "    </tr>\n",
       "    <tr>\n",
       "      <th>A loja de aplicações da Apple foi atacada por hackers pela primeira vez, confirmado pela empresa.</th>\n",
       "      <th>O ataque à loja de aplicações foi confirmado pela própria Apple.</th>\n",
       "      <th>4.0</th>\n",
       "    </tr>\n",
       "  </tbody>\n",
       "</table>\n",
       "</div>"
      ],
      "text/plain": [
       "Empty DataFrame\n",
       "Columns: []\n",
       "Index: [(Na história do Nobel da Literatura, apenas um autor português foi premiado, quando, em 1998, José Saramago recebeu o galardão., José Saramago é até agora o único autor português que recebeu este prémio Nobel da Literatura., 4.0), (O FC Porto venceu o Benfica (30-25), esta quarta-feira, em jogo da sétima jornada do Nacional de andebol., O FC Porto venceu, nesta quarta-feira, o Benfica (30-25) no encontro realizado no Dragão Caixa., 4.0), (O presidente do Rio Ave confirmou a transferência de Marvin Zeegelaar para o Sporting já em janeiro., Marvin Zeegelaar será jogador do Sporting a partir de janeiro., 4.0), (A loja de aplicações da Apple foi atacada por hackers pela primeira vez, confirmado pela empresa., O ataque à loja de aplicações foi confirmado pela própria Apple., 4.0)]"
      ]
     },
     "execution_count": 10,
     "metadata": {},
     "output_type": "execute_result"
    }
   ],
   "source": [
    "df[(df[\"language\"] == \"ptpt\") & (df[\"similarity\"] == 4)].set_index([\"t\", \"h\", \"similarity\"])[[]].sample(n=4)"
   ]
  },
  {
   "cell_type": "markdown",
   "id": "1c277f13-9bba-4809-8aa7-afaac80c027c",
   "metadata": {},
   "source": [
    "\n",
    "## Similarity = 1 | 🇧🇷 PT-BR"
   ]
  },
  {
   "cell_type": "code",
   "execution_count": 11,
   "id": "a654afb6-f94e-4113-a4c9-2912bf10cf96",
   "metadata": {
    "execution": {
     "iopub.execute_input": "2022-02-24T16:14:35.580877Z",
     "iopub.status.busy": "2022-02-24T16:14:35.580664Z",
     "iopub.status.idle": "2022-02-24T16:14:35.596717Z",
     "shell.execute_reply": "2022-02-24T16:14:35.595962Z",
     "shell.execute_reply.started": "2022-02-24T16:14:35.580854Z"
    },
    "tags": []
   },
   "outputs": [
    {
     "data": {
      "text/html": [
       "<div>\n",
       "<style scoped>\n",
       "    .dataframe tbody tr th:only-of-type {\n",
       "        vertical-align: middle;\n",
       "    }\n",
       "\n",
       "    .dataframe tbody tr th {\n",
       "        vertical-align: top;\n",
       "    }\n",
       "\n",
       "    .dataframe thead th {\n",
       "        text-align: right;\n",
       "    }\n",
       "</style>\n",
       "<table border=\"1\" class=\"dataframe\">\n",
       "  <thead>\n",
       "    <tr style=\"text-align: right;\">\n",
       "      <th></th>\n",
       "      <th></th>\n",
       "      <th></th>\n",
       "    </tr>\n",
       "    <tr>\n",
       "      <th>t</th>\n",
       "      <th>h</th>\n",
       "      <th>similarity</th>\n",
       "    </tr>\n",
       "  </thead>\n",
       "  <tbody>\n",
       "    <tr>\n",
       "      <th>Fica uma sensação de amargura pela partida.</th>\n",
       "      <th>Estava a metros e ficou claro que ele solou.</th>\n",
       "      <th>1.0</th>\n",
       "    </tr>\n",
       "    <tr>\n",
       "      <th>Eu falo aqui no programa, e estou à disposição.</th>\n",
       "      <th>Gilmar Rinaldi desafiou o senador Romário.</th>\n",
       "      <th>1.0</th>\n",
       "    </tr>\n",
       "    <tr>\n",
       "      <th>O prazo terminará dia 28 de julho.</th>\n",
       "      <th>Foi antes da meia-noite, às 23h40m.</th>\n",
       "      <th>1.0</th>\n",
       "    </tr>\n",
       "    <tr>\n",
       "      <th>Então, quem sabe o que o futuro nos reserva.</th>\n",
       "      <th>Então sou amigo dela antes dela ser drag.</th>\n",
       "      <th>1.0</th>\n",
       "    </tr>\n",
       "  </tbody>\n",
       "</table>\n",
       "</div>"
      ],
      "text/plain": [
       "Empty DataFrame\n",
       "Columns: []\n",
       "Index: [(Fica uma sensação de amargura pela partida., Estava a metros e ficou claro que ele solou., 1.0), (Eu falo aqui no programa, e estou à disposição., Gilmar Rinaldi desafiou o senador Romário., 1.0), (O prazo terminará dia 28 de julho., Foi antes da meia-noite, às 23h40m., 1.0), (Então, quem sabe o que o futuro nos reserva., Então sou amigo dela antes dela ser drag., 1.0)]"
      ]
     },
     "execution_count": 11,
     "metadata": {},
     "output_type": "execute_result"
    }
   ],
   "source": [
    "df[(df[\"language\"] == \"ptbr\") & (df[\"similarity\"] == 1)].set_index([\"t\", \"h\", \"similarity\"])[[]].sample(n=4)"
   ]
  },
  {
   "cell_type": "markdown",
   "id": "44220be5-dd4b-4e5a-acf6-73385aa80990",
   "metadata": {},
   "source": [
    "## Similarity = 1 | 🇵🇹 PT-PT"
   ]
  },
  {
   "cell_type": "code",
   "execution_count": 12,
   "id": "45d6b8f2-b61b-498a-b0a9-5ca71600a1ac",
   "metadata": {
    "execution": {
     "iopub.execute_input": "2022-02-24T16:14:35.598261Z",
     "iopub.status.busy": "2022-02-24T16:14:35.597552Z",
     "iopub.status.idle": "2022-02-24T16:14:35.615501Z",
     "shell.execute_reply": "2022-02-24T16:14:35.614330Z",
     "shell.execute_reply.started": "2022-02-24T16:14:35.598219Z"
    },
    "tags": []
   },
   "outputs": [
    {
     "data": {
      "text/html": [
       "<div>\n",
       "<style scoped>\n",
       "    .dataframe tbody tr th:only-of-type {\n",
       "        vertical-align: middle;\n",
       "    }\n",
       "\n",
       "    .dataframe tbody tr th {\n",
       "        vertical-align: top;\n",
       "    }\n",
       "\n",
       "    .dataframe thead th {\n",
       "        text-align: right;\n",
       "    }\n",
       "</style>\n",
       "<table border=\"1\" class=\"dataframe\">\n",
       "  <thead>\n",
       "    <tr style=\"text-align: right;\">\n",
       "      <th></th>\n",
       "      <th></th>\n",
       "      <th></th>\n",
       "    </tr>\n",
       "    <tr>\n",
       "      <th>t</th>\n",
       "      <th>h</th>\n",
       "      <th>similarity</th>\n",
       "    </tr>\n",
       "  </thead>\n",
       "  <tbody>\n",
       "    <tr>\n",
       "      <th>Fontes do Governo não esperavam avanços nesta cimeira.</th>\n",
       "      <th>Esse prazo é irreal e as conversações deverão prolongar-se até Abril.</th>\n",
       "      <th>1.0</th>\n",
       "    </tr>\n",
       "    <tr>\n",
       "      <th>Naquele ano, a expectativa de vida delas era de 76,8 anos, contra 70,2 deles.</th>\n",
       "      <th>No ano anterior, o número estava em 19,4% e 10 anos antes, em 14,7%.</th>\n",
       "      <th>1.0</th>\n",
       "    </tr>\n",
       "    <tr>\n",
       "      <th>A Altice Labs tem também em curso várias candidaturas a fundos comunitários.</th>\n",
       "      <th>Hoje é o primeiro dia da vida da Altice Labs.</th>\n",
       "      <th>1.0</th>\n",
       "    </tr>\n",
       "    <tr>\n",
       "      <th>Sampaio da Nóvoa passará o resto do dia no Porto.</th>\n",
       "      <th>Sampaio da Nóvoa desta vez não se perdeu em palavras retóricas.</th>\n",
       "      <th>1.0</th>\n",
       "    </tr>\n",
       "  </tbody>\n",
       "</table>\n",
       "</div>"
      ],
      "text/plain": [
       "Empty DataFrame\n",
       "Columns: []\n",
       "Index: [(Fontes do Governo não esperavam avanços nesta cimeira., Esse prazo é irreal e as conversações deverão prolongar-se até Abril., 1.0), (Naquele ano, a expectativa de vida delas era de 76,8 anos, contra 70,2 deles., No ano anterior, o número estava em 19,4% e 10 anos antes, em 14,7%., 1.0), (A Altice Labs tem também em curso várias candidaturas a fundos comunitários., Hoje é o primeiro dia da vida da Altice Labs., 1.0), (Sampaio da Nóvoa passará o resto do dia no Porto., Sampaio da Nóvoa desta vez não se perdeu em palavras retóricas., 1.0)]"
      ]
     },
     "execution_count": 12,
     "metadata": {},
     "output_type": "execute_result"
    }
   ],
   "source": [
    "df[(df[\"language\"] == \"ptpt\") & (df[\"similarity\"] == 1)].set_index([\"t\", \"h\", \"similarity\"])[[]].sample(n=4)"
   ]
  },
  {
   "cell_type": "code",
   "execution_count": 13,
   "id": "2e8de23a-996a-4a67-bd13-9d50d48f4038",
   "metadata": {
    "execution": {
     "iopub.execute_input": "2022-02-24T16:14:35.616915Z",
     "iopub.status.busy": "2022-02-24T16:14:35.616685Z",
     "iopub.status.idle": "2022-02-24T16:14:45.827171Z",
     "shell.execute_reply": "2022-02-24T16:14:45.826045Z",
     "shell.execute_reply.started": "2022-02-24T16:14:35.616891Z"
    },
    "tags": []
   },
   "outputs": [
    {
     "name": "stderr",
     "output_type": "stream",
     "text": [
      "Some weights of BertForPreTraining were not initialized from the model checkpoint at neuralmind/bert-base-portuguese-cased and are newly initialized: ['cls.predictions.decoder.bias']\n",
      "You should probably TRAIN this model on a down-stream task to be able to use it for predictions and inference.\n"
     ]
    }
   ],
   "source": [
    "from transformers import AutoTokenizer  # Or BertTokenizer\n",
    "from transformers import AutoModelForPreTraining  # Or BertForPreTraining for loading pretraining heads\n",
    "from transformers import AutoModel  # or BertModel, for BERT without pretraining heads\n",
    "\n",
    "model = AutoModelForPreTraining.from_pretrained('neuralmind/bert-base-portuguese-cased')\n",
    "tokenizer = AutoTokenizer.from_pretrained('neuralmind/bert-base-portuguese-cased', do_lower_case=False)"
   ]
  },
  {
   "cell_type": "code",
   "execution_count": 14,
   "id": "4122ee9b-c4de-4f32-9a12-ace5efbb9750",
   "metadata": {
    "execution": {
     "iopub.execute_input": "2022-02-24T16:14:45.830153Z",
     "iopub.status.busy": "2022-02-24T16:14:45.829910Z",
     "iopub.status.idle": "2022-02-24T16:14:46.364987Z",
     "shell.execute_reply": "2022-02-24T16:14:46.362972Z",
     "shell.execute_reply.started": "2022-02-24T16:14:45.830125Z"
    },
    "tags": []
   },
   "outputs": [
    {
     "ename": "NameError",
     "evalue": "name 'MODEL_DIRECTORY' is not defined",
     "output_type": "error",
     "traceback": [
      "\u001b[0;31m---------------------------------------------------------------------------\u001b[0m",
      "\u001b[0;31mNameError\u001b[0m                                 Traceback (most recent call last)",
      "Input \u001b[0;32mIn [14]\u001b[0m, in \u001b[0;36m<module>\u001b[0;34m\u001b[0m\n\u001b[1;32m      1\u001b[0m \u001b[38;5;28;01mfrom\u001b[39;00m \u001b[38;5;21;01mtransformers\u001b[39;00m \u001b[38;5;28;01mimport\u001b[39;00m BertModel, BertTokenizer\n\u001b[0;32m----> 3\u001b[0m tokenizer \u001b[38;5;241m=\u001b[39m BertTokenizer\u001b[38;5;241m.\u001b[39mfrom_pretrained(os\u001b[38;5;241m.\u001b[39mpath\u001b[38;5;241m.\u001b[39mjoin(\u001b[43mMODEL_DIRECTORY\u001b[49m, MODEL_NAME), do_lower_case\u001b[38;5;241m=\u001b[39m\u001b[38;5;28;01mFalse\u001b[39;00m)\n\u001b[1;32m      4\u001b[0m bert_model \u001b[38;5;241m=\u001b[39m BertModel\u001b[38;5;241m.\u001b[39mfrom_pretrained(os\u001b[38;5;241m.\u001b[39mpath\u001b[38;5;241m.\u001b[39mjoin(MODEL_DIRECTORY, MODEL_NAME))\n\u001b[1;32m      6\u001b[0m bert_transformer \u001b[38;5;241m=\u001b[39m BertTransformer(tokenizer, bert_model)\n",
      "\u001b[0;31mNameError\u001b[0m: name 'MODEL_DIRECTORY' is not defined"
     ]
    }
   ],
   "source": [
    "from transformers import BertModel, BertTokenizer\n",
    "\n",
    "tokenizer = BertTokenizer.from_pretrained(os.path.join(MODEL_DIRECTORY, MODEL_NAME), do_lower_case=False)\n",
    "bert_model = BertModel.from_pretrained(os.path.join(MODEL_DIRECTORY, MODEL_NAME))\n",
    "\n",
    "bert_transformer = BertTransformer(tokenizer, bert_model)"
   ]
  },
  {
   "cell_type": "code",
   "execution_count": null,
   "id": "efb42169-83d8-4a76-ba64-2390c4220564",
   "metadata": {
    "execution": {
     "iopub.status.busy": "2022-02-24T16:14:46.365990Z",
     "iopub.status.idle": "2022-02-24T16:14:46.366445Z",
     "shell.execute_reply": "2022-02-24T16:14:46.366252Z",
     "shell.execute_reply.started": "2022-02-24T16:14:46.366215Z"
    },
    "tags": []
   },
   "outputs": [],
   "source": [
    "# Prepare sentences for BERT\n",
    "\n",
    "sentences = [\"[CLS] \" + query + \" [SEP]\" for query in tqdm.tqdm(df[\"t\"])]\n",
    "\n",
    "tokenized_texts = [tokenizer.tokenize(sent) for sent in sentences]"
   ]
  },
  {
   "cell_type": "code",
   "execution_count": null,
   "id": "c171b63b-c08b-4fc6-8ee8-a3628f8696bd",
   "metadata": {
    "execution": {
     "iopub.status.busy": "2022-02-24T16:14:46.368481Z",
     "iopub.status.idle": "2022-02-24T16:14:46.368883Z",
     "shell.execute_reply": "2022-02-24T16:14:46.368704Z",
     "shell.execute_reply.started": "2022-02-24T16:14:46.368687Z"
    },
    "tags": []
   },
   "outputs": [],
   "source": [
    "tokenized_text = tokenizer.encode_plus(df[\"t\"].head().tolist(), add_special_tokens=True)\n",
    "\n",
    "torch.tensor(tokenized_text[\"input_ids\"])"
   ]
  },
  {
   "cell_type": "code",
   "execution_count": null,
   "id": "41b2dd62-4f49-46e7-918c-21a8eb3b3dcb",
   "metadata": {
    "execution": {
     "iopub.status.busy": "2022-02-24T16:14:46.370588Z",
     "iopub.status.idle": "2022-02-24T16:14:46.370929Z",
     "shell.execute_reply": "2022-02-24T16:14:46.370801Z",
     "shell.execute_reply.started": "2022-02-24T16:14:46.370781Z"
    },
    "tags": []
   },
   "outputs": [],
   "source": [
    "tokenized_texts"
   ]
  },
  {
   "cell_type": "code",
   "execution_count": null,
   "id": "f539af25-119b-404e-bd60-71f3b11eca96",
   "metadata": {
    "execution": {
     "iopub.status.busy": "2022-02-24T16:14:46.372089Z",
     "iopub.status.idle": "2022-02-24T16:14:46.372371Z",
     "shell.execute_reply": "2022-02-24T16:14:46.372245Z",
     "shell.execute_reply.started": "2022-02-24T16:14:46.372232Z"
    },
    "tags": []
   },
   "outputs": [],
   "source": [
    "df[\"t\"].iloc[2]"
   ]
  },
  {
   "cell_type": "code",
   "execution_count": null,
   "id": "9ac79b4f-b959-4f9e-ad31-8b2a88a32df4",
   "metadata": {
    "execution": {
     "iopub.status.busy": "2022-02-24T16:14:46.373632Z",
     "iopub.status.idle": "2022-02-24T16:14:46.374076Z",
     "shell.execute_reply": "2022-02-24T16:14:46.373900Z",
     "shell.execute_reply.started": "2022-02-24T16:14:46.373878Z"
    },
    "tags": []
   },
   "outputs": [],
   "source": [
    "tokenized_texts[2]"
   ]
  },
  {
   "cell_type": "code",
   "execution_count": null,
   "id": "cc0bd16b-300e-4a62-87ee-9878abf481a8",
   "metadata": {
    "execution": {
     "iopub.status.busy": "2022-02-24T16:14:46.376393Z",
     "iopub.status.idle": "2022-02-24T16:14:46.376764Z",
     "shell.execute_reply": "2022-02-24T16:14:46.376582Z",
     "shell.execute_reply.started": "2022-02-24T16:14:46.376566Z"
    },
    "tags": []
   },
   "outputs": [],
   "source": [
    "bert_transformer.tokenizer.tokenize(df['t'].head(5).tolist())"
   ]
  },
  {
   "cell_type": "code",
   "execution_count": null,
   "id": "0b1aa1df-568f-47d9-b9b0-d420a376c60a",
   "metadata": {
    "execution": {
     "iopub.status.busy": "2022-02-24T16:14:46.378548Z",
     "iopub.status.idle": "2022-02-24T16:14:46.378989Z",
     "shell.execute_reply": "2022-02-24T16:14:46.378796Z",
     "shell.execute_reply.started": "2022-02-24T16:14:46.378779Z"
    },
    "tags": []
   },
   "outputs": [],
   "source": [
    "from transformers import pipeline\n",
    "\n",
    "pipe = pipeline('fill-mask', model=model, tokenizer=tokenizer)\n",
    "\n",
    "pipe('Tinha uma [MASK] no meio do caminho.')"
   ]
  },
  {
   "cell_type": "code",
   "execution_count": null,
   "id": "b62e88af-d3ca-4362-b3e9-f2eb8c7d32e3",
   "metadata": {
    "execution": {
     "iopub.status.busy": "2022-02-24T16:14:46.382680Z",
     "iopub.status.idle": "2022-02-24T16:14:46.382972Z",
     "shell.execute_reply": "2022-02-24T16:14:46.382872Z",
     "shell.execute_reply.started": "2022-02-24T16:14:46.382861Z"
    },
    "tags": []
   },
   "outputs": [],
   "source": [
    "bert_transformer = BertTransformer(tokenizer, model)\n",
    "t_embeddings = bert_transformer.transform(df['t'].tolist())\n",
    "h_embeddings = bert_transformer.transform(df['h'].tolist())"
   ]
  },
  {
   "cell_type": "code",
   "execution_count": null,
   "id": "e30f713c-599b-482f-ad66-e4280cdeee58",
   "metadata": {
    "execution": {
     "iopub.status.busy": "2022-02-24T16:14:46.383861Z",
     "iopub.status.idle": "2022-02-24T16:14:46.384071Z",
     "shell.execute_reply": "2022-02-24T16:14:46.383969Z",
     "shell.execute_reply.started": "2022-02-24T16:14:46.383959Z"
    },
    "tags": []
   },
   "outputs": [],
   "source": [
    "t_embeddings"
   ]
  },
  {
   "cell_type": "code",
   "execution_count": null,
   "id": "909f6723-7769-456f-8229-b4a0cd065e85",
   "metadata": {
    "execution": {
     "iopub.status.busy": "2022-02-24T16:14:46.387815Z",
     "iopub.status.idle": "2022-02-24T16:14:46.388044Z",
     "shell.execute_reply": "2022-02-24T16:14:46.387928Z",
     "shell.execute_reply.started": "2022-02-24T16:14:46.387917Z"
    },
    "tags": []
   },
   "outputs": [],
   "source": [
    "from sentence_transformers import SentenceTransformer\n",
    "\n",
    "model = SentenceTransformer(MODEL_NAME, device=\"cpu\")\n",
    "\n",
    "t_embeddings = model.encode(df['t'].tolist(), show_progress_bar=True)"
   ]
  },
  {
   "cell_type": "code",
   "execution_count": null,
   "id": "0049778d-fe1a-4608-ae4c-0b5bdb321af8",
   "metadata": {
    "execution": {
     "iopub.status.busy": "2022-02-24T16:14:46.389064Z",
     "iopub.status.idle": "2022-02-24T16:14:46.389251Z",
     "shell.execute_reply": "2022-02-24T16:14:46.389170Z",
     "shell.execute_reply.started": "2022-02-24T16:14:46.389160Z"
    },
    "tags": []
   },
   "outputs": [],
   "source": [
    "t_embeddings[0,:]"
   ]
  }
 ],
 "metadata": {
  "kernelspec": {
   "display_name": "env",
   "language": "python",
   "name": "env"
  },
  "language_info": {
   "codemirror_mode": {
    "name": "ipython",
    "version": 3
   },
   "file_extension": ".py",
   "mimetype": "text/x-python",
   "name": "python",
   "nbconvert_exporter": "python",
   "pygments_lexer": "ipython3",
   "version": "3.8.10"
  }
 },
 "nbformat": 4,
 "nbformat_minor": 5
}
