{
 "cells": [
  {
   "cell_type": "markdown",
   "id": "46e2c96b-08c3-4f18-99a2-6c1c59f1b10e",
   "metadata": {},
   "source": [
    "**OBJECTIVE:** Explore the tokens produced by BERT\n",
    "\n",
    "**AUTHOR:** [@jonjoncardoso](https://github.com/jonjoncardoso)\n",
    "\n",
    "**LAST UPDATED:** 24/02/2022\n",
    "\n",
    "Content related to the article:\n",
    "\n",
    "---\n",
    "<div class=\"csl-entry\">Andrade Junior, J. E., Cardoso-Silva, J., &#38; Bezerra, L. C. T. (2021). Comparing Contextual Embeddings for Semantic Textual Similarity in Portuguese. <i>Lecture Notes in Computer Science (Including Subseries Lecture Notes in Artificial Intelligence and Lecture Notes in Bioinformatics)</i>, <i>13074 LNAI</i>, 389–404. </div>\n",
    "\n",
    "----\n",
    "\n",
    "Link to download [here](https://www.researchgate.net/publication/356582885_Comparing_Contextual_Embeddings_for_Semantic_Textual_Similarity_in_Portuguese)"
   ]
  },
  {
   "cell_type": "markdown",
   "id": "e643d403-a25d-43ca-b5ce-7a67b2c27492",
   "metadata": {},
   "source": [
    "# Imports & Constants"
   ]
  },
  {
   "cell_type": "code",
   "execution_count": 225,
   "id": "17b83eba-4dc0-4ca0-84b2-58fd9693818b",
   "metadata": {
    "execution": {
     "iopub.execute_input": "2022-02-24T15:56:58.582459Z",
     "iopub.status.busy": "2022-02-24T15:56:58.582209Z",
     "iopub.status.idle": "2022-02-24T15:56:58.592941Z",
     "shell.execute_reply": "2022-02-24T15:56:58.591601Z",
     "shell.execute_reply.started": "2022-02-24T15:56:58.582439Z"
    },
    "tags": []
   },
   "outputs": [],
   "source": [
    "import os\n",
    "import csv\n",
    "import tqdm\n",
    "import math\n",
    "\n",
    "import warnings\n",
    "warnings.filterwarnings(\"ignore\")\n",
    "\n",
    "import numpy as np\n",
    "import pandas as pd\n",
    "import xml.etree.ElementTree as et \n",
    "\n",
    "from datetime import datetime\n",
    "from transformers import AutoTokenizer, AutoModel\n",
    "from scipy.stats import pearsonr\n",
    "from plotnine import *\n",
    "\n",
    "from torch.utils.data import DataLoader\n",
    "from sentence_transformers import SentenceTransformer,  SentencesDataset, LoggingHandler, losses, util, InputExample\n",
    "from sentence_transformers.evaluation import EmbeddingSimilarityEvaluator\n",
    "from sklearn.metrics.pairwise import  cosine_similarity\n",
    "\n",
    "DATA_DIRECTORY = \"../data/assin_data/\"\n",
    "DATASET_NAMES = ['assin-ptbr-train.xml', \n",
    "                 'assin-ptbr-dev.xml', \n",
    "                 'assin-ptbr-test.xml', \n",
    "                 'assin-ptpt-train.xml', \n",
    "                 'assin-ptpt-dev.xml', \n",
    "                 'assin-ptpt-test.xml']\n",
    "\n",
    "MODEL_DIRECTORY = \"../models/hugging-face-models/\"\n",
    "BERTIMBAU_BASE_MODEL = \"neuralmind/bert-base-portuguese-cased\"\n",
    "BERTIMBAU_LARGE_MODEL = \"neuralmind/bert-large-portuguese-cased\""
   ]
  },
  {
   "cell_type": "code",
   "execution_count": 2,
   "id": "ce6700e8-a5f1-4849-94d2-30479eca0778",
   "metadata": {
    "execution": {
     "iopub.execute_input": "2022-02-24T11:39:38.378499Z",
     "iopub.status.busy": "2022-02-24T11:39:38.378391Z",
     "iopub.status.idle": "2022-02-24T11:39:38.494918Z",
     "shell.execute_reply": "2022-02-24T11:39:38.494261Z",
     "shell.execute_reply.started": "2022-02-24T11:39:38.378487Z"
    },
    "tags": []
   },
   "outputs": [],
   "source": [
    "!mkdir -p {MODEL_DIRECTORY}"
   ]
  },
  {
   "cell_type": "markdown",
   "id": "066def0d-b2df-46e7-9235-2c0d399a1f4b",
   "metadata": {
    "tags": []
   },
   "source": [
    "# Dataset Description\n",
    "\n",
    "The data we are using was annotated in two workshops: [ASSIN](http://propor2016.di.fc.ul.pt/?page_id=381) & [ASSIN2 workshop](https://sites.google.com/view/assin2/).\n",
    "\n",
    "The following description comes from the ASSIN website:\n",
    "\n",
    "> **Task Description**\n",
    ">\n",
    "> The ASSIN dataset contains 10,000 sentence pairs collected from Google News, half from Brazilian sources and half from Portuguese ones. 6,000 pairs are released for training and the remaining will serve as a blind test set. Each pair is annotated for both semantic relatedness and textual entailment.\n",
    ">\n",
    "> Semantic relatedness is measured on a scale from 1 to 5. The general guidelines for each score are:\n",
    ">\n",
    ">    1. Completely different sentences, on different subjects\n",
    ">    1. Sentences are not related, but are roughly on the same subject\n",
    ">    1. Sentences are somewhat related; they may describe different facts but share some details\n",
    ">    1. Sentences are strongly related, but some details differ\n",
    ">    1. Sentences mean essentially the same thing\n",
    ">\n",
    "> A sentence _T_ (the text) entails another sentence _H_ (the hypothesis) if, after reading both and knowing that _T_ is true, a person concludes that _H_ must also be true. ASSIN also distinguishes bidirectional entailment cases, or paraphrases.\n",
    ">\n",
    ">"
   ]
  },
  {
   "cell_type": "markdown",
   "id": "6bef7bee-276e-4704-aba1-1fe256926e98",
   "metadata": {},
   "source": [
    "# Data Input\n",
    "\n",
    "The data was stored in XML format. Let us parse it as a dataframe:"
   ]
  },
  {
   "cell_type": "code",
   "execution_count": 3,
   "id": "ec42a841-7696-41d8-a585-b5716b6cd922",
   "metadata": {
    "execution": {
     "iopub.execute_input": "2022-02-24T11:39:38.495856Z",
     "iopub.status.busy": "2022-02-24T11:39:38.495734Z",
     "iopub.status.idle": "2022-02-24T11:39:38.501007Z",
     "shell.execute_reply": "2022-02-24T11:39:38.500351Z",
     "shell.execute_reply.started": "2022-02-24T11:39:38.495842Z"
    },
    "tags": []
   },
   "outputs": [],
   "source": [
    "def parse_xml(xml_file):\n",
    "    \n",
    "    dataset = str(os.path.basename(xml_file).replace(\".xml\", \"\"))\n",
    "    \n",
    "    \"\"\"Parse xml to pandas dataframe.\"\"\"\n",
    "    xtree = et.parse(xml_file)\n",
    "    xroot = xtree.getroot() \n",
    "\n",
    "    df_cols = ['id', 't', 'h', 'similarity', 'language', 'set']\n",
    "    rows = []\n",
    "\n",
    "    for node in xroot:\n",
    "        id_ = node.attrib.get(\"id\")\n",
    "        similarity = node.attrib.get(\"similarity\")\n",
    "        t = node.find(\"t\").text\n",
    "        h = node.find(\"h\").text\n",
    "\n",
    "        rows.append({\n",
    "            \"id\": int(id_),\n",
    "            \"t\": str(t), \n",
    "            \"h\": str(h),\n",
    "            \"similarity\": float(similarity),\n",
    "            \"language\": dataset[6:10],\n",
    "            \"set\": dataset[11:]\n",
    "        })\n",
    "    return pd.DataFrame(rows, columns=df_cols)\n",
    "\n",
    "def eval_similarity(pairs_gold, pairs_sys):\n",
    "    '''\n",
    "    Evaluate the semantic similarity output of the system against a gold score. \n",
    "    Results are printed to stdout.\n",
    "    '''\n",
    "    \n",
    "    gold_values = np.array(pairs_gold)\n",
    "    sys_values = np.array(pairs_sys)\n",
    "    pearson = pearsonr(gold_values, sys_values)[0]\n",
    "    absolute_diff = gold_values - sys_values\n",
    "    mse = (absolute_diff ** 2).mean()\n",
    "    \n",
    "    print()\n",
    "    print('Similarity evaluation')\n",
    "    print('Pearson\\t\\tMean Squared Error')\n",
    "    print('-------\\t\\t------------------')\n",
    "    print('{:7.3f}\\t\\t{:18.2f}'.format(pearson, mse))"
   ]
  },
  {
   "cell_type": "code",
   "execution_count": 4,
   "id": "636a1a00-70a5-4909-a11e-7a88593def80",
   "metadata": {
    "execution": {
     "iopub.execute_input": "2022-02-24T11:39:38.501995Z",
     "iopub.status.busy": "2022-02-24T11:39:38.501710Z",
     "iopub.status.idle": "2022-02-24T11:39:38.637815Z",
     "shell.execute_reply": "2022-02-24T11:39:38.637083Z",
     "shell.execute_reply.started": "2022-02-24T11:39:38.501976Z"
    },
    "tags": []
   },
   "outputs": [],
   "source": [
    "df = pd.concat([parse_xml(os.path.join(DATA_DIRECTORY, dataset_name)) \n",
    "                for dataset_name in DATASET_NAMES])"
   ]
  },
  {
   "cell_type": "markdown",
   "id": "531dc49a-7266-481e-b635-99dbd6b1116f",
   "metadata": {},
   "source": [
    "# The **BERTimbau** models\n",
    "\n",
    "In this notebook, we will use the **BERTimbau** models. \n",
    "- On Hugging Face, these models are referenced as [\"neuralmind/bert-base-portuguese-cased\"](https://huggingface.co/neuralmind/bert-base-portuguese-cased) and [\"neuralmind/bert-large-portuguese-cased\"](https://huggingface.co/neuralmind/bert-large-portuguese-cased)\n",
    "- You can also find their models on Github: [@neuralmind-ai/portuguese-bert](https://github.com/neuralmind-ai/portuguese-bert).\n",
    "\n",
    "\n",
    "The two models (Base vs Large) differ in the number of parameters their neural networks contain:\n",
    "\n",
    "| Model | Arch. | #Layers | #Parameters |\n",
    "|-|:-------------------------: |:-----------------:|:----------:|\n",
    "|neuralmind/bert-base-portuguese-cased | BERT-Base | 12 | 110M|\n",
    "|neuralmind/bert-large-portuguese-cased | BERT-Large | 24 | 335M|\n",
    "\n",
    "**How did they train it?**\n",
    "\n",
    "> BERT-Base and BERT-Large Cased variants were trained on the [BrWaC (Brazilian Web as Corpus)](https://www.researchgate.net/publication/326303825_The_brWaC_Corpus_A_New_Open_Resource_for_Brazilian_Portuguese), a large Portuguese corpus, for 1,000,000 steps, using whole-word mask. Model artifacts for TensorFlow and PyTorch can be found below."
   ]
  },
  {
   "cell_type": "markdown",
   "id": "40cc650e-e5f4-47da-8c08-5a7b6879cd96",
   "metadata": {},
   "source": [
    "## BERTimbau Base\n",
    "\n",
    "**First, download then.**\n",
    "\n",
    "There are two components to most of this kind of models: i) a Tokenizer and ii) the actual embedding model."
   ]
  },
  {
   "cell_type": "code",
   "execution_count": 5,
   "id": "c12435f2-610e-4ba1-828e-2ed2b8d38078",
   "metadata": {
    "execution": {
     "iopub.execute_input": "2022-02-24T11:39:38.638829Z",
     "iopub.status.busy": "2022-02-24T11:39:38.638718Z",
     "iopub.status.idle": "2022-02-24T11:40:01.796406Z",
     "shell.execute_reply": "2022-02-24T11:40:01.795625Z",
     "shell.execute_reply.started": "2022-02-24T11:39:38.638817Z"
    },
    "tags": []
   },
   "outputs": [
    {
     "data": {
      "application/vnd.jupyter.widget-view+json": {
       "model_id": "4a5cb93e429249f399a0227566617dca",
       "version_major": 2,
       "version_minor": 0
      },
      "text/plain": [
       "Downloading:   0%|          | 0.00/43.0 [00:00<?, ?B/s]"
      ]
     },
     "metadata": {},
     "output_type": "display_data"
    },
    {
     "data": {
      "application/vnd.jupyter.widget-view+json": {
       "model_id": "1d8bbfef09e9424d8a126d0603763f15",
       "version_major": 2,
       "version_minor": 0
      },
      "text/plain": [
       "Downloading:   0%|          | 0.00/647 [00:00<?, ?B/s]"
      ]
     },
     "metadata": {},
     "output_type": "display_data"
    },
    {
     "data": {
      "application/vnd.jupyter.widget-view+json": {
       "model_id": "8fccbb46b20a4ac88c62a08e58732b7f",
       "version_major": 2,
       "version_minor": 0
      },
      "text/plain": [
       "Downloading:   0%|          | 0.00/205k [00:00<?, ?B/s]"
      ]
     },
     "metadata": {},
     "output_type": "display_data"
    },
    {
     "data": {
      "application/vnd.jupyter.widget-view+json": {
       "model_id": "fb3188c741e14a75a557d97b91a03c7d",
       "version_major": 2,
       "version_minor": 0
      },
      "text/plain": [
       "Downloading:   0%|          | 0.00/2.00 [00:00<?, ?B/s]"
      ]
     },
     "metadata": {},
     "output_type": "display_data"
    },
    {
     "data": {
      "application/vnd.jupyter.widget-view+json": {
       "model_id": "702027606b4f4bbe8cf0b096dbcc5d6e",
       "version_major": 2,
       "version_minor": 0
      },
      "text/plain": [
       "Downloading:   0%|          | 0.00/112 [00:00<?, ?B/s]"
      ]
     },
     "metadata": {},
     "output_type": "display_data"
    },
    {
     "data": {
      "application/vnd.jupyter.widget-view+json": {
       "model_id": "fdd630f3805d4c89b00147b7a1128e82",
       "version_major": 2,
       "version_minor": 0
      },
      "text/plain": [
       "Downloading:   0%|          | 0.00/418M [00:00<?, ?B/s]"
      ]
     },
     "metadata": {},
     "output_type": "display_data"
    },
    {
     "name": "stderr",
     "output_type": "stream",
     "text": [
      "Some weights of the model checkpoint at neuralmind/bert-base-portuguese-cased were not used when initializing BertModel: ['cls.seq_relationship.bias', 'cls.predictions.decoder.weight', 'cls.predictions.transform.dense.bias', 'cls.seq_relationship.weight', 'cls.predictions.transform.LayerNorm.weight', 'cls.predictions.bias', 'cls.predictions.transform.LayerNorm.bias', 'cls.predictions.transform.dense.weight']\n",
      "- This IS expected if you are initializing BertModel from the checkpoint of a model trained on another task or with another architecture (e.g. initializing a BertForSequenceClassification model from a BertForPreTraining model).\n",
      "- This IS NOT expected if you are initializing BertModel from the checkpoint of a model that you expect to be exactly identical (initializing a BertForSequenceClassification model from a BertForSequenceClassification model).\n"
     ]
    }
   ],
   "source": [
    "tokenizer = AutoTokenizer.from_pretrained(BERTIMBAU_BASE_MODEL)\n",
    "model = AutoModel.from_pretrained(BERTIMBAU_BASE_MODEL)"
   ]
  },
  {
   "cell_type": "markdown",
   "id": "ef11a1ab-a481-4130-8041-33a769d34793",
   "metadata": {},
   "source": [
    "**Now, save those to a local repository.**\n",
    "\n",
    "This way, you can still play with the model if you are offline or, I don't know, the authors decide to remove their models from the website or something like that."
   ]
  },
  {
   "cell_type": "code",
   "execution_count": 6,
   "id": "65deab1c-78c0-4306-b422-fe116171e6b9",
   "metadata": {
    "execution": {
     "iopub.execute_input": "2022-02-24T11:40:01.797913Z",
     "iopub.status.busy": "2022-02-24T11:40:01.797459Z",
     "iopub.status.idle": "2022-02-24T11:40:02.457714Z",
     "shell.execute_reply": "2022-02-24T11:40:02.456421Z",
     "shell.execute_reply.started": "2022-02-24T11:40:01.797895Z"
    },
    "tags": []
   },
   "outputs": [],
   "source": [
    "tokenizer.save_pretrained(os.path.join(MODEL_DIRECTORY, BERTIMBAU_BASE_MODEL))\n",
    "model.save_pretrained(os.path.join(MODEL_DIRECTORY, BERTIMBAU_BASE_MODEL))"
   ]
  },
  {
   "cell_type": "markdown",
   "id": "a7bbc4f6-887e-4f1a-8539-dfdb8aee836e",
   "metadata": {},
   "source": [
    "**Now, you can load the models from the local directory directly.**\n",
    "\n",
    "The interface is still exactly the same."
   ]
  },
  {
   "cell_type": "code",
   "execution_count": 7,
   "id": "68e39956-d930-49d2-9b8d-b3bc437e1db1",
   "metadata": {
    "execution": {
     "iopub.execute_input": "2022-02-24T11:40:02.459466Z",
     "iopub.status.busy": "2022-02-24T11:40:02.459270Z",
     "iopub.status.idle": "2022-02-24T11:40:03.428508Z",
     "shell.execute_reply": "2022-02-24T11:40:03.426866Z",
     "shell.execute_reply.started": "2022-02-24T11:40:02.459445Z"
    },
    "tags": []
   },
   "outputs": [],
   "source": [
    "tokenizer = AutoTokenizer.from_pretrained(os.path.join(MODEL_DIRECTORY, BERTIMBAU_BASE_MODEL))\n",
    "model = AutoModel.from_pretrained(os.path.join(MODEL_DIRECTORY, BERTIMBAU_BASE_MODEL))"
   ]
  },
  {
   "cell_type": "markdown",
   "id": "359b2463-1a69-497e-8e23-c8570bb4a121",
   "metadata": {},
   "source": [
    "## BERTimbau Large\n",
    "\n",
    "**First, download then.**\n",
    "\n",
    "There are two components to most of this kind of models: i) a Tokenizer and ii) the actual embedding model."
   ]
  },
  {
   "cell_type": "code",
   "execution_count": 8,
   "id": "d6156dc4-cf5e-4421-aabd-24d623d9a6c8",
   "metadata": {
    "execution": {
     "iopub.execute_input": "2022-02-24T11:40:03.430021Z",
     "iopub.status.busy": "2022-02-24T11:40:03.429873Z",
     "iopub.status.idle": "2022-02-24T11:40:48.590369Z",
     "shell.execute_reply": "2022-02-24T11:40:48.589845Z",
     "shell.execute_reply.started": "2022-02-24T11:40:03.430009Z"
    },
    "tags": []
   },
   "outputs": [
    {
     "data": {
      "application/vnd.jupyter.widget-view+json": {
       "model_id": "94a40cbbedd3466d811fe113e78f1c2b",
       "version_major": 2,
       "version_minor": 0
      },
      "text/plain": [
       "Downloading:   0%|          | 0.00/155 [00:00<?, ?B/s]"
      ]
     },
     "metadata": {},
     "output_type": "display_data"
    },
    {
     "data": {
      "application/vnd.jupyter.widget-view+json": {
       "model_id": "8812e5ca0ef64c4aa86c9179570c74a2",
       "version_major": 2,
       "version_minor": 0
      },
      "text/plain": [
       "Downloading:   0%|          | 0.00/648 [00:00<?, ?B/s]"
      ]
     },
     "metadata": {},
     "output_type": "display_data"
    },
    {
     "data": {
      "application/vnd.jupyter.widget-view+json": {
       "model_id": "ed0f4e89752d41e8bf038c693fd8ac42",
       "version_major": 2,
       "version_minor": 0
      },
      "text/plain": [
       "Downloading:   0%|          | 0.00/205k [00:00<?, ?B/s]"
      ]
     },
     "metadata": {},
     "output_type": "display_data"
    },
    {
     "data": {
      "application/vnd.jupyter.widget-view+json": {
       "model_id": "817b6e5c8d0e42dd90670287e0a13d4d",
       "version_major": 2,
       "version_minor": 0
      },
      "text/plain": [
       "Downloading:   0%|          | 0.00/2.00 [00:00<?, ?B/s]"
      ]
     },
     "metadata": {},
     "output_type": "display_data"
    },
    {
     "data": {
      "application/vnd.jupyter.widget-view+json": {
       "model_id": "7d3d3567622849a38bbfa6ab9645a0c2",
       "version_major": 2,
       "version_minor": 0
      },
      "text/plain": [
       "Downloading:   0%|          | 0.00/112 [00:00<?, ?B/s]"
      ]
     },
     "metadata": {},
     "output_type": "display_data"
    },
    {
     "data": {
      "application/vnd.jupyter.widget-view+json": {
       "model_id": "c2074815747f4e4d87f526bdd29b2b3c",
       "version_major": 2,
       "version_minor": 0
      },
      "text/plain": [
       "Downloading:   0%|          | 0.00/1.25G [00:00<?, ?B/s]"
      ]
     },
     "metadata": {},
     "output_type": "display_data"
    },
    {
     "name": "stderr",
     "output_type": "stream",
     "text": [
      "Some weights of the model checkpoint at neuralmind/bert-large-portuguese-cased were not used when initializing BertModel: ['cls.seq_relationship.bias', 'cls.predictions.transform.dense.weight', 'cls.predictions.decoder.weight', 'cls.predictions.transform.dense.bias', 'cls.seq_relationship.weight', 'cls.predictions.bias', 'cls.predictions.transform.LayerNorm.weight', 'cls.predictions.transform.LayerNorm.bias']\n",
      "- This IS expected if you are initializing BertModel from the checkpoint of a model trained on another task or with another architecture (e.g. initializing a BertForSequenceClassification model from a BertForPreTraining model).\n",
      "- This IS NOT expected if you are initializing BertModel from the checkpoint of a model that you expect to be exactly identical (initializing a BertForSequenceClassification model from a BertForSequenceClassification model).\n"
     ]
    }
   ],
   "source": [
    "tokenizer = AutoTokenizer.from_pretrained(BERTIMBAU_LARGE_MODEL)\n",
    "model = AutoModel.from_pretrained(BERTIMBAU_LARGE_MODEL)"
   ]
  },
  {
   "cell_type": "markdown",
   "id": "ff953677-c3df-408e-880c-95023f6f3b3e",
   "metadata": {},
   "source": [
    "**Now, save those to a local repository.**\n",
    "\n",
    "This way, you can still play with the model if you are offline or, I don't know, the authors decide to remove their models from the website or something like that."
   ]
  },
  {
   "cell_type": "code",
   "execution_count": 9,
   "id": "56eec8fa-1a6f-4622-adcd-2f85a1eac30a",
   "metadata": {
    "execution": {
     "iopub.execute_input": "2022-02-24T11:40:48.591319Z",
     "iopub.status.busy": "2022-02-24T11:40:48.591176Z",
     "iopub.status.idle": "2022-02-24T11:40:49.846150Z",
     "shell.execute_reply": "2022-02-24T11:40:49.845603Z",
     "shell.execute_reply.started": "2022-02-24T11:40:48.591306Z"
    },
    "tags": []
   },
   "outputs": [],
   "source": [
    "tokenizer.save_pretrained(os.path.join(MODEL_DIRECTORY, BERTIMBAU_LARGE_MODEL))\n",
    "model.save_pretrained(os.path.join(MODEL_DIRECTORY, BERTIMBAU_LARGE_MODEL))"
   ]
  },
  {
   "cell_type": "markdown",
   "id": "0b5469bf-cbca-48cb-957e-1aad1d5efe3b",
   "metadata": {},
   "source": [
    "**Now, you can load the models from the local directory directly.**\n",
    "\n",
    "The interface is still exactly the same."
   ]
  },
  {
   "cell_type": "code",
   "execution_count": 10,
   "id": "0a17bedc-7c22-41df-9e3b-2c84ae4af1d6",
   "metadata": {
    "execution": {
     "iopub.execute_input": "2022-02-24T11:40:49.847134Z",
     "iopub.status.busy": "2022-02-24T11:40:49.847010Z",
     "iopub.status.idle": "2022-02-24T11:40:51.750464Z",
     "shell.execute_reply": "2022-02-24T11:40:51.749711Z",
     "shell.execute_reply.started": "2022-02-24T11:40:49.847121Z"
    },
    "tags": []
   },
   "outputs": [],
   "source": [
    "tokenizer = AutoTokenizer.from_pretrained(os.path.join(MODEL_DIRECTORY, BERTIMBAU_LARGE_MODEL))\n",
    "model = AutoModel.from_pretrained(os.path.join(MODEL_DIRECTORY, BERTIMBAU_LARGE_MODEL))"
   ]
  },
  {
   "cell_type": "markdown",
   "id": "012f56f1-8453-41da-97d2-d629dadd6a16",
   "metadata": {},
   "source": [
    "# The Tokenizer\n",
    "\n",
    "You can look at the three main types of Tokenizers used by HuggingFace on the following link: [🤗 huggingface/Summary of the tokenizers](https://huggingface.co/docs/transformers/tokenizer_summary)\n",
    "\n",
    "Let us investigate what the tokenizer captures."
   ]
  },
  {
   "cell_type": "markdown",
   "id": "81e35304-fdfd-4b4f-a861-37d5f9c3b2e8",
   "metadata": {},
   "source": [
    "## Comparing tokens of two sentences (sim=5)\n",
    "\n",
    "First, we will get a random sample of those sentences marked — by humans — as having similarity = 5 (the maximum)."
   ]
  },
  {
   "cell_type": "code",
   "execution_count": 52,
   "id": "a96b0ab6-7a9a-4603-ac18-47d4e0f24185",
   "metadata": {
    "execution": {
     "iopub.execute_input": "2022-02-24T11:54:36.409067Z",
     "iopub.status.busy": "2022-02-24T11:54:36.408880Z",
     "iopub.status.idle": "2022-02-24T11:54:36.421207Z",
     "shell.execute_reply": "2022-02-24T11:54:36.420723Z",
     "shell.execute_reply.started": "2022-02-24T11:54:36.409051Z"
    },
    "tags": []
   },
   "outputs": [
    {
     "data": {
      "text/html": [
       "<div>\n",
       "<style scoped>\n",
       "    .dataframe tbody tr th:only-of-type {\n",
       "        vertical-align: middle;\n",
       "    }\n",
       "\n",
       "    .dataframe tbody tr th {\n",
       "        vertical-align: top;\n",
       "    }\n",
       "\n",
       "    .dataframe thead th {\n",
       "        text-align: right;\n",
       "    }\n",
       "</style>\n",
       "<table border=\"1\" class=\"dataframe\">\n",
       "  <thead>\n",
       "    <tr style=\"text-align: right;\">\n",
       "      <th></th>\n",
       "      <th></th>\n",
       "      <th></th>\n",
       "      <th></th>\n",
       "      <th></th>\n",
       "      <th></th>\n",
       "    </tr>\n",
       "    <tr>\n",
       "      <th>id</th>\n",
       "      <th>t</th>\n",
       "      <th>h</th>\n",
       "      <th>similarity</th>\n",
       "      <th>language</th>\n",
       "      <th>set</th>\n",
       "    </tr>\n",
       "  </thead>\n",
       "  <tbody>\n",
       "    <tr>\n",
       "      <th>858</th>\n",
       "      <th>Do lado israelense, foram 73 mortos, a grande maioria de soldados.</th>\n",
       "      <th>Do lado de Israel, o conflito causou 73 mortos, quase todos soldados.</th>\n",
       "      <th>5.0</th>\n",
       "      <th>ptbr</th>\n",
       "      <th>test</th>\n",
       "    </tr>\n",
       "    <tr>\n",
       "      <th>820</th>\n",
       "      <th>O gaúcho presenciou três finais de Copa do Mundo e viu o Brasil levar a melhor em duas delas.</th>\n",
       "      <th>O gaúcho presenciou três finais de Copa do Mundo, sendo duas delas vendo o Brasil sair vitorioso.</th>\n",
       "      <th>5.0</th>\n",
       "      <th>ptbr</th>\n",
       "      <th>test</th>\n",
       "    </tr>\n",
       "    <tr>\n",
       "      <th>218</th>\n",
       "      <th>O Centro Geológico dos Estados Unidos (USGS) calculou a magnitude do tremor em 5,3.</th>\n",
       "      <th>O Serviço Geológico dos EUA informou que o terremoto teve magnitude 5,3.</th>\n",
       "      <th>5.0</th>\n",
       "      <th>ptbr</th>\n",
       "      <th>train</th>\n",
       "    </tr>\n",
       "    <tr>\n",
       "      <th>694</th>\n",
       "      <th>Conseguimos reverter os momentos de abatimento que vinham acontecendo após os gols sofridos.</th>\n",
       "      <th>O time vinha se abatendo quando tomava um gol, e conseguimos reverter isso.</th>\n",
       "      <th>5.0</th>\n",
       "      <th>ptbr</th>\n",
       "      <th>train</th>\n",
       "    </tr>\n",
       "  </tbody>\n",
       "</table>\n",
       "</div>"
      ],
      "text/plain": [
       "Empty DataFrame\n",
       "Columns: []\n",
       "Index: [(858, Do lado israelense, foram 73 mortos, a grande maioria de soldados., Do lado de Israel, o conflito causou 73 mortos, quase todos soldados., 5.0, ptbr, test), (820, O gaúcho presenciou três finais de Copa do Mundo e viu o Brasil levar a melhor em duas delas., O gaúcho presenciou três finais de Copa do Mundo, sendo duas delas vendo o Brasil sair vitorioso., 5.0, ptbr, test), (218, O Centro Geológico dos Estados Unidos (USGS) calculou a magnitude do tremor em 5,3., O Serviço Geológico dos EUA informou que o terremoto teve magnitude 5,3., 5.0, ptbr, train), (694, Conseguimos reverter os momentos de abatimento que vinham acontecendo após os gols sofridos., O time vinha se abatendo quando tomava um gol, e conseguimos reverter isso., 5.0, ptbr, train)]"
      ]
     },
     "execution_count": 52,
     "metadata": {},
     "output_type": "execute_result"
    }
   ],
   "source": [
    "sample_df = df[(df[\"language\"] == \"ptbr\") & (df[\"similarity\"] == 5)].sample(n=4, random_state=42)\n",
    "sample_df.set_index(sample_df.columns.tolist())"
   ]
  },
  {
   "cell_type": "code",
   "execution_count": 60,
   "id": "863b52c5-3a42-42e2-b21a-6f6c69c1994b",
   "metadata": {
    "execution": {
     "iopub.execute_input": "2022-02-24T11:56:15.166346Z",
     "iopub.status.busy": "2022-02-24T11:56:15.166156Z",
     "iopub.status.idle": "2022-02-24T11:56:15.169966Z",
     "shell.execute_reply": "2022-02-24T11:56:15.169460Z",
     "shell.execute_reply.started": "2022-02-24T11:56:15.166330Z"
    },
    "tags": []
   },
   "outputs": [
    {
     "name": "stdout",
     "output_type": "stream",
     "text": [
      "Selected pair of sentences:\n",
      "\n",
      "   O Centro Geológico dos Estados Unidos (USGS) calculou a magnitude do tremor em 5,3.\n",
      "\n",
      "   O Serviço Geológico dos EUA informou que o terremoto teve magnitude 5,3.\n"
     ]
    }
   ],
   "source": [
    "print(f\"Selected pair of sentences:\\n\\n   {sample_df.iloc[2]['t']}\\n\\n   {sample_df.iloc[2]['h']}\")"
   ]
  },
  {
   "cell_type": "markdown",
   "id": "ad7e2338-8a76-4882-b822-ee68891f7710",
   "metadata": {
    "execution": {
     "iopub.execute_input": "2022-02-24T11:54:54.529967Z",
     "iopub.status.busy": "2022-02-24T11:54:54.529198Z",
     "iopub.status.idle": "2022-02-24T11:54:54.535510Z",
     "shell.execute_reply": "2022-02-24T11:54:54.534875Z",
     "shell.execute_reply.started": "2022-02-24T11:54:54.529926Z"
    },
    "tags": []
   },
   "source": [
    "### Number of words\n",
    "\n",
    "**How many words are there in each sentence?** If I were to split on spaces:"
   ]
  },
  {
   "cell_type": "code",
   "execution_count": 76,
   "id": "c71c5eeb-1d2e-4da7-9211-ebfefee6632a",
   "metadata": {
    "execution": {
     "iopub.execute_input": "2022-02-24T12:02:00.424572Z",
     "iopub.status.busy": "2022-02-24T12:02:00.424393Z",
     "iopub.status.idle": "2022-02-24T12:02:00.429456Z",
     "shell.execute_reply": "2022-02-24T12:02:00.428673Z",
     "shell.execute_reply.started": "2022-02-24T12:02:00.424558Z"
    },
    "tags": []
   },
   "outputs": [
    {
     "name": "stdout",
     "output_type": "stream",
     "text": [
      "Selected pair of sentences:\n",
      "\n",
      "   ['O', 'Centro', 'Geológico', 'dos', 'Estados', 'Unidos', '(USGS)', 'calculou', 'a', 'magnitude', 'do', 'tremor', 'em', '5,3.']\n",
      "   NUMBER OF WORDS: 14 \n",
      "\n",
      "   ['O', 'Serviço', 'Geológico', 'dos', 'EUA', 'informou', 'que', 'o', 'terremoto', 'teve', 'magnitude', '5,3.']\n",
      "   NUMBER OF WORDS: 12\n"
     ]
    }
   ],
   "source": [
    "print(f\"Selected pair of sentences:\\n\\n   {sample_df.iloc[2]['t'].split()}\\n   NUMBER OF WORDS: {len(sample_df.iloc[2]['t'].split())}\",\n",
    "      f\"\\n\\n   {sample_df.iloc[2]['h'].split()}\\n   NUMBER OF WORDS: {len(sample_df.iloc[2]['h'].split())}\")"
   ]
  },
  {
   "cell_type": "markdown",
   "id": "d0383ec0-31bd-4f04-a230-9a3781acb1fc",
   "metadata": {},
   "source": [
    "### Number of tokens by BERTimbau\n",
    "\n",
    "You can find the tokens encoded by the model with the function `tokenizer.tokenize`."
   ]
  },
  {
   "cell_type": "code",
   "execution_count": 89,
   "id": "5280af1c-c628-483b-8a85-9d275304356d",
   "metadata": {
    "execution": {
     "iopub.execute_input": "2022-02-24T12:08:48.907539Z",
     "iopub.status.busy": "2022-02-24T12:08:48.907311Z",
     "iopub.status.idle": "2022-02-24T12:08:48.913663Z",
     "shell.execute_reply": "2022-02-24T12:08:48.912993Z",
     "shell.execute_reply.started": "2022-02-24T12:08:48.907521Z"
    },
    "tags": []
   },
   "outputs": [
    {
     "name": "stdout",
     "output_type": "stream",
     "text": [
      "Selected pair of sentences:\n",
      "\n",
      "   ['Nesta', 'quarta', '-', 'feira', ',', 'o', 'Cruzeiro', 'também', 'anunciou', 'a', 'renovação', 'do', 'goleiro', 'Fábio', 'por', 'mais', 'três', 'anos', '.'] \n",
      "   NUMBER OF TOKENS: 19 \n",
      "\n",
      "   ['O', 'goleiro', 'Fábio', 'acertou', 'sua', 'permanência', 'no', 'Cruzeiro', 'por', 'mais', 'três', 'temporadas', '.'] \n",
      "   NUMBER OF TOKENS: 13\n",
      "\n",
      "\n"
     ]
    }
   ],
   "source": [
    "print(f\"Selected pair of sentences:\\n\\n   {tokenizer.tokenize(sample_df.iloc[2]['t'])}\",\n",
    "      f\"\\n   NUMBER OF TOKENS: {len(tokenizer.tokenize(sample_df.iloc[2]['t']))}\",\n",
    "      f\"\\n\\n   {tokenizer.tokenize(sample_df.iloc[2]['h'])}\",\n",
    "      f\"\\n   NUMBER OF TOKENS: {len(tokenizer.tokenize(sample_df.iloc[2]['h']))}\")\n",
    "print()\n",
    "print()\n"
   ]
  },
  {
   "cell_type": "markdown",
   "id": "ad094a0c-0e35-4938-8c60-e48f3e7d9907",
   "metadata": {},
   "source": [
    "An important thing about the tokenizer above is that only a few words are subdivided into **sub-words**:\n",
    "\n",
    "> _Subword tokenization algorithms rely on the principle that frequently used words should not be split into smaller subwords, but rare words should be decomposed into meaningful subwords._"
   ]
  },
  {
   "cell_type": "markdown",
   "id": "1966206c-e7e5-465f-90ea-defc75ef97d3",
   "metadata": {},
   "source": [
    "## Comparing tokens of two sentences (sim=4)\n",
    "\n",
    "Now, let us get a random sample of those sentences marked — by humans — as having similarity=4"
   ]
  },
  {
   "cell_type": "code",
   "execution_count": 83,
   "id": "574b3797-559d-4a2b-a159-8e8c18f1bf6c",
   "metadata": {
    "execution": {
     "iopub.execute_input": "2022-02-24T12:04:17.895317Z",
     "iopub.status.busy": "2022-02-24T12:04:17.895118Z",
     "iopub.status.idle": "2022-02-24T12:04:17.907602Z",
     "shell.execute_reply": "2022-02-24T12:04:17.906816Z",
     "shell.execute_reply.started": "2022-02-24T12:04:17.895302Z"
    },
    "tags": []
   },
   "outputs": [
    {
     "data": {
      "text/html": [
       "<div>\n",
       "<style scoped>\n",
       "    .dataframe tbody tr th:only-of-type {\n",
       "        vertical-align: middle;\n",
       "    }\n",
       "\n",
       "    .dataframe tbody tr th {\n",
       "        vertical-align: top;\n",
       "    }\n",
       "\n",
       "    .dataframe thead th {\n",
       "        text-align: right;\n",
       "    }\n",
       "</style>\n",
       "<table border=\"1\" class=\"dataframe\">\n",
       "  <thead>\n",
       "    <tr style=\"text-align: right;\">\n",
       "      <th></th>\n",
       "      <th></th>\n",
       "      <th></th>\n",
       "      <th></th>\n",
       "      <th></th>\n",
       "      <th></th>\n",
       "    </tr>\n",
       "    <tr>\n",
       "      <th>id</th>\n",
       "      <th>t</th>\n",
       "      <th>h</th>\n",
       "      <th>similarity</th>\n",
       "      <th>language</th>\n",
       "      <th>set</th>\n",
       "    </tr>\n",
       "  </thead>\n",
       "  <tbody>\n",
       "    <tr>\n",
       "      <th>1527</th>\n",
       "      <th>Segundo a prefeitura, foram atingidos pelo incêndio mais de 150 boxes, cerca de 10% do camelódromo.</th>\n",
       "      <th>Mais de 150 boxes sofreram com o incêndio, o que representa cerca de 10% de todo o camelódromo.</th>\n",
       "      <th>4.0</th>\n",
       "      <th>ptbr</th>\n",
       "      <th>train</th>\n",
       "    </tr>\n",
       "    <tr>\n",
       "      <th>1936</th>\n",
       "      <th>A dúvida, como os dois jogadores estão fora há duas semanas, é se serão titulares ou se começarão no banco.</th>\n",
       "      <th>Os dois jogadores ainda não têm presença certa no time titular.</th>\n",
       "      <th>4.0</th>\n",
       "      <th>ptbr</th>\n",
       "      <th>train</th>\n",
       "    </tr>\n",
       "    <tr>\n",
       "      <th>803</th>\n",
       "      <th>Nesta quarta-feira, o Cruzeiro também anunciou a renovação do goleiro Fábio por mais três anos.</th>\n",
       "      <th>O goleiro Fábio acertou sua permanência no Cruzeiro por mais três temporadas.</th>\n",
       "      <th>4.0</th>\n",
       "      <th>ptbr</th>\n",
       "      <th>test</th>\n",
       "    </tr>\n",
       "    <tr>\n",
       "      <th>827</th>\n",
       "      <th>Dentre as ocorrências, houve o registro de uma pessoa morta e outra gravemente ferida.</th>\n",
       "      <th>Uma pessoa morreu e outra ficou gravemente ferida.</th>\n",
       "      <th>4.0</th>\n",
       "      <th>ptbr</th>\n",
       "      <th>test</th>\n",
       "    </tr>\n",
       "  </tbody>\n",
       "</table>\n",
       "</div>"
      ],
      "text/plain": [
       "Empty DataFrame\n",
       "Columns: []\n",
       "Index: [(1527, Segundo a prefeitura, foram atingidos pelo incêndio mais de 150 boxes, cerca de 10% do camelódromo., Mais de 150 boxes sofreram com o incêndio, o que representa cerca de 10% de todo o camelódromo., 4.0, ptbr, train), (1936, A dúvida, como os dois jogadores estão fora há duas semanas, é se serão titulares ou se começarão no banco., Os dois jogadores ainda não têm presença certa no time titular., 4.0, ptbr, train), (803, Nesta quarta-feira, o Cruzeiro também anunciou a renovação do goleiro Fábio por mais três anos., O goleiro Fábio acertou sua permanência no Cruzeiro por mais três temporadas., 4.0, ptbr, test), (827, Dentre as ocorrências, houve o registro de uma pessoa morta e outra gravemente ferida., Uma pessoa morreu e outra ficou gravemente ferida., 4.0, ptbr, test)]"
      ]
     },
     "execution_count": 83,
     "metadata": {},
     "output_type": "execute_result"
    }
   ],
   "source": [
    "sample_df = df[(df[\"language\"] == \"ptbr\") & (df[\"similarity\"] == 4)].sample(n=4, random_state=42)\n",
    "sample_df.set_index(sample_df.columns.tolist())"
   ]
  },
  {
   "cell_type": "code",
   "execution_count": 84,
   "id": "7a5bfc94-70b4-45ea-b025-6bf15c25d321",
   "metadata": {
    "execution": {
     "iopub.execute_input": "2022-02-24T12:04:29.568456Z",
     "iopub.status.busy": "2022-02-24T12:04:29.568262Z",
     "iopub.status.idle": "2022-02-24T12:04:29.572662Z",
     "shell.execute_reply": "2022-02-24T12:04:29.572011Z",
     "shell.execute_reply.started": "2022-02-24T12:04:29.568441Z"
    },
    "tags": []
   },
   "outputs": [
    {
     "name": "stdout",
     "output_type": "stream",
     "text": [
      "Selected pair of sentences:\n",
      "\n",
      "   Segundo a prefeitura, foram atingidos pelo incêndio mais de 150 boxes, cerca de 10% do camelódromo.\n",
      "\n",
      "   Mais de 150 boxes sofreram com o incêndio, o que representa cerca de 10% de todo o camelódromo.\n"
     ]
    }
   ],
   "source": [
    "print(f\"Selected pair of sentences:\\n\\n   {sample_df.iloc[0]['t']}\\n\\n   {sample_df.iloc[0]['h']}\")"
   ]
  },
  {
   "cell_type": "markdown",
   "id": "0b64f600-6741-46c1-a701-bcb3c008ea54",
   "metadata": {
    "execution": {
     "iopub.execute_input": "2022-02-24T11:54:54.529967Z",
     "iopub.status.busy": "2022-02-24T11:54:54.529198Z",
     "iopub.status.idle": "2022-02-24T11:54:54.535510Z",
     "shell.execute_reply": "2022-02-24T11:54:54.534875Z",
     "shell.execute_reply.started": "2022-02-24T11:54:54.529926Z"
    },
    "tags": []
   },
   "source": [
    "### Number of words\n",
    "\n",
    "**How many words are there in each sentence?** If I were to split on spaces:"
   ]
  },
  {
   "cell_type": "code",
   "execution_count": 88,
   "id": "6bf4119b-65af-4fb1-b13c-e7cbbcde0273",
   "metadata": {
    "execution": {
     "iopub.execute_input": "2022-02-24T12:05:24.266505Z",
     "iopub.status.busy": "2022-02-24T12:05:24.266319Z",
     "iopub.status.idle": "2022-02-24T12:05:24.270777Z",
     "shell.execute_reply": "2022-02-24T12:05:24.270186Z",
     "shell.execute_reply.started": "2022-02-24T12:05:24.266489Z"
    },
    "tags": []
   },
   "outputs": [
    {
     "name": "stdout",
     "output_type": "stream",
     "text": [
      "Selected pair of sentences:\n",
      "\n",
      "   ['Segundo', 'a', 'prefeitura,', 'foram', 'atingidos', 'pelo', 'incêndio', 'mais', 'de', '150', 'boxes,', 'cerca', 'de', '10%', 'do', 'camelódromo.'] \n",
      "   NUMBER OF WORDS: 16 \n",
      "\n",
      "   ['Mais', 'de', '150', 'boxes', 'sofreram', 'com', 'o', 'incêndio,', 'o', 'que', 'representa', 'cerca', 'de', '10%', 'de', 'todo', 'o', 'camelódromo.'] \n",
      "   NUMBER OF WORDS: 18\n"
     ]
    }
   ],
   "source": [
    "print(f\"Selected pair of sentences:\\n\\n   {sample_df.iloc[0]['t'].split()}\",\n",
    "      f\"\\n   NUMBER OF WORDS: {len(sample_df.iloc[0]['t'].split())}\",\n",
    "      f\"\\n\\n   {sample_df.iloc[0]['h'].split()}\",\n",
    "      f\"\\n   NUMBER OF WORDS: {len(sample_df.iloc[0]['h'].split())}\")"
   ]
  },
  {
   "cell_type": "markdown",
   "id": "0f4fe6fb-d7f2-42ea-b4af-59b3d38f1433",
   "metadata": {},
   "source": [
    "### Number of tokens by BERTimbau\n",
    "\n",
    "You can find the tokens encoded by the model with the function `tokenizer.tokenize`."
   ]
  },
  {
   "cell_type": "code",
   "execution_count": 90,
   "id": "0abee3e3-636c-45cc-89fe-fcc27364f506",
   "metadata": {
    "execution": {
     "iopub.execute_input": "2022-02-24T12:09:18.451589Z",
     "iopub.status.busy": "2022-02-24T12:09:18.451393Z",
     "iopub.status.idle": "2022-02-24T12:09:18.456719Z",
     "shell.execute_reply": "2022-02-24T12:09:18.456178Z",
     "shell.execute_reply.started": "2022-02-24T12:09:18.451572Z"
    },
    "tags": []
   },
   "outputs": [
    {
     "name": "stdout",
     "output_type": "stream",
     "text": [
      "Selected pair of sentences:\n",
      "\n",
      "   ['Segundo', 'a', 'prefeitura', ',', 'foram', 'atingido', '##s', 'pelo', 'incêndio', 'mais', 'de', '150', 'boxe', '##s', ',', 'cerca', 'de', '10', '%', 'do', 'cam', '##el', '##ódromo', '.'] \n",
      "   NUMBER OF TOKENS: 24 \n",
      "\n",
      "   ['Mais', 'de', '150', 'boxe', '##s', 'sofreram', 'com', 'o', 'incêndio', ',', 'o', 'que', 'representa', 'cerca', 'de', '10', '%', 'de', 'todo', 'o', 'cam', '##el', '##ódromo', '.'] \n",
      "   NUMBER OF TOKENS: 24\n",
      "\n"
     ]
    }
   ],
   "source": [
    "print(f\"Selected pair of sentences:\\n\\n   {tokenizer.tokenize(sample_df.iloc[0]['t'])}\",\n",
    "      f\"\\n   NUMBER OF TOKENS: {len(tokenizer.tokenize(sample_df.iloc[0]['t']))}\",\n",
    "      f\"\\n\\n   {tokenizer.tokenize(sample_df.iloc[0]['h'])}\",\n",
    "      f\"\\n   NUMBER OF TOKENS: {len(tokenizer.tokenize(sample_df.iloc[0]['h']))}\")\n",
    "print()"
   ]
  },
  {
   "cell_type": "markdown",
   "id": "b82a1542-1ee0-49ff-b881-9e7fb52b03d0",
   "metadata": {},
   "source": [
    "# Embeddings and Similarity\n",
    "\n",
    "How well do the **BERTimbau** models capture the similarity of each pair of sentences?"
   ]
  },
  {
   "cell_type": "code",
   "execution_count": 92,
   "id": "c55cda60-8c25-458f-889b-9bdfdc718f6b",
   "metadata": {
    "execution": {
     "iopub.execute_input": "2022-02-24T12:12:02.138131Z",
     "iopub.status.busy": "2022-02-24T12:12:02.137939Z",
     "iopub.status.idle": "2022-02-24T12:12:02.143093Z",
     "shell.execute_reply": "2022-02-24T12:12:02.142479Z",
     "shell.execute_reply.started": "2022-02-24T12:12:02.138116Z"
    },
    "tags": []
   },
   "outputs": [],
   "source": [
    "from custom_transformer import BertTransformer\n",
    "\n",
    "bert_transformer = BertTransformer(tokenizer, model)"
   ]
  },
  {
   "cell_type": "code",
   "execution_count": 93,
   "id": "9fc4d08e-9467-477a-aa59-5d852e48fd69",
   "metadata": {
    "execution": {
     "iopub.execute_input": "2022-02-24T12:12:19.552656Z",
     "iopub.status.busy": "2022-02-24T12:12:19.552459Z",
     "iopub.status.idle": "2022-02-24T12:49:17.262064Z",
     "shell.execute_reply": "2022-02-24T12:49:17.260787Z",
     "shell.execute_reply.started": "2022-02-24T12:12:19.552641Z"
    },
    "tags": []
   },
   "outputs": [
    {
     "name": "stderr",
     "output_type": "stream",
     "text": [
      "100%|█████████████████████████████████████████████████████████████████████████████| 10000/10000 [18:19<00:00,  9.09it/s]\n",
      "100%|█████████████████████████████████████████████████████████████████████████████| 10000/10000 [18:37<00:00,  8.95it/s]\n"
     ]
    }
   ],
   "source": [
    "t_embeddings = bert_transformer.transform(df['t'].tolist())\n",
    "h_embeddings = bert_transformer.transform(df['h'].tolist())"
   ]
  },
  {
   "cell_type": "code",
   "execution_count": 96,
   "id": "1635a01e-b876-472d-8c2a-c62ff75df8e7",
   "metadata": {
    "execution": {
     "iopub.execute_input": "2022-02-24T12:50:31.507462Z",
     "iopub.status.busy": "2022-02-24T12:50:31.507153Z",
     "iopub.status.idle": "2022-02-24T12:50:31.526974Z",
     "shell.execute_reply": "2022-02-24T12:50:31.526025Z",
     "shell.execute_reply.started": "2022-02-24T12:50:31.507392Z"
    },
    "tags": []
   },
   "outputs": [
    {
     "data": {
      "text/plain": [
       "tensor([[ 0.1497, -0.5899, -0.0071,  ...,  0.6452,  0.1932,  0.1936],\n",
       "        [ 0.2937, -0.3182, -0.1798,  ...,  0.2410, -0.0448,  0.1491],\n",
       "        [ 0.3237, -0.7698,  0.1452,  ...,  0.1810, -0.7260,  0.3845],\n",
       "        ...,\n",
       "        [ 0.3395, -0.6754, -0.0081,  ...,  0.1303,  0.2157,  0.2935],\n",
       "        [ 0.2262, -0.1824,  0.3795,  ...,  0.6461, -0.2384,  0.1458],\n",
       "        [ 0.5347, -0.4280,  0.2514,  ...,  0.7151,  0.1309,  0.3787]])"
      ]
     },
     "execution_count": 96,
     "metadata": {},
     "output_type": "execute_result"
    }
   ],
   "source": [
    "t_embeddings"
   ]
  },
  {
   "cell_type": "code",
   "execution_count": 97,
   "id": "cf5eb90a-45b7-4c4d-a9c2-bbf0712b661d",
   "metadata": {
    "execution": {
     "iopub.execute_input": "2022-02-24T12:50:36.181955Z",
     "iopub.status.busy": "2022-02-24T12:50:36.181376Z",
     "iopub.status.idle": "2022-02-24T12:50:36.191664Z",
     "shell.execute_reply": "2022-02-24T12:50:36.190655Z",
     "shell.execute_reply.started": "2022-02-24T12:50:36.181907Z"
    },
    "tags": []
   },
   "outputs": [
    {
     "data": {
      "text/plain": [
       "tensor([[ 0.3926, -0.4528,  0.1510,  ...,  0.4765,  0.4975,  0.0867],\n",
       "        [ 0.5527, -0.5306,  0.1012,  ...,  0.1088, -0.0935,  0.3687],\n",
       "        [ 0.4501, -0.6142,  0.1870,  ...,  0.1524, -0.8975,  0.4141],\n",
       "        ...,\n",
       "        [ 0.4413, -0.9408, -0.1212,  ...,  0.7483, -0.2268,  0.3694],\n",
       "        [ 0.2261, -0.0787,  0.3382,  ...,  0.4816, -0.0639,  0.1585],\n",
       "        [ 0.0215, -0.3201,  0.0661,  ...,  0.8979, -0.6273,  0.2886]])"
      ]
     },
     "execution_count": 97,
     "metadata": {},
     "output_type": "execute_result"
    }
   ],
   "source": [
    "h_embeddings"
   ]
  },
  {
   "cell_type": "markdown",
   "id": "ed886874-20ee-41ac-a2c8-48ff2a6f2a33",
   "metadata": {},
   "source": [
    "Let's measure the similarity between these embeddings with the cosine similarity:"
   ]
  },
  {
   "cell_type": "code",
   "execution_count": 153,
   "id": "34c5f533-0959-43e1-929e-2cac903c4d56",
   "metadata": {
    "execution": {
     "iopub.execute_input": "2022-02-24T13:08:48.443083Z",
     "iopub.status.busy": "2022-02-24T13:08:48.442743Z",
     "iopub.status.idle": "2022-02-24T13:08:50.078562Z",
     "shell.execute_reply": "2022-02-24T13:08:50.077560Z",
     "shell.execute_reply.started": "2022-02-24T13:08:48.443040Z"
    },
    "tags": []
   },
   "outputs": [],
   "source": [
    "from sklearn.metrics.pairwise import  cosine_similarity\n",
    "\n",
    "df[\"bert_large_similarity\"] = [5.0 * cosine_similarity([t], [h])[0][0] \n",
    "                               for t, h in zip(t_embeddings.numpy(), h_embeddings.numpy())]"
   ]
  },
  {
   "cell_type": "code",
   "execution_count": 165,
   "id": "3fef248f-a31e-4510-8042-ec39cea005ec",
   "metadata": {
    "execution": {
     "iopub.execute_input": "2022-02-24T13:14:05.677832Z",
     "iopub.status.busy": "2022-02-24T13:14:05.677582Z",
     "iopub.status.idle": "2022-02-24T13:14:06.641379Z",
     "shell.execute_reply": "2022-02-24T13:14:06.640368Z",
     "shell.execute_reply.started": "2022-02-24T13:14:05.677810Z"
    },
    "tags": []
   },
   "outputs": [
    {
     "data": {
      "image/png": "[encoded data removed]",
      "text/plain": [
       "<Figure size 1100x500 with 6 Axes>"
      ]
     },
     "metadata": {},
     "output_type": "display_data"
    },
    {
     "data": {
      "text/plain": [
       "<ggplot: (8774849723642)>"
      ]
     },
     "execution_count": 165,
     "metadata": {},
     "output_type": "execute_result"
    }
   ],
   "source": [
    "plot_df = pd.melt(df, id_vars=[\"id\", \"t\", \"h\", \"language\", \"set\"])\n",
    "\n",
    "g = (ggplot(plot_df, aes(x='value', fill='variable')) +\n",
    "     geom_histogram(binwidth=0.15, alpha=0.8, position=\"dodge\") + \n",
    "     theme_bw() + \n",
    "     theme(figure_size=(11, 5),\n",
    "           plot_title=element_text(size=15)) +\n",
    "     scale_fill_manual(name=\"Similarity type\", values=[\"tab:red\", \"tab:blue\"]) +\n",
    "     facet_grid(\"set ~ language\", scales=\"free_y\") +\n",
    "     ggtitle(\"The distribution does not match up that of the manually-attributed similarity\"))\n",
    "\n",
    "g"
   ]
  },
  {
   "cell_type": "markdown",
   "id": "7cf7b1e3-1150-4f65-a3ae-953d236a2d44",
   "metadata": {},
   "source": [
    "Indeed, correlation and error metrics indicate these embeddings are not that great!"
   ]
  },
  {
   "cell_type": "code",
   "execution_count": 166,
   "id": "cd9f719d-6c66-4b26-95bc-abf8aee68e8e",
   "metadata": {
    "execution": {
     "iopub.execute_input": "2022-02-24T13:14:14.339488Z",
     "iopub.status.busy": "2022-02-24T13:14:14.339239Z",
     "iopub.status.idle": "2022-02-24T13:14:14.348056Z",
     "shell.execute_reply": "2022-02-24T13:14:14.346573Z",
     "shell.execute_reply.started": "2022-02-24T13:14:14.339466Z"
    },
    "tags": []
   },
   "outputs": [
    {
     "name": "stdout",
     "output_type": "stream",
     "text": [
      "\n",
      "Similarity evaluation\n",
      "Pearson\t\tMean Squared Error\n",
      "-------\t\t------------------\n",
      "  0.536\t\t              3.42\n"
     ]
    }
   ],
   "source": [
    "eval_similarity(df[\"similarity\"], df[\"bert_large_similarity\"])"
   ]
  },
  {
   "cell_type": "markdown",
   "id": "b21d96e7-85c9-40c0-ae29-8aa9b0c12de7",
   "metadata": {},
   "source": [
    "# Fine Tuning\n",
    "\n",
    "These embeddings were trained on a large corpus but maybe they need a little \"push\" to understand these particular type of sentences.\n",
    "\n",
    "That is where fine tuning because very useful.\n",
    "\n",
    "[Source](https://github.com/UKPLab/sentence-transformers/blob/master/examples/training/sts/training_stsbenchmark_continue_training.py)"
   ]
  },
  {
   "cell_type": "code",
   "execution_count": 171,
   "id": "ab9460b3-0ae9-4c2e-871c-80b14a2121c4",
   "metadata": {
    "execution": {
     "iopub.execute_input": "2022-02-24T13:56:35.783605Z",
     "iopub.status.busy": "2022-02-24T13:56:35.783253Z",
     "iopub.status.idle": "2022-02-24T13:56:35.800185Z",
     "shell.execute_reply": "2022-02-24T13:56:35.798576Z",
     "shell.execute_reply.started": "2022-02-24T13:56:35.783559Z"
    },
    "tags": []
   },
   "outputs": [
    {
     "data": {
      "text/plain": [
       "train    5000\n",
       "test     4000\n",
       "dev      1000\n",
       "Name: set, dtype: int64"
      ]
     },
     "execution_count": 171,
     "metadata": {},
     "output_type": "execute_result"
    }
   ],
   "source": [
    "df[\"set\"].value_counts()"
   ]
  },
  {
   "cell_type": "markdown",
   "id": "361d38a9-4056-4b04-ad44-17e6d5182538",
   "metadata": {},
   "source": [
    "## Split train-dev-test"
   ]
  },
  {
   "cell_type": "code",
   "execution_count": 226,
   "id": "dbb717d8-3774-4c56-94c7-138d15ce5ec8",
   "metadata": {
    "execution": {
     "iopub.execute_input": "2022-02-24T15:59:23.508393Z",
     "iopub.status.busy": "2022-02-24T15:59:23.508140Z",
     "iopub.status.idle": "2022-02-24T15:59:23.889877Z",
     "shell.execute_reply": "2022-02-24T15:59:23.888788Z",
     "shell.execute_reply.started": "2022-02-24T15:59:23.508361Z"
    },
    "tags": []
   },
   "outputs": [],
   "source": [
    "train_samples = []\n",
    "dev_samples = []\n",
    "test_samples = []\n",
    "\n",
    "for i, row in df[df[\"set\"] == \"train\"].iterrows():\n",
    "    inp_example = InputExample(texts=[row['t'], row['h']], label=row['similarity'] / 5)\n",
    "    train_samples.append(inp_example)\n",
    "    \n",
    "for i, row in df[df[\"set\"] == \"dev\"].iterrows():\n",
    "    inp_example = InputExample(texts=[row['t'], row['h']], label=row['similarity'] / 5)\n",
    "    dev_samples.append(inp_example)\n",
    "    \n",
    "for i, row in df[df[\"set\"] == \"test\"].iterrows():\n",
    "    inp_example = InputExample(texts=[row['t'], row['h']], label=row['similarity'] / 5)\n",
    "    test_samples.append(inp_example)"
   ]
  },
  {
   "cell_type": "markdown",
   "id": "28bd4d71-85f9-43aa-a0ca-8500bcba8d74",
   "metadata": {},
   "source": [
    "## Prepare"
   ]
  },
  {
   "cell_type": "code",
   "execution_count": null,
   "id": "68eeb372-59b8-44c1-abb6-57ba37fb6a9f",
   "metadata": {},
   "outputs": [],
   "source": [
    "# Load a pre-trained sentence transformer model\n",
    "model = SentenceTransformer(os.path.join(MODEL_DIRECTORY, BERTIMBAU_BASE_MODEL), device=\"cpu\")\n",
    "\n",
    "# Choose a different path to the new model\n",
    "MODEL_SAVE_PATH = \"../models/finetuned/neuralmind/bert-base-portuguese-cased\"\n",
    "\n",
    "# Setup\n",
    "train_batch_size = 16\n",
    "num_epochs = 4\n",
    "\n",
    "train_dataset = SentencesDataset(train_samples, model)\n",
    "train_dataloader = DataLoader(train_dataset, shuffle=True, batch_size=train_batch_size)\n",
    "train_loss = losses.CosineSimilarityLoss(model=model)\n",
    "\n",
    "evaluator = EmbeddingSimilarityEvaluator.from_input_examples(dev_samples, name='sts-dev')\n",
    "\n",
    "# Configure the training. We skip evaluation in this example\n",
    "warmup_steps = math.ceil(len(train_dataset) * num_epochs / train_batch_size * 0.1) #10% of train data for warm-up"
   ]
  },
  {
   "cell_type": "markdown",
   "id": "2c2666d4-1ca5-4b62-9e9c-3bb55927fde6",
   "metadata": {},
   "source": [
    "## Properly Train the model"
   ]
  },
  {
   "cell_type": "code",
   "execution_count": 177,
   "id": "973713f9-1687-4667-9df0-8eb54fd250e6",
   "metadata": {
    "collapsed": true,
    "execution": {
     "iopub.execute_input": "2022-02-24T14:01:12.105322Z",
     "iopub.status.busy": "2022-02-24T14:01:12.105130Z",
     "iopub.status.idle": "2022-02-24T15:07:24.013159Z",
     "shell.execute_reply": "2022-02-24T15:07:24.012115Z",
     "shell.execute_reply.started": "2022-02-24T14:01:12.105305Z"
    },
    "jupyter": {
     "outputs_hidden": true
    },
    "tags": []
   },
   "outputs": [
    {
     "name": "stderr",
     "output_type": "stream",
     "text": [
      "WARNING:root:No sentence-transformers model found with name ../models/hugging-face-models/neuralmind/bert-base-portuguese-cased. Creating a new one with MEAN pooling.\n"
     ]
    },
    {
     "data": {
      "application/vnd.jupyter.widget-view+json": {
       "model_id": "7517d708ad9941708c40fb7111a90623",
       "version_major": 2,
       "version_minor": 0
      },
      "text/plain": [
       "Epoch:   0%|          | 0/4 [00:00<?, ?it/s]"
      ]
     },
     "metadata": {},
     "output_type": "display_data"
    },
    {
     "data": {
      "application/vnd.jupyter.widget-view+json": {
       "model_id": "3214f08de3e743028942fee58b8cebc9",
       "version_major": 2,
       "version_minor": 0
      },
      "text/plain": [
       "Iteration:   0%|          | 0/313 [00:00<?, ?it/s]"
      ]
     },
     "metadata": {},
     "output_type": "display_data"
    },
    {
     "data": {
      "application/vnd.jupyter.widget-view+json": {
       "model_id": "7ad19aa516084dcea3b91385051b91b8",
       "version_major": 2,
       "version_minor": 0
      },
      "text/plain": [
       "Iteration:   0%|          | 0/313 [00:00<?, ?it/s]"
      ]
     },
     "metadata": {},
     "output_type": "display_data"
    },
    {
     "data": {
      "application/vnd.jupyter.widget-view+json": {
       "model_id": "b0e55d9445fc49e59f7ef36723e51f97",
       "version_major": 2,
       "version_minor": 0
      },
      "text/plain": [
       "Iteration:   0%|          | 0/313 [00:00<?, ?it/s]"
      ]
     },
     "metadata": {},
     "output_type": "display_data"
    },
    {
     "data": {
      "application/vnd.jupyter.widget-view+json": {
       "model_id": "385525c892174eebb07be7c6361d9708",
       "version_major": 2,
       "version_minor": 0
      },
      "text/plain": [
       "Iteration:   0%|          | 0/313 [00:00<?, ?it/s]"
      ]
     },
     "metadata": {},
     "output_type": "display_data"
    },
    {
     "ename": "RuntimeError",
     "evalue": "CUDA error: no kernel image is available for execution on the device\nCUDA kernel errors might be asynchronously reported at some other API call,so the stacktrace below might be incorrect.\nFor debugging consider passing CUDA_LAUNCH_BLOCKING=1.",
     "output_type": "error",
     "traceback": [
      "\u001b[0;31m---------------------------------------------------------------------------\u001b[0m",
      "\u001b[0;31mRuntimeError\u001b[0m                              Traceback (most recent call last)",
      "Input \u001b[0;32mIn [177]\u001b[0m, in \u001b[0;36m<module>\u001b[0;34m\u001b[0m\n\u001b[1;32m     71\u001b[0m model \u001b[38;5;241m=\u001b[39m SentenceTransformer(model_save_path)\n\u001b[1;32m     72\u001b[0m test_evaluator \u001b[38;5;241m=\u001b[39m EmbeddingSimilarityEvaluator\u001b[38;5;241m.\u001b[39mfrom_input_examples(test_samples, name\u001b[38;5;241m=\u001b[39m\u001b[38;5;124m'\u001b[39m\u001b[38;5;124msts-test\u001b[39m\u001b[38;5;124m'\u001b[39m)\n\u001b[0;32m---> 73\u001b[0m \u001b[43mtest_evaluator\u001b[49m\u001b[43m(\u001b[49m\u001b[43mmodel\u001b[49m\u001b[43m,\u001b[49m\u001b[43m \u001b[49m\u001b[43moutput_path\u001b[49m\u001b[38;5;241;43m=\u001b[39;49m\u001b[43mmodel_save_path\u001b[49m\u001b[43m)\u001b[49m\n",
      "File \u001b[0;32m~/Workspace/bracis-2021-supp-material/env/lib/python3.8/site-packages/sentence_transformers/evaluation/EmbeddingSimilarityEvaluator.py:77\u001b[0m, in \u001b[0;36mEmbeddingSimilarityEvaluator.__call__\u001b[0;34m(self, model, output_path, epoch, steps)\u001b[0m\n\u001b[1;32m     73\u001b[0m     out_txt \u001b[38;5;241m=\u001b[39m \u001b[38;5;124m\"\u001b[39m\u001b[38;5;124m:\u001b[39m\u001b[38;5;124m\"\u001b[39m\n\u001b[1;32m     75\u001b[0m logger\u001b[38;5;241m.\u001b[39minfo(\u001b[38;5;124m\"\u001b[39m\u001b[38;5;124mEmbeddingSimilarityEvaluator: Evaluating the model on \u001b[39m\u001b[38;5;124m\"\u001b[39m \u001b[38;5;241m+\u001b[39m \u001b[38;5;28mself\u001b[39m\u001b[38;5;241m.\u001b[39mname \u001b[38;5;241m+\u001b[39m \u001b[38;5;124m\"\u001b[39m\u001b[38;5;124m dataset\u001b[39m\u001b[38;5;124m\"\u001b[39m \u001b[38;5;241m+\u001b[39m out_txt)\n\u001b[0;32m---> 77\u001b[0m embeddings1 \u001b[38;5;241m=\u001b[39m \u001b[43mmodel\u001b[49m\u001b[38;5;241;43m.\u001b[39;49m\u001b[43mencode\u001b[49m\u001b[43m(\u001b[49m\u001b[38;5;28;43mself\u001b[39;49m\u001b[38;5;241;43m.\u001b[39;49m\u001b[43msentences1\u001b[49m\u001b[43m,\u001b[49m\u001b[43m \u001b[49m\u001b[43mbatch_size\u001b[49m\u001b[38;5;241;43m=\u001b[39;49m\u001b[38;5;28;43mself\u001b[39;49m\u001b[38;5;241;43m.\u001b[39;49m\u001b[43mbatch_size\u001b[49m\u001b[43m,\u001b[49m\u001b[43m \u001b[49m\u001b[43mshow_progress_bar\u001b[49m\u001b[38;5;241;43m=\u001b[39;49m\u001b[38;5;28;43mself\u001b[39;49m\u001b[38;5;241;43m.\u001b[39;49m\u001b[43mshow_progress_bar\u001b[49m\u001b[43m,\u001b[49m\u001b[43m \u001b[49m\u001b[43mconvert_to_numpy\u001b[49m\u001b[38;5;241;43m=\u001b[39;49m\u001b[38;5;28;43;01mTrue\u001b[39;49;00m\u001b[43m)\u001b[49m\n\u001b[1;32m     78\u001b[0m embeddings2 \u001b[38;5;241m=\u001b[39m model\u001b[38;5;241m.\u001b[39mencode(\u001b[38;5;28mself\u001b[39m\u001b[38;5;241m.\u001b[39msentences2, batch_size\u001b[38;5;241m=\u001b[39m\u001b[38;5;28mself\u001b[39m\u001b[38;5;241m.\u001b[39mbatch_size, show_progress_bar\u001b[38;5;241m=\u001b[39m\u001b[38;5;28mself\u001b[39m\u001b[38;5;241m.\u001b[39mshow_progress_bar, convert_to_numpy\u001b[38;5;241m=\u001b[39m\u001b[38;5;28;01mTrue\u001b[39;00m)\n\u001b[1;32m     79\u001b[0m labels \u001b[38;5;241m=\u001b[39m \u001b[38;5;28mself\u001b[39m\u001b[38;5;241m.\u001b[39mscores\n",
      "File \u001b[0;32m~/Workspace/bracis-2021-supp-material/env/lib/python3.8/site-packages/sentence_transformers/SentenceTransformer.py:164\u001b[0m, in \u001b[0;36mSentenceTransformer.encode\u001b[0;34m(self, sentences, batch_size, show_progress_bar, output_value, convert_to_numpy, convert_to_tensor, device, normalize_embeddings)\u001b[0m\n\u001b[1;32m    161\u001b[0m features \u001b[38;5;241m=\u001b[39m batch_to_device(features, device)\n\u001b[1;32m    163\u001b[0m \u001b[38;5;28;01mwith\u001b[39;00m torch\u001b[38;5;241m.\u001b[39mno_grad():\n\u001b[0;32m--> 164\u001b[0m     out_features \u001b[38;5;241m=\u001b[39m \u001b[38;5;28;43mself\u001b[39;49m\u001b[38;5;241;43m.\u001b[39;49m\u001b[43mforward\u001b[49m\u001b[43m(\u001b[49m\u001b[43mfeatures\u001b[49m\u001b[43m)\u001b[49m\n\u001b[1;32m    166\u001b[0m     \u001b[38;5;28;01mif\u001b[39;00m output_value \u001b[38;5;241m==\u001b[39m \u001b[38;5;124m'\u001b[39m\u001b[38;5;124mtoken_embeddings\u001b[39m\u001b[38;5;124m'\u001b[39m:\n\u001b[1;32m    167\u001b[0m         embeddings \u001b[38;5;241m=\u001b[39m []\n",
      "File \u001b[0;32m~/Workspace/bracis-2021-supp-material/env/lib/python3.8/site-packages/torch/nn/modules/container.py:141\u001b[0m, in \u001b[0;36mSequential.forward\u001b[0;34m(self, input)\u001b[0m\n\u001b[1;32m    139\u001b[0m \u001b[38;5;28;01mdef\u001b[39;00m \u001b[38;5;21mforward\u001b[39m(\u001b[38;5;28mself\u001b[39m, \u001b[38;5;28minput\u001b[39m):\n\u001b[1;32m    140\u001b[0m     \u001b[38;5;28;01mfor\u001b[39;00m module \u001b[38;5;129;01min\u001b[39;00m \u001b[38;5;28mself\u001b[39m:\n\u001b[0;32m--> 141\u001b[0m         \u001b[38;5;28minput\u001b[39m \u001b[38;5;241m=\u001b[39m \u001b[43mmodule\u001b[49m\u001b[43m(\u001b[49m\u001b[38;5;28;43minput\u001b[39;49m\u001b[43m)\u001b[49m\n\u001b[1;32m    142\u001b[0m     \u001b[38;5;28;01mreturn\u001b[39;00m \u001b[38;5;28minput\u001b[39m\n",
      "File \u001b[0;32m~/Workspace/bracis-2021-supp-material/env/lib/python3.8/site-packages/torch/nn/modules/module.py:1102\u001b[0m, in \u001b[0;36mModule._call_impl\u001b[0;34m(self, *input, **kwargs)\u001b[0m\n\u001b[1;32m   1098\u001b[0m \u001b[38;5;66;03m# If we don't have any hooks, we want to skip the rest of the logic in\u001b[39;00m\n\u001b[1;32m   1099\u001b[0m \u001b[38;5;66;03m# this function, and just call forward.\u001b[39;00m\n\u001b[1;32m   1100\u001b[0m \u001b[38;5;28;01mif\u001b[39;00m \u001b[38;5;129;01mnot\u001b[39;00m (\u001b[38;5;28mself\u001b[39m\u001b[38;5;241m.\u001b[39m_backward_hooks \u001b[38;5;129;01mor\u001b[39;00m \u001b[38;5;28mself\u001b[39m\u001b[38;5;241m.\u001b[39m_forward_hooks \u001b[38;5;129;01mor\u001b[39;00m \u001b[38;5;28mself\u001b[39m\u001b[38;5;241m.\u001b[39m_forward_pre_hooks \u001b[38;5;129;01mor\u001b[39;00m _global_backward_hooks\n\u001b[1;32m   1101\u001b[0m         \u001b[38;5;129;01mor\u001b[39;00m _global_forward_hooks \u001b[38;5;129;01mor\u001b[39;00m _global_forward_pre_hooks):\n\u001b[0;32m-> 1102\u001b[0m     \u001b[38;5;28;01mreturn\u001b[39;00m \u001b[43mforward_call\u001b[49m\u001b[43m(\u001b[49m\u001b[38;5;241;43m*\u001b[39;49m\u001b[38;5;28;43minput\u001b[39;49m\u001b[43m,\u001b[49m\u001b[43m \u001b[49m\u001b[38;5;241;43m*\u001b[39;49m\u001b[38;5;241;43m*\u001b[39;49m\u001b[43mkwargs\u001b[49m\u001b[43m)\u001b[49m\n\u001b[1;32m   1103\u001b[0m \u001b[38;5;66;03m# Do not call functions when jit is used\u001b[39;00m\n\u001b[1;32m   1104\u001b[0m full_backward_hooks, non_full_backward_hooks \u001b[38;5;241m=\u001b[39m [], []\n",
      "File \u001b[0;32m~/Workspace/bracis-2021-supp-material/env/lib/python3.8/site-packages/sentence_transformers/models/Transformer.py:66\u001b[0m, in \u001b[0;36mTransformer.forward\u001b[0;34m(self, features)\u001b[0m\n\u001b[1;32m     63\u001b[0m \u001b[38;5;28;01mif\u001b[39;00m \u001b[38;5;124m'\u001b[39m\u001b[38;5;124mtoken_type_ids\u001b[39m\u001b[38;5;124m'\u001b[39m \u001b[38;5;129;01min\u001b[39;00m features:\n\u001b[1;32m     64\u001b[0m     trans_features[\u001b[38;5;124m'\u001b[39m\u001b[38;5;124mtoken_type_ids\u001b[39m\u001b[38;5;124m'\u001b[39m] \u001b[38;5;241m=\u001b[39m features[\u001b[38;5;124m'\u001b[39m\u001b[38;5;124mtoken_type_ids\u001b[39m\u001b[38;5;124m'\u001b[39m]\n\u001b[0;32m---> 66\u001b[0m output_states \u001b[38;5;241m=\u001b[39m \u001b[38;5;28;43mself\u001b[39;49m\u001b[38;5;241;43m.\u001b[39;49m\u001b[43mauto_model\u001b[49m\u001b[43m(\u001b[49m\u001b[38;5;241;43m*\u001b[39;49m\u001b[38;5;241;43m*\u001b[39;49m\u001b[43mtrans_features\u001b[49m\u001b[43m,\u001b[49m\u001b[43m \u001b[49m\u001b[43mreturn_dict\u001b[49m\u001b[38;5;241;43m=\u001b[39;49m\u001b[38;5;28;43;01mFalse\u001b[39;49;00m\u001b[43m)\u001b[49m\n\u001b[1;32m     67\u001b[0m output_tokens \u001b[38;5;241m=\u001b[39m output_states[\u001b[38;5;241m0\u001b[39m]\n\u001b[1;32m     69\u001b[0m features\u001b[38;5;241m.\u001b[39mupdate({\u001b[38;5;124m'\u001b[39m\u001b[38;5;124mtoken_embeddings\u001b[39m\u001b[38;5;124m'\u001b[39m: output_tokens, \u001b[38;5;124m'\u001b[39m\u001b[38;5;124mattention_mask\u001b[39m\u001b[38;5;124m'\u001b[39m: features[\u001b[38;5;124m'\u001b[39m\u001b[38;5;124mattention_mask\u001b[39m\u001b[38;5;124m'\u001b[39m]})\n",
      "File \u001b[0;32m~/Workspace/bracis-2021-supp-material/env/lib/python3.8/site-packages/torch/nn/modules/module.py:1102\u001b[0m, in \u001b[0;36mModule._call_impl\u001b[0;34m(self, *input, **kwargs)\u001b[0m\n\u001b[1;32m   1098\u001b[0m \u001b[38;5;66;03m# If we don't have any hooks, we want to skip the rest of the logic in\u001b[39;00m\n\u001b[1;32m   1099\u001b[0m \u001b[38;5;66;03m# this function, and just call forward.\u001b[39;00m\n\u001b[1;32m   1100\u001b[0m \u001b[38;5;28;01mif\u001b[39;00m \u001b[38;5;129;01mnot\u001b[39;00m (\u001b[38;5;28mself\u001b[39m\u001b[38;5;241m.\u001b[39m_backward_hooks \u001b[38;5;129;01mor\u001b[39;00m \u001b[38;5;28mself\u001b[39m\u001b[38;5;241m.\u001b[39m_forward_hooks \u001b[38;5;129;01mor\u001b[39;00m \u001b[38;5;28mself\u001b[39m\u001b[38;5;241m.\u001b[39m_forward_pre_hooks \u001b[38;5;129;01mor\u001b[39;00m _global_backward_hooks\n\u001b[1;32m   1101\u001b[0m         \u001b[38;5;129;01mor\u001b[39;00m _global_forward_hooks \u001b[38;5;129;01mor\u001b[39;00m _global_forward_pre_hooks):\n\u001b[0;32m-> 1102\u001b[0m     \u001b[38;5;28;01mreturn\u001b[39;00m \u001b[43mforward_call\u001b[49m\u001b[43m(\u001b[49m\u001b[38;5;241;43m*\u001b[39;49m\u001b[38;5;28;43minput\u001b[39;49m\u001b[43m,\u001b[49m\u001b[43m \u001b[49m\u001b[38;5;241;43m*\u001b[39;49m\u001b[38;5;241;43m*\u001b[39;49m\u001b[43mkwargs\u001b[49m\u001b[43m)\u001b[49m\n\u001b[1;32m   1103\u001b[0m \u001b[38;5;66;03m# Do not call functions when jit is used\u001b[39;00m\n\u001b[1;32m   1104\u001b[0m full_backward_hooks, non_full_backward_hooks \u001b[38;5;241m=\u001b[39m [], []\n",
      "File \u001b[0;32m~/Workspace/bracis-2021-supp-material/env/lib/python3.8/site-packages/transformers/models/bert/modeling_bert.py:969\u001b[0m, in \u001b[0;36mBertModel.forward\u001b[0;34m(self, input_ids, attention_mask, token_type_ids, position_ids, head_mask, inputs_embeds, encoder_hidden_states, encoder_attention_mask, past_key_values, use_cache, output_attentions, output_hidden_states, return_dict)\u001b[0m\n\u001b[1;32m    965\u001b[0m         token_type_ids \u001b[38;5;241m=\u001b[39m torch\u001b[38;5;241m.\u001b[39mzeros(input_shape, dtype\u001b[38;5;241m=\u001b[39mtorch\u001b[38;5;241m.\u001b[39mlong, device\u001b[38;5;241m=\u001b[39mdevice)\n\u001b[1;32m    967\u001b[0m \u001b[38;5;66;03m# We can provide a self-attention mask of dimensions [batch_size, from_seq_length, to_seq_length]\u001b[39;00m\n\u001b[1;32m    968\u001b[0m \u001b[38;5;66;03m# ourselves in which case we just need to make it broadcastable to all heads.\u001b[39;00m\n\u001b[0;32m--> 969\u001b[0m extended_attention_mask: torch\u001b[38;5;241m.\u001b[39mTensor \u001b[38;5;241m=\u001b[39m \u001b[38;5;28;43mself\u001b[39;49m\u001b[38;5;241;43m.\u001b[39;49m\u001b[43mget_extended_attention_mask\u001b[49m\u001b[43m(\u001b[49m\u001b[43mattention_mask\u001b[49m\u001b[43m,\u001b[49m\u001b[43m \u001b[49m\u001b[43minput_shape\u001b[49m\u001b[43m,\u001b[49m\u001b[43m \u001b[49m\u001b[43mdevice\u001b[49m\u001b[43m)\u001b[49m\n\u001b[1;32m    971\u001b[0m \u001b[38;5;66;03m# If a 2D or 3D attention mask is provided for the cross-attention\u001b[39;00m\n\u001b[1;32m    972\u001b[0m \u001b[38;5;66;03m# we need to make broadcastable to [batch_size, num_heads, seq_length, seq_length]\u001b[39;00m\n\u001b[1;32m    973\u001b[0m \u001b[38;5;28;01mif\u001b[39;00m \u001b[38;5;28mself\u001b[39m\u001b[38;5;241m.\u001b[39mconfig\u001b[38;5;241m.\u001b[39mis_decoder \u001b[38;5;129;01mand\u001b[39;00m encoder_hidden_states \u001b[38;5;129;01mis\u001b[39;00m \u001b[38;5;129;01mnot\u001b[39;00m \u001b[38;5;28;01mNone\u001b[39;00m:\n",
      "File \u001b[0;32m~/Workspace/bracis-2021-supp-material/env/lib/python3.8/site-packages/transformers/modeling_utils.py:306\u001b[0m, in \u001b[0;36mModuleUtilsMixin.get_extended_attention_mask\u001b[0;34m(self, attention_mask, input_shape, device)\u001b[0m\n\u001b[1;32m    297\u001b[0m     \u001b[38;5;28;01mraise\u001b[39;00m \u001b[38;5;167;01mValueError\u001b[39;00m(\n\u001b[1;32m    298\u001b[0m         \u001b[38;5;124mf\u001b[39m\u001b[38;5;124m\"\u001b[39m\u001b[38;5;124mWrong shape for input_ids (shape \u001b[39m\u001b[38;5;132;01m{\u001b[39;00minput_shape\u001b[38;5;132;01m}\u001b[39;00m\u001b[38;5;124m) or attention_mask (shape \u001b[39m\u001b[38;5;132;01m{\u001b[39;00mattention_mask\u001b[38;5;241m.\u001b[39mshape\u001b[38;5;132;01m}\u001b[39;00m\u001b[38;5;124m)\u001b[39m\u001b[38;5;124m\"\u001b[39m\n\u001b[1;32m    299\u001b[0m     )\n\u001b[1;32m    301\u001b[0m \u001b[38;5;66;03m# Since attention_mask is 1.0 for positions we want to attend and 0.0 for\u001b[39;00m\n\u001b[1;32m    302\u001b[0m \u001b[38;5;66;03m# masked positions, this operation will create a tensor which is 0.0 for\u001b[39;00m\n\u001b[1;32m    303\u001b[0m \u001b[38;5;66;03m# positions we want to attend and -10000.0 for masked positions.\u001b[39;00m\n\u001b[1;32m    304\u001b[0m \u001b[38;5;66;03m# Since we are adding it to the raw scores before the softmax, this is\u001b[39;00m\n\u001b[1;32m    305\u001b[0m \u001b[38;5;66;03m# effectively the same as removing these entirely.\u001b[39;00m\n\u001b[0;32m--> 306\u001b[0m extended_attention_mask \u001b[38;5;241m=\u001b[39m \u001b[43mextended_attention_mask\u001b[49m\u001b[38;5;241;43m.\u001b[39;49m\u001b[43mto\u001b[49m\u001b[43m(\u001b[49m\u001b[43mdtype\u001b[49m\u001b[38;5;241;43m=\u001b[39;49m\u001b[38;5;28;43mself\u001b[39;49m\u001b[38;5;241;43m.\u001b[39;49m\u001b[43mdtype\u001b[49m\u001b[43m)\u001b[49m  \u001b[38;5;66;03m# fp16 compatibility\u001b[39;00m\n\u001b[1;32m    307\u001b[0m extended_attention_mask \u001b[38;5;241m=\u001b[39m (\u001b[38;5;241m1.0\u001b[39m \u001b[38;5;241m-\u001b[39m extended_attention_mask) \u001b[38;5;241m*\u001b[39m \u001b[38;5;241m-\u001b[39m\u001b[38;5;241m10000.0\u001b[39m\n\u001b[1;32m    308\u001b[0m \u001b[38;5;28;01mreturn\u001b[39;00m extended_attention_mask\n",
      "\u001b[0;31mRuntimeError\u001b[0m: CUDA error: no kernel image is available for execution on the device\nCUDA kernel errors might be asynchronously reported at some other API call,so the stacktrace below might be incorrect.\nFor debugging consider passing CUDA_LAUNCH_BLOCKING=1."
     ]
    }
   ],
   "source": [
    "model.fit(train_objectives=[(train_dataloader, train_loss)],\n",
    "          evaluator=evaluator,\n",
    "          epochs=num_epochs,\n",
    "          evaluation_steps=1000,\n",
    "          warmup_steps=warmup_steps,\n",
    "          output_path=MODEL_SAVE_PATH,\n",
    "          )\n",
    "\n"
   ]
  },
  {
   "cell_type": "markdown",
   "id": "dd170f08-4647-41ff-b4d0-b0fccbc75cc0",
   "metadata": {},
   "source": [
    "## Re-load the Model"
   ]
  },
  {
   "cell_type": "code",
   "execution_count": 180,
   "id": "a3d4bb93-13cb-4563-b886-5b4e48fc8c58",
   "metadata": {
    "execution": {
     "iopub.execute_input": "2022-02-24T15:10:48.284839Z",
     "iopub.status.busy": "2022-02-24T15:10:48.284532Z",
     "iopub.status.idle": "2022-02-24T15:10:49.183575Z",
     "shell.execute_reply": "2022-02-24T15:10:49.182780Z",
     "shell.execute_reply.started": "2022-02-24T15:10:48.284799Z"
    },
    "tags": []
   },
   "outputs": [],
   "source": [
    "model = SentenceTransformer(MODEL_SAVE_PATH, device=\"cpu\")"
   ]
  },
  {
   "cell_type": "markdown",
   "id": "5b53494b-94ec-4a44-b3fa-c9863da69f3e",
   "metadata": {},
   "source": [
    "## Re-evaluate results"
   ]
  },
  {
   "cell_type": "code",
   "execution_count": 201,
   "id": "ee471313-5cb7-47e9-9798-755856e40ce7",
   "metadata": {
    "execution": {
     "iopub.execute_input": "2022-02-24T15:43:05.363803Z",
     "iopub.status.busy": "2022-02-24T15:43:05.363547Z",
     "iopub.status.idle": "2022-02-24T15:45:19.400527Z",
     "shell.execute_reply": "2022-02-24T15:45:19.399651Z",
     "shell.execute_reply.started": "2022-02-24T15:43:05.363779Z"
    },
    "tags": []
   },
   "outputs": [
    {
     "data": {
      "application/vnd.jupyter.widget-view+json": {
       "model_id": "2a5eb447fe7e4922b4ddeb01c82e372d",
       "version_major": 2,
       "version_minor": 0
      },
      "text/plain": [
       "Batches:   0%|          | 0/125 [00:00<?, ?it/s]"
      ]
     },
     "metadata": {},
     "output_type": "display_data"
    },
    {
     "data": {
      "application/vnd.jupyter.widget-view+json": {
       "model_id": "8f2aef5af0fd45ea9de664e0f5e9be3c",
       "version_major": 2,
       "version_minor": 0
      },
      "text/plain": [
       "Batches:   0%|          | 0/125 [00:00<?, ?it/s]"
      ]
     },
     "metadata": {},
     "output_type": "display_data"
    }
   ],
   "source": [
    "test_t_embeddings = model.encode(df[df[\"set\"] == \"test\"]['t'].tolist(), show_progress_bar=True)\n",
    "test_h_embeddings = model.encode(df[df[\"set\"] == \"test\"]['h'].tolist(), show_progress_bar=True)"
   ]
  },
  {
   "cell_type": "code",
   "execution_count": 204,
   "id": "643565dd-e6b4-41aa-a94c-45bd2d3b62e9",
   "metadata": {
    "execution": {
     "iopub.execute_input": "2022-02-24T15:45:46.809066Z",
     "iopub.status.busy": "2022-02-24T15:45:46.808539Z",
     "iopub.status.idle": "2022-02-24T15:45:47.491520Z",
     "shell.execute_reply": "2022-02-24T15:45:47.490675Z",
     "shell.execute_reply.started": "2022-02-24T15:45:46.809004Z"
    },
    "tags": []
   },
   "outputs": [],
   "source": [
    "test_df = df[df[\"set\"] == \"test\"].drop(columns=[\"bert_large_similarity\"])\n",
    "test_df[\"fine_tuned_bert_large_similarity\"] = [5.0 * cosine_similarity([t], [h])[0][0] \n",
    "                                               for t, h in zip(test_t_embeddings, test_h_embeddings)]"
   ]
  },
  {
   "cell_type": "code",
   "execution_count": 205,
   "id": "27980808-a7fa-4b63-929a-bd37b60b79b1",
   "metadata": {
    "execution": {
     "iopub.execute_input": "2022-02-24T15:45:48.764393Z",
     "iopub.status.busy": "2022-02-24T15:45:48.764113Z",
     "iopub.status.idle": "2022-02-24T15:45:48.773609Z",
     "shell.execute_reply": "2022-02-24T15:45:48.772133Z",
     "shell.execute_reply.started": "2022-02-24T15:45:48.764354Z"
    },
    "tags": []
   },
   "outputs": [
    {
     "name": "stdout",
     "output_type": "stream",
     "text": [
      "\n",
      "Similarity evaluation\n",
      "Pearson\t\tMean Squared Error\n",
      "-------\t\t------------------\n",
      "  0.788\t\t              0.42\n"
     ]
    }
   ],
   "source": [
    "eval_similarity(test_df[\"similarity\"], test_df[\"fine_tuned_bert_large_similarity\"])"
   ]
  },
  {
   "cell_type": "code",
   "execution_count": 232,
   "id": "3141aedb-54ca-481a-8c1f-5ec569121570",
   "metadata": {
    "execution": {
     "iopub.execute_input": "2022-02-24T16:07:17.026445Z",
     "iopub.status.busy": "2022-02-24T16:07:17.025990Z",
     "iopub.status.idle": "2022-02-24T16:07:17.514124Z",
     "shell.execute_reply": "2022-02-24T16:07:17.512875Z",
     "shell.execute_reply.started": "2022-02-24T16:07:17.026393Z"
    },
    "tags": []
   },
   "outputs": [
    {
     "data": {
      "image/png": "[encoded data removed]",
      "text/plain": [
       "<Figure size 1000x300 with 2 Axes>"
      ]
     },
     "metadata": {},
     "output_type": "display_data"
    },
    {
     "data": {
      "text/plain": [
       "<ggplot: (8774824468420)>"
      ]
     },
     "execution_count": 232,
     "metadata": {},
     "output_type": "execute_result"
    }
   ],
   "source": [
    "plot_df = pd.melt(test_df, id_vars=[\"id\", \"t\", \"h\", \"language\", \"set\"])\n",
    "\n",
    "g = (ggplot(plot_df, aes(x='value', fill='variable')) +\n",
    "     geom_histogram(binwidth=0.15, alpha=0.9, position=\"dodge\") + \n",
    "     theme_bw() + \n",
    "     theme(figure_size=(10, 3),\n",
    "           plot_title=element_text(size=15),\n",
    "           legend_position=\"bottom\") +\n",
    "     scale_fill_manual(name=\"Similarity type\", values=[\"tab:orange\", \"tab:blue\"]) +\n",
    "     facet_grid(\". ~ language\", scales=\"free_y\") +\n",
    "     ggtitle(\"This time, the distribution of similarity makes more sense\"))\n",
    "\n",
    "g"
   ]
  },
  {
   "cell_type": "code",
   "execution_count": 237,
   "id": "13e5b38f-fe85-40e5-aed4-2e0448c1d345",
   "metadata": {
    "execution": {
     "iopub.execute_input": "2022-02-24T16:09:20.714010Z",
     "iopub.status.busy": "2022-02-24T16:09:20.713752Z",
     "iopub.status.idle": "2022-02-24T16:09:21.362401Z",
     "shell.execute_reply": "2022-02-24T16:09:21.361014Z",
     "shell.execute_reply.started": "2022-02-24T16:09:20.713986Z"
    },
    "tags": []
   },
   "outputs": [
    {
     "data": {
      "image/png": "[encoded data removed]",
      "text/plain": [
       "<Figure size 1000x600 with 4 Axes>"
      ]
     },
     "metadata": {},
     "output_type": "display_data"
    },
    {
     "data": {
      "text/plain": [
       "<ggplot: (8774850580565)>"
      ]
     },
     "execution_count": 237,
     "metadata": {},
     "output_type": "execute_result"
    }
   ],
   "source": [
    "g = (ggplot(plot_df, aes(x='value', fill='variable')) +\n",
    "     geom_histogram(binwidth=0.15, alpha=0.9, position=\"dodge\") + \n",
    "     theme_bw() + \n",
    "     theme(figure_size=(10, 6),\n",
    "           plot_title=element_text(size=13),\n",
    "           legend_position=\"bottom\") +\n",
    "     scale_fill_manual(name=\"Similarity type\", values=[\"tab:orange\", \"tab:blue\"]) +\n",
    "     facet_grid(\"variable ~ language\", scales=\"free_y\") +\n",
    "     ggtitle(\"Same plot but faceted differently\"))\n",
    "\n",
    "g"
   ]
  },
  {
   "cell_type": "markdown",
   "id": "bc7deb65-4b2b-4be1-bbb4-5455ce02a8b7",
   "metadata": {},
   "source": [
    "# Good vs Bad Predictions\n",
    "\n",
    "Where did this model go wrong? Where did it get it right? What can we learn from this black box?"
   ]
  },
  {
   "cell_type": "markdown",
   "id": "e663b2b2-a2ea-4eb5-a4d0-538ff0e47b13",
   "metadata": {
    "tags": []
   },
   "source": [
    "## True Similarity = 5 | ✅ Good predictions | 🇧🇷 PT-BR"
   ]
  },
  {
   "cell_type": "code",
   "execution_count": 244,
   "id": "8c78f490-dc88-4ebc-98bc-f63b22744818",
   "metadata": {
    "execution": {
     "iopub.execute_input": "2022-02-24T16:16:16.870511Z",
     "iopub.status.busy": "2022-02-24T16:16:16.869964Z",
     "iopub.status.idle": "2022-02-24T16:16:16.905981Z",
     "shell.execute_reply": "2022-02-24T16:16:16.904514Z",
     "shell.execute_reply.started": "2022-02-24T16:16:16.870467Z"
    },
    "tags": []
   },
   "outputs": [
    {
     "data": {
      "text/html": [
       "<div>\n",
       "<style scoped>\n",
       "    .dataframe tbody tr th:only-of-type {\n",
       "        vertical-align: middle;\n",
       "    }\n",
       "\n",
       "    .dataframe tbody tr th {\n",
       "        vertical-align: top;\n",
       "    }\n",
       "\n",
       "    .dataframe thead th {\n",
       "        text-align: right;\n",
       "    }\n",
       "</style>\n",
       "<table border=\"1\" class=\"dataframe\">\n",
       "  <thead>\n",
       "    <tr style=\"text-align: right;\">\n",
       "      <th></th>\n",
       "      <th></th>\n",
       "      <th></th>\n",
       "      <th></th>\n",
       "      <th></th>\n",
       "      <th></th>\n",
       "      <th></th>\n",
       "    </tr>\n",
       "    <tr>\n",
       "      <th>id</th>\n",
       "      <th>t</th>\n",
       "      <th>h</th>\n",
       "      <th>similarity</th>\n",
       "      <th>language</th>\n",
       "      <th>set</th>\n",
       "      <th>fine_tuned_bert_large_similarity</th>\n",
       "    </tr>\n",
       "  </thead>\n",
       "  <tbody>\n",
       "    <tr>\n",
       "      <th>391</th>\n",
       "      <th>Os ingressos custam entre R$ 100 e R$ 650.</th>\n",
       "      <th>Os preços dos ingressos variam entre R$ 100 e R$ 650.</th>\n",
       "      <th>5.0</th>\n",
       "      <th>ptbr</th>\n",
       "      <th>test</th>\n",
       "      <th>4.879697</th>\n",
       "    </tr>\n",
       "    <tr>\n",
       "      <th>329</th>\n",
       "      <th>A cerimônia, que ocorrerá no Palácio do Planalto, está prevista para ter início às 15h.</th>\n",
       "      <th>A cerimônia está prevista para começar às 15h e será realizada no Palácio do Planalto.</th>\n",
       "      <th>5.0</th>\n",
       "      <th>ptbr</th>\n",
       "      <th>test</th>\n",
       "      <th>4.856287</th>\n",
       "    </tr>\n",
       "    <tr>\n",
       "      <th>135</th>\n",
       "      <th>Ele falou que estava à disposição, então o trouxemos para cá.</th>\n",
       "      <th>Ele disse que estava à disposição e por isso o trouxemos para cá.</th>\n",
       "      <th>5.0</th>\n",
       "      <th>ptbr</th>\n",
       "      <th>test</th>\n",
       "      <th>4.832805</th>\n",
       "    </tr>\n",
       "    <tr>\n",
       "      <th>32</th>\n",
       "      <th>Esta proposta aborda o aumento persistente dos gastos ao longo dos anos.</th>\n",
       "      <th>Essa proposta trata do aumento persistente em despesas ao longo dos anos.</th>\n",
       "      <th>5.0</th>\n",
       "      <th>ptbr</th>\n",
       "      <th>test</th>\n",
       "      <th>4.795143</th>\n",
       "    </tr>\n",
       "    <tr>\n",
       "      <th>1936</th>\n",
       "      <th>Neste domingo, o Atlético-MG recebe o Flamengo às 16 horas no Independência.</th>\n",
       "      <th>O Atlético-MG enfrenta o Flamengo nesse domingo, às 16 h no estádio Independência.</th>\n",
       "      <th>5.0</th>\n",
       "      <th>ptbr</th>\n",
       "      <th>test</th>\n",
       "      <th>4.767831</th>\n",
       "    </tr>\n",
       "  </tbody>\n",
       "</table>\n",
       "</div>"
      ],
      "text/plain": [
       "Empty DataFrame\n",
       "Columns: []\n",
       "Index: [(391, Os ingressos custam entre R$ 100 e R$ 650., Os preços dos ingressos variam entre R$ 100 e R$ 650., 5.0, ptbr, test, 4.87969696521759), (329, A cerimônia, que ocorrerá no Palácio do Planalto, está prevista para ter início às 15h., A cerimônia está prevista para começar às 15h e será realizada no Palácio do Planalto., 5.0, ptbr, test, 4.856286942958832), (135, Ele falou que estava à disposição, então o trouxemos para cá., Ele disse que estava à disposição e por isso o trouxemos para cá., 5.0, ptbr, test, 4.832805097103119), (32, Esta proposta aborda o aumento persistente dos gastos ao longo dos anos., Essa proposta trata do aumento persistente em despesas ao longo dos anos., 5.0, ptbr, test, 4.795143008232117), (1936, Neste domingo, o Atlético-MG recebe o Flamengo às 16 horas no Independência., O Atlético-MG enfrenta o Flamengo nesse domingo, às 16 h no estádio Independência., 5.0, ptbr, test, 4.767830967903137)]"
      ]
     },
     "execution_count": 244,
     "metadata": {},
     "output_type": "execute_result"
    }
   ],
   "source": [
    "test_df[(test_df[\"language\"] == \"ptbr\") & (test_df[\"similarity\"] == 5)]\\\n",
    "    .sort_values([\"fine_tuned_bert_large_similarity\"], ascending=False)\\\n",
    "    .set_index(test_df.columns.tolist()).head()"
   ]
  },
  {
   "cell_type": "markdown",
   "id": "5b1f8119-9c5b-487d-b38b-8e135fe35e03",
   "metadata": {},
   "source": [
    "## True Similarity = 5 | ⛔ Bad predictions | 🇧🇷 PT-BR"
   ]
  },
  {
   "cell_type": "code",
   "execution_count": 246,
   "id": "15ff7c85-a7fc-49cc-8f6c-d53dc62d2ef7",
   "metadata": {
    "execution": {
     "iopub.execute_input": "2022-02-24T16:17:48.707915Z",
     "iopub.status.busy": "2022-02-24T16:17:48.707651Z",
     "iopub.status.idle": "2022-02-24T16:17:48.745401Z",
     "shell.execute_reply": "2022-02-24T16:17:48.744099Z",
     "shell.execute_reply.started": "2022-02-24T16:17:48.707892Z"
    },
    "tags": []
   },
   "outputs": [
    {
     "data": {
      "text/html": [
       "<div>\n",
       "<style scoped>\n",
       "    .dataframe tbody tr th:only-of-type {\n",
       "        vertical-align: middle;\n",
       "    }\n",
       "\n",
       "    .dataframe tbody tr th {\n",
       "        vertical-align: top;\n",
       "    }\n",
       "\n",
       "    .dataframe thead th {\n",
       "        text-align: right;\n",
       "    }\n",
       "</style>\n",
       "<table border=\"1\" class=\"dataframe\">\n",
       "  <thead>\n",
       "    <tr style=\"text-align: right;\">\n",
       "      <th></th>\n",
       "      <th></th>\n",
       "      <th></th>\n",
       "      <th></th>\n",
       "      <th></th>\n",
       "      <th></th>\n",
       "      <th></th>\n",
       "    </tr>\n",
       "    <tr>\n",
       "      <th>id</th>\n",
       "      <th>t</th>\n",
       "      <th>h</th>\n",
       "      <th>similarity</th>\n",
       "      <th>language</th>\n",
       "      <th>set</th>\n",
       "      <th>fine_tuned_bert_large_similarity</th>\n",
       "    </tr>\n",
       "  </thead>\n",
       "  <tbody>\n",
       "    <tr>\n",
       "      <th>1596</th>\n",
       "      <th>Somente o presidente da República e o vice poderão viajar de primeira classe.</th>\n",
       "      <th>Viajar de avião na primeira classe agora é exclusividade do presidente e do vice.</th>\n",
       "      <th>5.0</th>\n",
       "      <th>ptbr</th>\n",
       "      <th>test</th>\n",
       "      <th>3.504598</th>\n",
       "    </tr>\n",
       "    <tr>\n",
       "      <th>154</th>\n",
       "      <th>Nunca antes um pontífice havia ido ao plenário das Casa Legislativas dos Estados Unidos.</th>\n",
       "      <th>Ele será o primeiro papa no plenário da Casa Legislativa dos Estados Unidos.</th>\n",
       "      <th>5.0</th>\n",
       "      <th>ptbr</th>\n",
       "      <th>test</th>\n",
       "      <th>3.525558</th>\n",
       "    </tr>\n",
       "    <tr>\n",
       "      <th>1197</th>\n",
       "      <th>Até o término do julgamento, outros ministros que já votaram podem mudar suas posições.</th>\n",
       "      <th>Os ministros podem rever votos antes do fim do julgamento.</th>\n",
       "      <th>5.0</th>\n",
       "      <th>ptbr</th>\n",
       "      <th>test</th>\n",
       "      <th>4.018155</th>\n",
       "    </tr>\n",
       "    <tr>\n",
       "      <th>201</th>\n",
       "      <th>Além de Luciana Lóssio, o presidente do TSE, Dias Toffoli, precisa apresentar seu voto.</th>\n",
       "      <th>Além de Lóssio, falta votar o presidente do tribunal, Dias Toffoli.</th>\n",
       "      <th>5.0</th>\n",
       "      <th>ptbr</th>\n",
       "      <th>test</th>\n",
       "      <th>4.022967</th>\n",
       "    </tr>\n",
       "    <tr>\n",
       "      <th>1014</th>\n",
       "      <th>Já cortamos aproximadamente dois mil policiais nos últimos oito anos e seis meses.</th>\n",
       "      <th>Cortamos quase 2 mil policiais em 8 anos e 6 meses de governo.</th>\n",
       "      <th>5.0</th>\n",
       "      <th>ptbr</th>\n",
       "      <th>test</th>\n",
       "      <th>4.107897</th>\n",
       "    </tr>\n",
       "  </tbody>\n",
       "</table>\n",
       "</div>"
      ],
      "text/plain": [
       "Empty DataFrame\n",
       "Columns: []\n",
       "Index: [(1596, Somente o presidente da República e o vice poderão viajar de primeira classe., Viajar de avião na primeira classe agora é exclusividade do presidente e do vice., 5.0, ptbr, test, 3.5045981407165527), (154, Nunca antes um pontífice havia ido ao plenário das Casa Legislativas dos Estados Unidos., Ele será o primeiro papa no plenário da Casa Legislativa dos Estados Unidos., 5.0, ptbr, test, 3.525557518005371), (1197, Até o término do julgamento, outros ministros que já votaram podem mudar suas posições., Os ministros podem rever votos antes do fim do julgamento., 5.0, ptbr, test, 4.018155336380005), (201, Além de Luciana Lóssio, o presidente do TSE, Dias Toffoli, precisa apresentar seu voto., Além de Lóssio, falta votar o presidente do tribunal, Dias Toffoli., 5.0, ptbr, test, 4.022967219352722), (1014, Já cortamos aproximadamente dois mil policiais nos últimos oito anos e seis meses., Cortamos quase 2 mil policiais em 8 anos e 6 meses de governo., 5.0, ptbr, test, 4.107896685600281)]"
      ]
     },
     "execution_count": 246,
     "metadata": {},
     "output_type": "execute_result"
    }
   ],
   "source": [
    "test_df[(test_df[\"language\"] == \"ptbr\") & (test_df[\"similarity\"] == 5)]\\\n",
    "    .sort_values([\"fine_tuned_bert_large_similarity\"], ascending=True)\\\n",
    "    .set_index(test_df.columns.tolist()).head()"
   ]
  },
  {
   "cell_type": "markdown",
   "id": "5c423196-2101-41d2-bfd0-c056f5287179",
   "metadata": {
    "tags": []
   },
   "source": [
    "## True Similarity = 1 | ✅ Good predictions | 🇧🇷 PT-BR"
   ]
  },
  {
   "cell_type": "code",
   "execution_count": 247,
   "id": "7a197b9b-7574-461f-b7c4-3678c1981a0b",
   "metadata": {
    "execution": {
     "iopub.execute_input": "2022-02-24T16:20:03.545627Z",
     "iopub.status.busy": "2022-02-24T16:20:03.545332Z",
     "iopub.status.idle": "2022-02-24T16:20:03.575987Z",
     "shell.execute_reply": "2022-02-24T16:20:03.574409Z",
     "shell.execute_reply.started": "2022-02-24T16:20:03.545592Z"
    },
    "tags": []
   },
   "outputs": [
    {
     "data": {
      "text/html": [
       "<div>\n",
       "<style scoped>\n",
       "    .dataframe tbody tr th:only-of-type {\n",
       "        vertical-align: middle;\n",
       "    }\n",
       "\n",
       "    .dataframe tbody tr th {\n",
       "        vertical-align: top;\n",
       "    }\n",
       "\n",
       "    .dataframe thead th {\n",
       "        text-align: right;\n",
       "    }\n",
       "</style>\n",
       "<table border=\"1\" class=\"dataframe\">\n",
       "  <thead>\n",
       "    <tr style=\"text-align: right;\">\n",
       "      <th></th>\n",
       "      <th></th>\n",
       "      <th></th>\n",
       "      <th></th>\n",
       "      <th></th>\n",
       "      <th></th>\n",
       "      <th></th>\n",
       "    </tr>\n",
       "    <tr>\n",
       "      <th>id</th>\n",
       "      <th>t</th>\n",
       "      <th>h</th>\n",
       "      <th>similarity</th>\n",
       "      <th>language</th>\n",
       "      <th>set</th>\n",
       "      <th>fine_tuned_bert_large_similarity</th>\n",
       "    </tr>\n",
       "  </thead>\n",
       "  <tbody>\n",
       "    <tr>\n",
       "      <th>1670</th>\n",
       "      <th>Faturou também a Supercopa da Libertadores e a Recopa no mesmo ano, e a Conmebol de 1994.</th>\n",
       "      <th>Ele assinou contrato até dezembro de 2016.</th>\n",
       "      <th>1.0</th>\n",
       "      <th>ptbr</th>\n",
       "      <th>test</th>\n",
       "      <th>0.849535</th>\n",
       "    </tr>\n",
       "    <tr>\n",
       "      <th>1353</th>\n",
       "      <th>Mas as verificações só podem começar no dia 5.</th>\n",
       "      <th>Por volta das 9h, fizemos uma pausa.</th>\n",
       "      <th>1.0</th>\n",
       "      <th>ptbr</th>\n",
       "      <th>test</th>\n",
       "      <th>0.954918</th>\n",
       "    </tr>\n",
       "    <tr>\n",
       "      <th>1098</th>\n",
       "      <th>A informação foi revelada pelo diretor-presidente da Ancine, Manoel Rangel.</th>\n",
       "      <th>Nós não oneramos o caixa da União.</th>\n",
       "      <th>1.0</th>\n",
       "      <th>ptbr</th>\n",
       "      <th>test</th>\n",
       "      <th>1.154470</th>\n",
       "    </tr>\n",
       "    <tr>\n",
       "      <th>1530</th>\n",
       "      <th>Nada é proibido, mas na seleção brasileira não é local para exposição religiosa ou política.</th>\n",
       "      <th>Não tem nada ganho no Brasileiro, completou Elias.</th>\n",
       "      <th>1.0</th>\n",
       "      <th>ptbr</th>\n",
       "      <th>test</th>\n",
       "      <th>1.229794</th>\n",
       "    </tr>\n",
       "    <tr>\n",
       "      <th>14</th>\n",
       "      <th>A decisão representa uma derrota para o presidente da Câmara, Eduardo Cunha (PMDB-RJ).</th>\n",
       "      <th>Vou entregar as informações.</th>\n",
       "      <th>1.0</th>\n",
       "      <th>ptbr</th>\n",
       "      <th>test</th>\n",
       "      <th>1.250176</th>\n",
       "    </tr>\n",
       "  </tbody>\n",
       "</table>\n",
       "</div>"
      ],
      "text/plain": [
       "Empty DataFrame\n",
       "Columns: []\n",
       "Index: [(1670, Faturou também a Supercopa da Libertadores e a Recopa no mesmo ano, e a Conmebol de 1994., Ele assinou contrato até dezembro de 2016., 1.0, ptbr, test, 0.8495354652404785), (1353, Mas as verificações só podem começar no dia 5., Por volta das 9h, fizemos uma pausa., 1.0, ptbr, test, 0.9549184143543243), (1098, A informação foi revelada pelo diretor-presidente da Ancine, Manoel Rangel., Nós não oneramos o caixa da União., 1.0, ptbr, test, 1.154470071196556), (1530, Nada é proibido, mas na seleção brasileira não é local para exposição religiosa ou política., Não tem nada ganho no Brasileiro, completou Elias., 1.0, ptbr, test, 1.2297943979501724), (14, A decisão representa uma derrota para o presidente da Câmara, Eduardo Cunha (PMDB-RJ)., Vou entregar as informações., 1.0, ptbr, test, 1.2501761317253113)]"
      ]
     },
     "execution_count": 247,
     "metadata": {},
     "output_type": "execute_result"
    }
   ],
   "source": [
    "test_df[(test_df[\"language\"] == \"ptbr\") & (test_df[\"similarity\"] == 1)]\\\n",
    "    .sort_values([\"fine_tuned_bert_large_similarity\"], ascending=True)\\\n",
    "    .set_index(test_df.columns.tolist()).head()"
   ]
  },
  {
   "cell_type": "markdown",
   "id": "849ce5c1-edde-4d33-b30c-4775050ee601",
   "metadata": {},
   "source": [
    "## True Similarity = 1 | ⛔ Bad predictions | 🇧🇷 PT-BR"
   ]
  },
  {
   "cell_type": "code",
   "execution_count": 249,
   "id": "b195f5bd-6899-4abb-8338-85e0e6dc7d19",
   "metadata": {
    "execution": {
     "iopub.execute_input": "2022-02-24T16:20:19.112093Z",
     "iopub.status.busy": "2022-02-24T16:20:19.111836Z",
     "iopub.status.idle": "2022-02-24T16:20:19.138756Z",
     "shell.execute_reply": "2022-02-24T16:20:19.137542Z",
     "shell.execute_reply.started": "2022-02-24T16:20:19.112069Z"
    },
    "tags": []
   },
   "outputs": [
    {
     "data": {
      "text/html": [
       "<div>\n",
       "<style scoped>\n",
       "    .dataframe tbody tr th:only-of-type {\n",
       "        vertical-align: middle;\n",
       "    }\n",
       "\n",
       "    .dataframe tbody tr th {\n",
       "        vertical-align: top;\n",
       "    }\n",
       "\n",
       "    .dataframe thead th {\n",
       "        text-align: right;\n",
       "    }\n",
       "</style>\n",
       "<table border=\"1\" class=\"dataframe\">\n",
       "  <thead>\n",
       "    <tr style=\"text-align: right;\">\n",
       "      <th></th>\n",
       "      <th></th>\n",
       "      <th></th>\n",
       "      <th></th>\n",
       "      <th></th>\n",
       "      <th></th>\n",
       "      <th></th>\n",
       "    </tr>\n",
       "    <tr>\n",
       "      <th>id</th>\n",
       "      <th>t</th>\n",
       "      <th>h</th>\n",
       "      <th>similarity</th>\n",
       "      <th>language</th>\n",
       "      <th>set</th>\n",
       "      <th>fine_tuned_bert_large_similarity</th>\n",
       "    </tr>\n",
       "  </thead>\n",
       "  <tbody>\n",
       "    <tr>\n",
       "      <th>801</th>\n",
       "      <th>A partir de terça, haverá atendimento normalmente até sábado, das 7 às 18 horas.</th>\n",
       "      <th>No sábado, as obras paralisam das 0h às 14h.</th>\n",
       "      <th>1.0</th>\n",
       "      <th>ptbr</th>\n",
       "      <th>test</th>\n",
       "      <th>2.989966</th>\n",
       "    </tr>\n",
       "    <tr>\n",
       "      <th>195</th>\n",
       "      <th>Ninguém gosta de sair da Vila Belmiro.</th>\n",
       "      <th>Aquela partida da Vila Belmiro foi muito bem disputada.</th>\n",
       "      <th>1.0</th>\n",
       "      <th>ptbr</th>\n",
       "      <th>test</th>\n",
       "      <th>2.553423</th>\n",
       "    </tr>\n",
       "    <tr>\n",
       "      <th>1806</th>\n",
       "      <th>A indústria extrativa exibe comportamento totalmente distinto do setor de transformação.</th>\n",
       "      <th>O início de ano exibe comportamento de queda para além da volatilidade.</th>\n",
       "      <th>1.0</th>\n",
       "      <th>ptbr</th>\n",
       "      <th>test</th>\n",
       "      <th>2.270746</th>\n",
       "    </tr>\n",
       "    <tr>\n",
       "      <th>405</th>\n",
       "      <th>E depois que o francês saiu da lateral esquerda, o Bayer Leverkusen não criou mais perigo.</th>\n",
       "      <th>Também me lembrei de outro texto, falando sobre a lateral esquerda.</th>\n",
       "      <th>1.0</th>\n",
       "      <th>ptbr</th>\n",
       "      <th>test</th>\n",
       "      <th>2.225190</th>\n",
       "    </tr>\n",
       "    <tr>\n",
       "      <th>482</th>\n",
       "      <th>Temos que estar muito bem preparados para isso.</th>\n",
       "      <th>Está totalmente recuperado e pronto para voltar a jogar.</th>\n",
       "      <th>1.0</th>\n",
       "      <th>ptbr</th>\n",
       "      <th>test</th>\n",
       "      <th>2.223529</th>\n",
       "    </tr>\n",
       "  </tbody>\n",
       "</table>\n",
       "</div>"
      ],
      "text/plain": [
       "Empty DataFrame\n",
       "Columns: []\n",
       "Index: [(801, A partir de terça, haverá atendimento normalmente até sábado, das 7 às 18 horas., No sábado, as obras paralisam das 0h às 14h., 1.0, ptbr, test, 2.9899662733078003), (195, Ninguém gosta de sair da Vila Belmiro., Aquela partida da Vila Belmiro foi muito bem disputada., 1.0, ptbr, test, 2.553422749042511), (1806, A indústria extrativa exibe comportamento totalmente distinto do setor de transformação., O início de ano exibe comportamento de queda para além da volatilidade., 1.0, ptbr, test, 2.2707462310791016), (405, E depois que o francês saiu da lateral esquerda, o Bayer Leverkusen não criou mais perigo., Também me lembrei de outro texto, falando sobre a lateral esquerda., 1.0, ptbr, test, 2.2251901030540466), (482, Temos que estar muito bem preparados para isso., Está totalmente recuperado e pronto para voltar a jogar., 1.0, ptbr, test, 2.2235290706157684)]"
      ]
     },
     "execution_count": 249,
     "metadata": {},
     "output_type": "execute_result"
    }
   ],
   "source": [
    "test_df[(test_df[\"language\"] == \"ptbr\") & (test_df[\"similarity\"] == 1)]\\\n",
    "    .sort_values([\"fine_tuned_bert_large_similarity\"], ascending=False)\\\n",
    "    .set_index(test_df.columns.tolist()).head()"
   ]
  },
  {
   "cell_type": "markdown",
   "id": "3030a253-5ddd-41fa-a239-259b37c6e43a",
   "metadata": {},
   "source": [
    "# Overview of misclassification"
   ]
  },
  {
   "cell_type": "code",
   "execution_count": 256,
   "id": "a73a654b-1596-4a86-80e5-85ecb9a907a3",
   "metadata": {
    "execution": {
     "iopub.execute_input": "2022-02-24T16:29:43.992069Z",
     "iopub.status.busy": "2022-02-24T16:29:43.990672Z",
     "iopub.status.idle": "2022-02-24T16:29:44.002144Z",
     "shell.execute_reply": "2022-02-24T16:29:44.001089Z",
     "shell.execute_reply.started": "2022-02-24T16:29:43.992034Z"
    },
    "tags": []
   },
   "outputs": [],
   "source": [
    "test_df[\"similarity_bands\"] = pd.cut(test_df[\"similarity\"], range(6))\n",
    "test_df[\"ft_bert_similarity_bands\"] = pd.cut(test_df[\"fine_tuned_bert_large_similarity\"], range(6))"
   ]
  },
  {
   "cell_type": "code",
   "execution_count": 255,
   "id": "ee7ae759-106a-443e-ad0b-b0d23a7a506f",
   "metadata": {
    "execution": {
     "iopub.execute_input": "2022-02-24T16:29:36.676471Z",
     "iopub.status.busy": "2022-02-24T16:29:36.675995Z",
     "iopub.status.idle": "2022-02-24T16:29:36.817967Z",
     "shell.execute_reply": "2022-02-24T16:29:36.816890Z",
     "shell.execute_reply.started": "2022-02-24T16:29:36.676414Z"
    },
    "tags": []
   },
   "outputs": [
    {
     "data": {
      "text/html": [
       "<style type=\"text/css\">\n",
       "#T_550bc_row0_col0, #T_550bc_row1_col0, #T_550bc_row1_col1, #T_550bc_row2_col2, #T_550bc_row3_col3, #T_550bc_row3_col4 {\n",
       "  background-color: #08306b;\n",
       "  color: #f1f1f1;\n",
       "}\n",
       "#T_550bc_row0_col1 {\n",
       "  background-color: #d3e4f3;\n",
       "  color: #000000;\n",
       "}\n",
       "#T_550bc_row0_col2 {\n",
       "  background-color: #eef5fc;\n",
       "  color: #000000;\n",
       "}\n",
       "#T_550bc_row0_col3, #T_550bc_row0_col4, #T_550bc_row3_col0, #T_550bc_row4_col0, #T_550bc_row4_col1, #T_550bc_row4_col2 {\n",
       "  background-color: #f7fbff;\n",
       "  color: #000000;\n",
       "}\n",
       "#T_550bc_row1_col2 {\n",
       "  background-color: #2676b8;\n",
       "  color: #f1f1f1;\n",
       "}\n",
       "#T_550bc_row1_col3 {\n",
       "  background-color: #cddff1;\n",
       "  color: #000000;\n",
       "}\n",
       "#T_550bc_row1_col4 {\n",
       "  background-color: #f5fafe;\n",
       "  color: #000000;\n",
       "}\n",
       "#T_550bc_row2_col0 {\n",
       "  background-color: #6aaed6;\n",
       "  color: #f1f1f1;\n",
       "}\n",
       "#T_550bc_row2_col1 {\n",
       "  background-color: #a3cce3;\n",
       "  color: #000000;\n",
       "}\n",
       "#T_550bc_row2_col3 {\n",
       "  background-color: #084d96;\n",
       "  color: #f1f1f1;\n",
       "}\n",
       "#T_550bc_row2_col4 {\n",
       "  background-color: #eff6fc;\n",
       "  color: #000000;\n",
       "}\n",
       "#T_550bc_row3_col1 {\n",
       "  background-color: #f1f7fd;\n",
       "  color: #000000;\n",
       "}\n",
       "#T_550bc_row3_col2 {\n",
       "  background-color: #dceaf6;\n",
       "  color: #000000;\n",
       "}\n",
       "#T_550bc_row4_col3 {\n",
       "  background-color: #ddeaf7;\n",
       "  color: #000000;\n",
       "}\n",
       "#T_550bc_row4_col4 {\n",
       "  background-color: #08468b;\n",
       "  color: #f1f1f1;\n",
       "}\n",
       "</style>\n",
       "<table id=\"T_550bc\">\n",
       "  <thead>\n",
       "    <tr>\n",
       "      <th class=\"index_name level0\" >ft_bert_similarity_bands</th>\n",
       "      <th id=\"T_550bc_level0_col0\" class=\"col_heading level0 col0\" >(0, 1]</th>\n",
       "      <th id=\"T_550bc_level0_col1\" class=\"col_heading level0 col1\" >(1, 2]</th>\n",
       "      <th id=\"T_550bc_level0_col2\" class=\"col_heading level0 col2\" >(2, 3]</th>\n",
       "      <th id=\"T_550bc_level0_col3\" class=\"col_heading level0 col3\" >(3, 4]</th>\n",
       "      <th id=\"T_550bc_level0_col4\" class=\"col_heading level0 col4\" >(4, 5]</th>\n",
       "    </tr>\n",
       "    <tr>\n",
       "      <th class=\"index_name level0\" >similarity_bands</th>\n",
       "      <th class=\"blank col0\" >&nbsp;</th>\n",
       "      <th class=\"blank col1\" >&nbsp;</th>\n",
       "      <th class=\"blank col2\" >&nbsp;</th>\n",
       "      <th class=\"blank col3\" >&nbsp;</th>\n",
       "      <th class=\"blank col4\" >&nbsp;</th>\n",
       "    </tr>\n",
       "  </thead>\n",
       "  <tbody>\n",
       "    <tr>\n",
       "      <th id=\"T_550bc_level0_row0\" class=\"row_heading level0 row0\" >(0, 1]</th>\n",
       "      <td id=\"T_550bc_row0_col0\" class=\"data row0 col0\" >2</td>\n",
       "      <td id=\"T_550bc_row0_col1\" class=\"data row0 col1\" >23</td>\n",
       "      <td id=\"T_550bc_row0_col2\" class=\"data row0 col2\" >35</td>\n",
       "      <td id=\"T_550bc_row0_col3\" class=\"data row0 col3\" >1</td>\n",
       "      <td id=\"T_550bc_row0_col4\" class=\"data row0 col4\" >0</td>\n",
       "    </tr>\n",
       "    <tr>\n",
       "      <th id=\"T_550bc_level0_row1\" class=\"row_heading level0 row1\" >(1, 2]</th>\n",
       "      <td id=\"T_550bc_row1_col0\" class=\"data row1 col0\" >2</td>\n",
       "      <td id=\"T_550bc_row1_col1\" class=\"data row1 col1\" >127</td>\n",
       "      <td id=\"T_550bc_row1_col2\" class=\"data row1 col2\" >543</td>\n",
       "      <td id=\"T_550bc_row1_col3\" class=\"data row1 col3\" >158</td>\n",
       "      <td id=\"T_550bc_row1_col4\" class=\"data row1 col4\" >4</td>\n",
       "    </tr>\n",
       "    <tr>\n",
       "      <th id=\"T_550bc_level0_row2\" class=\"row_heading level0 row2\" >(2, 3]</th>\n",
       "      <td id=\"T_550bc_row2_col0\" class=\"data row2 col0\" >1</td>\n",
       "      <td id=\"T_550bc_row2_col1\" class=\"data row2 col1\" >46</td>\n",
       "      <td id=\"T_550bc_row2_col2\" class=\"data row2 col2\" >745</td>\n",
       "      <td id=\"T_550bc_row2_col3\" class=\"data row2 col3\" >649</td>\n",
       "      <td id=\"T_550bc_row2_col4\" class=\"data row2 col4\" >15</td>\n",
       "    </tr>\n",
       "    <tr>\n",
       "      <th id=\"T_550bc_level0_row3\" class=\"row_heading level0 row3\" >(3, 4]</th>\n",
       "      <td id=\"T_550bc_row3_col0\" class=\"data row3 col0\" >0</td>\n",
       "      <td id=\"T_550bc_row3_col1\" class=\"data row3 col1\" >4</td>\n",
       "      <td id=\"T_550bc_row3_col2\" class=\"data row3 col2\" >101</td>\n",
       "      <td id=\"T_550bc_row3_col3\" class=\"data row3 col3\" >731</td>\n",
       "      <td id=\"T_550bc_row3_col4\" class=\"data row3 col4\" >373</td>\n",
       "    </tr>\n",
       "    <tr>\n",
       "      <th id=\"T_550bc_level0_row4\" class=\"row_heading level0 row4\" >(4, 5]</th>\n",
       "      <td id=\"T_550bc_row4_col0\" class=\"data row4 col0\" >0</td>\n",
       "      <td id=\"T_550bc_row4_col1\" class=\"data row4 col1\" >0</td>\n",
       "      <td id=\"T_550bc_row4_col2\" class=\"data row4 col2\" >1</td>\n",
       "      <td id=\"T_550bc_row4_col3\" class=\"data row4 col3\" >97</td>\n",
       "      <td id=\"T_550bc_row4_col4\" class=\"data row4 col4\" >342</td>\n",
       "    </tr>\n",
       "  </tbody>\n",
       "</table>\n"
      ],
      "text/plain": [
       "<pandas.io.formats.style.Styler at 0x7fb0dcccfc70>"
      ]
     },
     "execution_count": 255,
     "metadata": {},
     "output_type": "execute_result"
    }
   ],
   "source": [
    "df_crosstab = pd.crosstab(test_df[\"similarity_bands\"], test_df[\"ft_bert_similarity_bands\"])\n",
    "\n",
    "df_crosstab.style.background_gradient(cmap='Blues')"
   ]
  }
 ],
 "metadata": {
  "kernelspec": {
   "display_name": "env",
   "language": "python",
   "name": "env"
  },
  "language_info": {
   "codemirror_mode": {
    "name": "ipython",
    "version": 3
   },
   "file_extension": ".py",
   "mimetype": "text/x-python",
   "name": "python",
   "nbconvert_exporter": "python",
   "pygments_lexer": "ipython3",
   "version": "3.8.10"
  }
 },
 "nbformat": 4,
 "nbformat_minor": 5
}
