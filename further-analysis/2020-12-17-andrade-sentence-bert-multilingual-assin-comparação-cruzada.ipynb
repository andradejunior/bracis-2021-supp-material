{
 "cells": [
  {
   "cell_type": "code",
   "execution_count": 1,
   "metadata": {},
   "outputs": [
    {
     "name": "stdout",
     "output_type": "stream",
     "text": [
      "hello world\n"
     ]
    }
   ],
   "source": [
    "print('hello world')"
   ]
  },
  {
   "cell_type": "markdown",
   "metadata": {},
   "source": [
    "Outras similaridades: Cos, Ovl, Jacc, Dice"
   ]
  },
  {
   "cell_type": "markdown",
   "metadata": {},
   "source": [
    "Semantic Similarity\n",
    "\n",
    "These models find semantically similar sentences within one language or across languages:\n",
    "\n",
    "**distiluse-base-multilingual-cased-v2**: Multilingual knowledge distilled version of multilingual Universal Sentence Encoder. While the original mUSE model only supports 16 languages, this multilingual knowledge distilled version supports 50+ languages.\n",
    "\n",
    "**xlm-r-distilroberta-base-paraphrase-v1** - Multilingual version of distilroberta-base-paraphrase-v1, trained on parallel data for 50+ languages.\n",
    "\n",
    "**xlm-r-bert-base-nli-stsb-mean-tokens**: Produces similar embeddings as the bert-base-nli-stsb-mean-token model. Trained on parallel data for 50+ languages.\n",
    "\n",
    "**distilbert-multilingual-nli-stsb-quora-ranking** - Multilingual version of distilbert-base-nli-stsb-quora-ranking. Fine-tuned with parallel data for 50+ languages.\n",
    "\n",
    "**T-Systems-onsite/cross-en-de-roberta-sentence-transformer** - Multilingual model for English an German. [More]"
   ]
  },
  {
   "cell_type": "markdown",
   "metadata": {},
   "source": [
    "# Imports e métodos necessários"
   ]
  },
  {
   "cell_type": "code",
   "execution_count": 2,
   "metadata": {
    "ExecuteTime": {
     "end_time": "2020-12-18T20:24:34.236384Z",
     "start_time": "2020-12-18T20:24:32.928695Z"
    }
   },
   "outputs": [],
   "source": [
    "import pandas as pd\n",
    "import numpy as np\n",
    "import matplotlib.pyplot as plt\n",
    "import seaborn as sns\n",
    "\n",
    "%matplotlib inline"
   ]
  },
  {
   "cell_type": "code",
   "execution_count": 3,
   "metadata": {
    "ExecuteTime": {
     "end_time": "2020-12-18T20:24:36.251296Z",
     "start_time": "2020-12-18T20:24:36.238768Z"
    }
   },
   "outputs": [],
   "source": [
    "import pandas as pd \n",
    "import xml.etree.ElementTree as et \n",
    "\n",
    "from scipy.stats import pearsonr\n",
    "\n",
    "def parse_xml(xml_file):\n",
    "    \"\"\"Parse xml to pandas dataframe.\"\"\"\n",
    "    xtree = et.parse(xml_file)\n",
    "    xroot = xtree.getroot() \n",
    "\n",
    "    df_cols = ['id', 't', 'h', 'similarity']\n",
    "    rows = []\n",
    "\n",
    "    for node in xroot:\n",
    "        id_ = node.attrib.get(\"id\")\n",
    "        similarity = node.attrib.get(\"similarity\")\n",
    "        t = node.find(\"t\").text\n",
    "        h = node.find(\"h\").text\n",
    "\n",
    "        rows.append({\n",
    "            \"id\": id_,\n",
    "            \"t\": t, \n",
    "            \"h\": h,\n",
    "            \"similarity\": similarity\n",
    "        })\n",
    "    return pd.DataFrame(rows, columns=df_cols, dtype=float)\n",
    "\n",
    "def eval_similarity(pairs_gold, pairs_sys):\n",
    "    '''\n",
    "    Evaluate the semantic similarity output of the system against a gold score. \n",
    "    Results are printed to stdout.\n",
    "    '''\n",
    "    \n",
    "    gold_values = np.array(pairs_gold)\n",
    "    sys_values = np.array(pairs_sys)\n",
    "    pearson = pearsonr(gold_values, sys_values)[0]\n",
    "    absolute_diff = gold_values - sys_values\n",
    "    mse = (absolute_diff ** 2).mean()\n",
    "    \n",
    "    print()\n",
    "    print('Similarity evaluation')\n",
    "    print('Pearson\\t\\tMean Squared Error')\n",
    "    print('-------\\t\\t------------------')\n",
    "    print('{:7.3f}\\t\\t{:18.2f}'.format(pearson, mse))"
   ]
  },
  {
   "cell_type": "markdown",
   "metadata": {},
   "source": [
    "# Carregando os dados"
   ]
  },
  {
   "cell_type": "code",
   "execution_count": 4,
   "metadata": {
    "ExecuteTime": {
     "end_time": "2020-12-18T20:24:37.825799Z",
     "start_time": "2020-12-18T20:24:37.119297Z"
    }
   },
   "outputs": [
    {
     "name": "stdout",
     "output_type": "stream",
     "text": [
      "assin-ptbr-dev.xml   assin-ptbr-train.xml  assin-ptpt-test.xml\r\n",
      "assin-ptbr-test.xml  assin-ptpt-dev.xml    assin-ptpt-train.xml\r\n"
     ]
    }
   ],
   "source": [
    "!ls ../data/assin"
   ]
  },
  {
   "cell_type": "code",
   "execution_count": 5,
   "metadata": {
    "ExecuteTime": {
     "end_time": "2020-12-18T20:24:39.352880Z",
     "start_time": "2020-12-18T20:24:37.833605Z"
    }
   },
   "outputs": [],
   "source": [
    "df_ptbr_train = parse_xml('../data/assin/assin-ptbr-train.xml')\n",
    "df_ptbr_dev = parse_xml('../data/assin/assin-ptbr-dev.xml')\n",
    "df_ptbr_test = parse_xml('../data/assin/assin-ptbr-test.xml')\n",
    "\n",
    "df_ptpt_train = parse_xml('../data/assin/assin-ptpt-train.xml')\n",
    "df_ptpt_dev = parse_xml('../data/assin/assin-ptpt-dev.xml')\n",
    "df_ptpt_test = parse_xml('../data/assin/assin-ptpt-test.xml')"
   ]
  },
  {
   "cell_type": "code",
   "execution_count": 6,
   "metadata": {
    "ExecuteTime": {
     "end_time": "2020-12-18T20:24:39.361179Z",
     "start_time": "2020-12-18T20:24:39.355916Z"
    }
   },
   "outputs": [
    {
     "name": "stdout",
     "output_type": "stream",
     "text": [
      "assin-ptbr-train: (2500, 4)\n",
      "assin-ptbr-dev: (500, 4)\n",
      "assin-ptbr-test: (2000, 4)\n",
      "\n",
      "assin-ptpt-train: (2500, 4)\n",
      "assin-ptpt-dev: (500, 4)\n",
      "assin-ptpt-test: (2000, 4)\n"
     ]
    }
   ],
   "source": [
    "print(f'assin-ptbr-train: {df_ptbr_train.shape}')\n",
    "print(f'assin-ptbr-dev: {df_ptbr_dev.shape}')\n",
    "print(f'assin-ptbr-test: {df_ptbr_test.shape}')\n",
    "print()\n",
    "print(f'assin-ptpt-train: {df_ptpt_train.shape}')\n",
    "print(f'assin-ptpt-dev: {df_ptpt_dev.shape}')\n",
    "print(f'assin-ptpt-test: {df_ptpt_test.shape}')"
   ]
  },
  {
   "cell_type": "code",
   "execution_count": 7,
   "metadata": {
    "ExecuteTime": {
     "end_time": "2020-12-18T20:24:39.383990Z",
     "start_time": "2020-12-18T20:24:39.363385Z"
    }
   },
   "outputs": [
    {
     "data": {
      "text/html": [
       "<div>\n",
       "<style scoped>\n",
       "    .dataframe tbody tr th:only-of-type {\n",
       "        vertical-align: middle;\n",
       "    }\n",
       "\n",
       "    .dataframe tbody tr th {\n",
       "        vertical-align: top;\n",
       "    }\n",
       "\n",
       "    .dataframe thead th {\n",
       "        text-align: right;\n",
       "    }\n",
       "</style>\n",
       "<table border=\"1\" class=\"dataframe\">\n",
       "  <thead>\n",
       "    <tr style=\"text-align: right;\">\n",
       "      <th></th>\n",
       "      <th>id</th>\n",
       "      <th>t</th>\n",
       "      <th>h</th>\n",
       "      <th>similarity</th>\n",
       "    </tr>\n",
       "  </thead>\n",
       "  <tbody>\n",
       "    <tr>\n",
       "      <th>0</th>\n",
       "      <td>1.0</td>\n",
       "      <td>A gente faz o aporte financeiro, é como se a e...</td>\n",
       "      <td>Fernando Moraes afirma que não tem vínculo com...</td>\n",
       "      <td>2.00</td>\n",
       "    </tr>\n",
       "    <tr>\n",
       "      <th>1</th>\n",
       "      <td>2.0</td>\n",
       "      <td>Em 2013, a história de como Walt Disney conven...</td>\n",
       "      <td>P.L.Travers era completamente contra a adaptaç...</td>\n",
       "      <td>2.25</td>\n",
       "    </tr>\n",
       "    <tr>\n",
       "      <th>2</th>\n",
       "      <td>3.0</td>\n",
       "      <td>David Silva bateu escanteio, Kompany escalou a...</td>\n",
       "      <td>David Silva cobrou escanteio, o zagueiro se ap...</td>\n",
       "      <td>3.75</td>\n",
       "    </tr>\n",
       "    <tr>\n",
       "      <th>3</th>\n",
       "      <td>4.0</td>\n",
       "      <td>Para os ambientalistas, as metas anunciadas pe...</td>\n",
       "      <td>Dilma aproveitou seu discurso ontem, na Confer...</td>\n",
       "      <td>2.75</td>\n",
       "    </tr>\n",
       "    <tr>\n",
       "      <th>4</th>\n",
       "      <td>5.0</td>\n",
       "      <td>De acordo com a PM, por volta das 10h30 havia ...</td>\n",
       "      <td>O protesto encerrou por volta de 12h15 (horári...</td>\n",
       "      <td>2.00</td>\n",
       "    </tr>\n",
       "  </tbody>\n",
       "</table>\n",
       "</div>"
      ],
      "text/plain": [
       "    id                                                  t  \\\n",
       "0  1.0  A gente faz o aporte financeiro, é como se a e...   \n",
       "1  2.0  Em 2013, a história de como Walt Disney conven...   \n",
       "2  3.0  David Silva bateu escanteio, Kompany escalou a...   \n",
       "3  4.0  Para os ambientalistas, as metas anunciadas pe...   \n",
       "4  5.0  De acordo com a PM, por volta das 10h30 havia ...   \n",
       "\n",
       "                                                   h  similarity  \n",
       "0  Fernando Moraes afirma que não tem vínculo com...        2.00  \n",
       "1  P.L.Travers era completamente contra a adaptaç...        2.25  \n",
       "2  David Silva cobrou escanteio, o zagueiro se ap...        3.75  \n",
       "3  Dilma aproveitou seu discurso ontem, na Confer...        2.75  \n",
       "4  O protesto encerrou por volta de 12h15 (horári...        2.00  "
      ]
     },
     "execution_count": 7,
     "metadata": {},
     "output_type": "execute_result"
    }
   ],
   "source": [
    "df_ptbr_train.head()"
   ]
  },
  {
   "cell_type": "markdown",
   "metadata": {},
   "source": [
    "## Fine-tuning Sentence-BERT"
   ]
  },
  {
   "cell_type": "markdown",
   "metadata": {},
   "source": [
    "https://www.sbert.net/docs/training/overview.html"
   ]
  },
  {
   "cell_type": "markdown",
   "metadata": {},
   "source": [
    "https://github.com/UKPLab/sentence-transformers/blob/master/examples/training/sts/training_stsbenchmark_continue_training.py"
   ]
  },
  {
   "cell_type": "markdown",
   "metadata": {},
   "source": [
    "### xlm-r-distilroberta-base-paraphrase-v1"
   ]
  },
  {
   "cell_type": "code",
   "execution_count": 8,
   "metadata": {
    "ExecuteTime": {
     "end_time": "2020-12-18T02:24:08.055629Z",
     "start_time": "2020-12-18T01:36:03.378395Z"
    }
   },
   "outputs": [
    {
     "data": {
      "application/vnd.jupyter.widget-view+json": {
       "model_id": "826f99dad7c8437dbb83d184ceb0c68b",
       "version_major": 2,
       "version_minor": 0
      },
      "text/plain": [
       "HBox(children=(FloatProgress(value=0.0, description='Epoch', max=4.0, style=ProgressStyle(description_width='i…"
      ]
     },
     "metadata": {},
     "output_type": "display_data"
    },
    {
     "data": {
      "application/vnd.jupyter.widget-view+json": {
       "model_id": "3b66dcf1680e4e699bdaf29ce1e355a4",
       "version_major": 2,
       "version_minor": 0
      },
      "text/plain": [
       "HBox(children=(FloatProgress(value=0.0, description='Iteration', max=157.0, style=ProgressStyle(description_wi…"
      ]
     },
     "metadata": {},
     "output_type": "display_data"
    },
    {
     "name": "stdout",
     "output_type": "stream",
     "text": [
      "\n"
     ]
    },
    {
     "data": {
      "application/vnd.jupyter.widget-view+json": {
       "model_id": "2f997e8e406c4291a330895f45d75a5e",
       "version_major": 2,
       "version_minor": 0
      },
      "text/plain": [
       "HBox(children=(FloatProgress(value=0.0, description='Iteration', max=157.0, style=ProgressStyle(description_wi…"
      ]
     },
     "metadata": {},
     "output_type": "display_data"
    },
    {
     "name": "stdout",
     "output_type": "stream",
     "text": [
      "\n"
     ]
    },
    {
     "data": {
      "application/vnd.jupyter.widget-view+json": {
       "model_id": "f45e28d40ef142aeaf76a0b433fa5572",
       "version_major": 2,
       "version_minor": 0
      },
      "text/plain": [
       "HBox(children=(FloatProgress(value=0.0, description='Iteration', max=157.0, style=ProgressStyle(description_wi…"
      ]
     },
     "metadata": {},
     "output_type": "display_data"
    },
    {
     "name": "stdout",
     "output_type": "stream",
     "text": [
      "\n"
     ]
    },
    {
     "data": {
      "application/vnd.jupyter.widget-view+json": {
       "model_id": "a19caa4cde5e4203a3ab63ababf36794",
       "version_major": 2,
       "version_minor": 0
      },
      "text/plain": [
       "HBox(children=(FloatProgress(value=0.0, description='Iteration', max=157.0, style=ProgressStyle(description_wi…"
      ]
     },
     "metadata": {},
     "output_type": "display_data"
    },
    {
     "name": "stdout",
     "output_type": "stream",
     "text": [
      "\n",
      "\n"
     ]
    }
   ],
   "source": [
    "\"\"\"\n",
    "This example loads the pre-trained SentenceTransformer model 'bert-base-nli-mean-tokens' from the server.\n",
    "It then fine-tunes this model for some epochs on the STS benchmark dataset.\n",
    "Note: In this example, you must specify a SentenceTransformer model.\n",
    "If you want to fine-tune a huggingface/transformers model like bert-base-uncased, see training_nli.py and training_stsbenchmark.py\n",
    "\"\"\"\n",
    "from torch.utils.data import DataLoader\n",
    "import math\n",
    "from sentence_transformers import SentenceTransformer,  SentencesDataset, LoggingHandler, losses, util, InputExample\n",
    "from sentence_transformers.evaluation import EmbeddingSimilarityEvaluator\n",
    "from datetime import datetime\n",
    "import os\n",
    "import csv\n",
    "from sentence_transformers import models, SentenceTransformer\n",
    "\n",
    "\n",
    "\n",
    "# Read the dataset\n",
    "train_batch_size = 16\n",
    "num_epochs = 4\n",
    "model_save_path = '../data/sbert_finetuning_assin_xlm-r-distilroberta-base-paraphrase-v1-comp-ptpt'# + datetime.now().strftime(\"%Y-%m-%d_%H-%M-%S\")\n",
    "\n",
    "\n",
    "\n",
    "# Load a pre-trained sentence transformer model\n",
    "#model = SentenceTransformer(model_name)\n",
    "\n",
    "\n",
    "model = SentenceTransformer('xlm-r-distilroberta-base-paraphrase-v1')\n",
    "\n",
    "train_samples = []\n",
    "dev_samples = []\n",
    "#test_samples = []\n",
    "\n",
    "for i, row in df_ptbr_train.iterrows():\n",
    "    inp_example = InputExample(texts=[row['t'], row['h']], label=row['similarity'] / 5)\n",
    "    train_samples.append(inp_example)\n",
    "    \n",
    "for i, row in df_ptbr_dev.iterrows():\n",
    "    inp_example = InputExample(texts=[row['t'], row['h']], label=row['similarity'] / 5)\n",
    "    dev_samples.append(inp_example)\n",
    "    \n",
    "#for i, row in df_ptbr_test.iterrows():\n",
    " #   inp_example = InputExample(texts=[row['t'], row['h']], label=row['similarity'] / 5)\n",
    "  #  test_samples.append(inp_example)\n",
    "    \n",
    "\n",
    "\n",
    "train_dataset = SentencesDataset(train_samples, model)\n",
    "train_dataloader = DataLoader(train_dataset, shuffle=True, batch_size=train_batch_size)\n",
    "train_loss = losses.CosineSimilarityLoss(model=model)\n",
    "\n",
    "\n",
    "evaluator = EmbeddingSimilarityEvaluator.from_input_examples(dev_samples, name='sts-dev')\n",
    "\n",
    "\n",
    "# Configure the training. We skip evaluation in this example\n",
    "warmup_steps = math.ceil(len(train_dataset) * num_epochs / train_batch_size * 0.1) #10% of train data for warm-up\n",
    "\n",
    "\n",
    "# Train the model\n",
    "model.fit(train_objectives=[(train_dataloader, train_loss)],\n",
    "          evaluator=evaluator,\n",
    "          epochs=num_epochs,\n",
    "          evaluation_steps=1000,\n",
    "          warmup_steps=warmup_steps,\n",
    "          output_path=model_save_path)"
   ]
  },
  {
   "cell_type": "code",
   "execution_count": 9,
   "metadata": {
    "ExecuteTime": {
     "end_time": "2020-12-18T02:25:31.905207Z",
     "start_time": "2020-12-18T02:24:08.075587Z"
    },
    "scrolled": true
   },
   "outputs": [],
   "source": [
    "t_embeddings = model.encode(df_ptbr_test['t'].tolist())\n",
    "h_embeddings = model.encode(df_ptbr_test['h'].tolist())"
   ]
  },
  {
   "cell_type": "code",
   "execution_count": 10,
   "metadata": {
    "ExecuteTime": {
     "end_time": "2020-12-18T02:25:32.584847Z",
     "start_time": "2020-12-18T02:25:31.907145Z"
    }
   },
   "outputs": [],
   "source": [
    "from sklearn.metrics.pairwise import  cosine_similarity\n",
    "\n",
    "similarities = [5.0 * cosine_similarity([t], [h])[0][0] for t, h in zip(t_embeddings, h_embeddings)]"
   ]
  },
  {
   "cell_type": "code",
   "execution_count": 11,
   "metadata": {
    "ExecuteTime": {
     "end_time": "2020-12-18T02:25:32.594227Z",
     "start_time": "2020-12-18T02:25:32.586695Z"
    }
   },
   "outputs": [],
   "source": [
    "pairs_gold = df_ptbr_test['similarity'].tolist()\n",
    "pairs_sys = similarities"
   ]
  },
  {
   "cell_type": "code",
   "execution_count": 12,
   "metadata": {
    "ExecuteTime": {
     "end_time": "2020-12-18T02:25:32.610136Z",
     "start_time": "2020-12-18T02:25:32.597950Z"
    },
    "scrolled": true
   },
   "outputs": [
    {
     "name": "stdout",
     "output_type": "stream",
     "text": [
      "\n",
      "Similarity evaluation\n",
      "Pearson\t\tMean Squared Error\n",
      "-------\t\t------------------\n",
      "  0.792\t\t              0.30\n"
     ]
    }
   ],
   "source": [
    "eval_similarity(pairs_gold, pairs_sys)"
   ]
  },
  {
   "cell_type": "code",
   "execution_count": 13,
   "metadata": {},
   "outputs": [
    {
     "data": {
      "text/html": [
       "<div>\n",
       "<style scoped>\n",
       "    .dataframe tbody tr th:only-of-type {\n",
       "        vertical-align: middle;\n",
       "    }\n",
       "\n",
       "    .dataframe tbody tr th {\n",
       "        vertical-align: top;\n",
       "    }\n",
       "\n",
       "    .dataframe thead th {\n",
       "        text-align: right;\n",
       "    }\n",
       "</style>\n",
       "<table border=\"1\" class=\"dataframe\">\n",
       "  <thead>\n",
       "    <tr style=\"text-align: right;\">\n",
       "      <th></th>\n",
       "      <th>id</th>\n",
       "      <th>t</th>\n",
       "      <th>h</th>\n",
       "      <th>similarity</th>\n",
       "      <th>expected</th>\n",
       "      <th>predicted</th>\n",
       "    </tr>\n",
       "  </thead>\n",
       "  <tbody>\n",
       "    <tr>\n",
       "      <th>0</th>\n",
       "      <td>1.0</td>\n",
       "      <td>No Brasil, 809 instituições participarão da Pr...</td>\n",
       "      <td>Começa nesta segunda-feira, em todo o Brasil, ...</td>\n",
       "      <td>3.25</td>\n",
       "      <td>3.25</td>\n",
       "      <td>2.642748</td>\n",
       "    </tr>\n",
       "    <tr>\n",
       "      <th>1</th>\n",
       "      <td>2.0</td>\n",
       "      <td>Alguns dos novos participantes serão revelados...</td>\n",
       "      <td>Parte dos participantes será anunciada no Prog...</td>\n",
       "      <td>4.00</td>\n",
       "      <td>4.00</td>\n",
       "      <td>4.125273</td>\n",
       "    </tr>\n",
       "    <tr>\n",
       "      <th>2</th>\n",
       "      <td>3.0</td>\n",
       "      <td>Nesta terça, o Inter revelou que o gringo sofr...</td>\n",
       "      <td>Nesta terça-feira, o departamento médico do cl...</td>\n",
       "      <td>4.50</td>\n",
       "      <td>4.50</td>\n",
       "      <td>3.798805</td>\n",
       "    </tr>\n",
       "    <tr>\n",
       "      <th>3</th>\n",
       "      <td>4.0</td>\n",
       "      <td>O texto da reforma política será agora encamin...</td>\n",
       "      <td>Após passar pela Câmara, o texto tem que ir ai...</td>\n",
       "      <td>4.00</td>\n",
       "      <td>4.00</td>\n",
       "      <td>3.195306</td>\n",
       "    </tr>\n",
       "    <tr>\n",
       "      <th>4</th>\n",
       "      <td>5.0</td>\n",
       "      <td>O Fluminense vive crise em campo e não vence h...</td>\n",
       "      <td>Nos últimos seis jogos, o Fluminense foi derro...</td>\n",
       "      <td>4.25</td>\n",
       "      <td>4.25</td>\n",
       "      <td>3.898855</td>\n",
       "    </tr>\n",
       "  </tbody>\n",
       "</table>\n",
       "</div>"
      ],
      "text/plain": [
       "    id                                                  t  \\\n",
       "0  1.0  No Brasil, 809 instituições participarão da Pr...   \n",
       "1  2.0  Alguns dos novos participantes serão revelados...   \n",
       "2  3.0  Nesta terça, o Inter revelou que o gringo sofr...   \n",
       "3  4.0  O texto da reforma política será agora encamin...   \n",
       "4  5.0  O Fluminense vive crise em campo e não vence h...   \n",
       "\n",
       "                                                   h  similarity  expected  \\\n",
       "0  Começa nesta segunda-feira, em todo o Brasil, ...        3.25      3.25   \n",
       "1  Parte dos participantes será anunciada no Prog...        4.00      4.00   \n",
       "2  Nesta terça-feira, o departamento médico do cl...        4.50      4.50   \n",
       "3  Após passar pela Câmara, o texto tem que ir ai...        4.00      4.00   \n",
       "4  Nos últimos seis jogos, o Fluminense foi derro...        4.25      4.25   \n",
       "\n",
       "   predicted  \n",
       "0   2.642748  \n",
       "1   4.125273  \n",
       "2   3.798805  \n",
       "3   3.195306  \n",
       "4   3.898855  "
      ]
     },
     "execution_count": 13,
     "metadata": {},
     "output_type": "execute_result"
    }
   ],
   "source": [
    "df_ptbr_test['predicted'] = similarities\n",
    "df_ptbr_test.head()"
   ]
  },
  {
   "cell_type": "code",
   "execution_count": 45,
   "metadata": {
    "ExecuteTime": {
     "end_time": "2020-12-18T02:25:32.624030Z",
     "start_time": "2020-12-18T02:25:32.613803Z"
    }
   },
   "outputs": [
    {
     "name": "stdout",
     "output_type": "stream",
     "text": [
      "Spearman correlation:   0.772\n"
     ]
    }
   ],
   "source": [
    "from scipy.stats import spearmanr\n",
    "print('Spearman correlation: {:7.3f}'.format(spearmanr(pairs_gold, pairs_sys)[0]))"
   ]
  },
  {
   "cell_type": "markdown",
   "metadata": {},
   "source": [
    "# Testes pt-pt"
   ]
  },
  {
   "cell_type": "markdown",
   "metadata": {},
   "source": [
    "## Sentence-BERT"
   ]
  },
  {
   "cell_type": "markdown",
   "metadata": {},
   "source": [
    "## Fine-tuning Sentence-BERT\n",
    "\n",
    "https://www.sbert.net/docs/training/overview.html"
   ]
  },
  {
   "cell_type": "markdown",
   "metadata": {},
   "source": [
    "https://github.com/UKPLab/sentence-transformers/blob/master/examples/training/sts/training_stsbenchmark_continue_training.py"
   ]
  },
  {
   "cell_type": "markdown",
   "metadata": {},
   "source": [
    "### xlm-r-distilroberta-base-paraphrase-v1"
   ]
  },
  {
   "cell_type": "code",
   "execution_count": 14,
   "metadata": {
    "ExecuteTime": {
     "end_time": "2020-12-19T00:09:43.462789Z",
     "start_time": "2020-12-18T23:21:47.550853Z"
    }
   },
   "outputs": [
    {
     "data": {
      "application/vnd.jupyter.widget-view+json": {
       "model_id": "d696233cf7484c6ea83be772b9c3fa64",
       "version_major": 2,
       "version_minor": 0
      },
      "text/plain": [
       "HBox(children=(FloatProgress(value=0.0, description='Epoch', max=4.0, style=ProgressStyle(description_width='i…"
      ]
     },
     "metadata": {},
     "output_type": "display_data"
    },
    {
     "data": {
      "application/vnd.jupyter.widget-view+json": {
       "model_id": "bd2079743b1a44a0aa665ab973ad7154",
       "version_major": 2,
       "version_minor": 0
      },
      "text/plain": [
       "HBox(children=(FloatProgress(value=0.0, description='Iteration', max=157.0, style=ProgressStyle(description_wi…"
      ]
     },
     "metadata": {},
     "output_type": "display_data"
    },
    {
     "name": "stdout",
     "output_type": "stream",
     "text": [
      "\n"
     ]
    },
    {
     "data": {
      "application/vnd.jupyter.widget-view+json": {
       "model_id": "b675c4449aab4a8fa9f196028c3e96d2",
       "version_major": 2,
       "version_minor": 0
      },
      "text/plain": [
       "HBox(children=(FloatProgress(value=0.0, description='Iteration', max=157.0, style=ProgressStyle(description_wi…"
      ]
     },
     "metadata": {},
     "output_type": "display_data"
    },
    {
     "name": "stdout",
     "output_type": "stream",
     "text": [
      "\n"
     ]
    },
    {
     "data": {
      "application/vnd.jupyter.widget-view+json": {
       "model_id": "20b14fe792e14037a99483a7cefa80c6",
       "version_major": 2,
       "version_minor": 0
      },
      "text/plain": [
       "HBox(children=(FloatProgress(value=0.0, description='Iteration', max=157.0, style=ProgressStyle(description_wi…"
      ]
     },
     "metadata": {},
     "output_type": "display_data"
    },
    {
     "name": "stdout",
     "output_type": "stream",
     "text": [
      "\n"
     ]
    },
    {
     "data": {
      "application/vnd.jupyter.widget-view+json": {
       "model_id": "94db1aba046149c5b7628f729d925d4a",
       "version_major": 2,
       "version_minor": 0
      },
      "text/plain": [
       "HBox(children=(FloatProgress(value=0.0, description='Iteration', max=157.0, style=ProgressStyle(description_wi…"
      ]
     },
     "metadata": {},
     "output_type": "display_data"
    },
    {
     "name": "stdout",
     "output_type": "stream",
     "text": [
      "\n",
      "\n"
     ]
    }
   ],
   "source": [
    "\"\"\"\n",
    "This example loads the pre-trained SentenceTransformer model 'bert-base-nli-mean-tokens' from the server.\n",
    "It then fine-tunes this model for some epochs on the STS benchmark dataset.\n",
    "Note: In this example, you must specify a SentenceTransformer model.\n",
    "If you want to fine-tune a huggingface/transformers model like bert-base-uncased, see training_nli.py and training_stsbenchmark.py\n",
    "\"\"\"\n",
    "from torch.utils.data import DataLoader\n",
    "import math\n",
    "from sentence_transformers import SentenceTransformer,  SentencesDataset, LoggingHandler, losses, util, InputExample\n",
    "from sentence_transformers.evaluation import EmbeddingSimilarityEvaluator\n",
    "from datetime import datetime\n",
    "import os\n",
    "import csv\n",
    "from sentence_transformers import models, SentenceTransformer\n",
    "\n",
    "\n",
    "\n",
    "# Read the dataset\n",
    "train_batch_size = 16\n",
    "num_epochs = 4\n",
    "model_save_path = '../data/sbert_ptpt_finetuning_assin_xlm-r-distilroberta-base-paraphrase-v1-comp'# + datetime.now().strftime(\"%Y-%m-%d_%H-%M-%S\")\n",
    "\n",
    "\n",
    "\n",
    "# Load a pre-trained sentence transformer model\n",
    "#model = SentenceTransformer(model_name)\n",
    "\n",
    "\n",
    "\n",
    "model_pt = SentenceTransformer('xlm-r-distilroberta-base-paraphrase-v1')\n",
    "\n",
    "train_samples = []\n",
    "dev_samples = []\n",
    "#test_samples = []\n",
    "\n",
    "for i, row in df_ptpt_train.iterrows():\n",
    "    inp_example = InputExample(texts=[row['t'], row['h']], label=row['similarity'] / 5)\n",
    "    train_samples.append(inp_example)\n",
    "    \n",
    "for i, row in df_ptpt_dev.iterrows():\n",
    "    inp_example = InputExample(texts=[row['t'], row['h']], label=row['similarity'] / 5)\n",
    "    dev_samples.append(inp_example)\n",
    "    \n",
    "#for i, row in df_ptpt_test.iterrows():\n",
    "#    inp_example = InputExample(texts=[row['t'], row['h']], label=row['similarity'] / 5)\n",
    "#    test_samples.append(inp_example)\n",
    "    \n",
    "\n",
    "\n",
    "train_dataset = SentencesDataset(train_samples, model_pt)\n",
    "train_dataloader = DataLoader(train_dataset, shuffle=True, batch_size=train_batch_size)\n",
    "train_loss = losses.CosineSimilarityLoss(model=model_pt)\n",
    "\n",
    "\n",
    "evaluator = EmbeddingSimilarityEvaluator.from_input_examples(dev_samples, name='sts-dev')\n",
    "\n",
    "\n",
    "# Configure the training. We skip evaluation in this example\n",
    "warmup_steps = math.ceil(len(train_dataset) * num_epochs / train_batch_size * 0.1) #10% of train data for warm-up\n",
    "\n",
    "\n",
    "# Train the model\n",
    "model_pt.fit(train_objectives=[(train_dataloader, train_loss)],\n",
    "          evaluator=evaluator,\n",
    "          epochs=num_epochs,\n",
    "          evaluation_steps=1000,\n",
    "          warmup_steps=warmup_steps,\n",
    "          output_path=model_save_path)"
   ]
  },
  {
   "cell_type": "code",
   "execution_count": 16,
   "metadata": {
    "ExecuteTime": {
     "end_time": "2020-12-19T00:11:11.206959Z",
     "start_time": "2020-12-19T00:09:43.477375Z"
    },
    "scrolled": true
   },
   "outputs": [],
   "source": [
    "t_embeddings = model_pt.encode(df_ptpt_test['t'].tolist())\n",
    "h_embeddings = model_pt.encode(df_ptpt_test['h'].tolist())"
   ]
  },
  {
   "cell_type": "code",
   "execution_count": 17,
   "metadata": {
    "ExecuteTime": {
     "end_time": "2020-12-19T00:11:11.841368Z",
     "start_time": "2020-12-19T00:11:11.210267Z"
    }
   },
   "outputs": [],
   "source": [
    "from sklearn.metrics.pairwise import  cosine_similarity\n",
    "\n",
    "similarities = [5.0 * cosine_similarity([t], [h])[0][0] for t, h in zip(t_embeddings, h_embeddings)]"
   ]
  },
  {
   "cell_type": "code",
   "execution_count": 18,
   "metadata": {
    "ExecuteTime": {
     "end_time": "2020-12-19T00:11:11.847761Z",
     "start_time": "2020-12-19T00:11:11.844569Z"
    }
   },
   "outputs": [],
   "source": [
    "pairs_gold = df_ptpt_test['similarity'].tolist()\n",
    "pairs_sys = similarities"
   ]
  },
  {
   "cell_type": "code",
   "execution_count": 19,
   "metadata": {
    "ExecuteTime": {
     "end_time": "2020-12-19T00:11:11.854367Z",
     "start_time": "2020-12-19T00:11:11.849690Z"
    }
   },
   "outputs": [
    {
     "name": "stdout",
     "output_type": "stream",
     "text": [
      "\n",
      "Similarity evaluation\n",
      "Pearson\t\tMean Squared Error\n",
      "-------\t\t------------------\n",
      "  0.805\t\t              0.49\n"
     ]
    }
   ],
   "source": [
    "eval_similarity(pairs_gold, pairs_sys)"
   ]
  },
  {
   "cell_type": "code",
   "execution_count": 20,
   "metadata": {
    "ExecuteTime": {
     "end_time": "2020-12-19T00:11:11.863435Z",
     "start_time": "2020-12-19T00:11:11.856489Z"
    }
   },
   "outputs": [
    {
     "data": {
      "text/html": [
       "<div>\n",
       "<style scoped>\n",
       "    .dataframe tbody tr th:only-of-type {\n",
       "        vertical-align: middle;\n",
       "    }\n",
       "\n",
       "    .dataframe tbody tr th {\n",
       "        vertical-align: top;\n",
       "    }\n",
       "\n",
       "    .dataframe thead th {\n",
       "        text-align: right;\n",
       "    }\n",
       "</style>\n",
       "<table border=\"1\" class=\"dataframe\">\n",
       "  <thead>\n",
       "    <tr style=\"text-align: right;\">\n",
       "      <th></th>\n",
       "      <th>id</th>\n",
       "      <th>t</th>\n",
       "      <th>h</th>\n",
       "      <th>similarity</th>\n",
       "      <th>predicted</th>\n",
       "    </tr>\n",
       "  </thead>\n",
       "  <tbody>\n",
       "    <tr>\n",
       "      <th>0</th>\n",
       "      <td>1.0</td>\n",
       "      <td>Mau tempo abate-se sobre o Algarve e inunda a ...</td>\n",
       "      <td>A baixa de Albufeira foi afetada pelo mau tempo.</td>\n",
       "      <td>4.00</td>\n",
       "      <td>3.188667</td>\n",
       "    </tr>\n",
       "    <tr>\n",
       "      <th>1</th>\n",
       "      <td>2.0</td>\n",
       "      <td>Em comparação com o ano anterior, registaram-s...</td>\n",
       "      <td>Feita a comparação com igual período do ano pa...</td>\n",
       "      <td>5.00</td>\n",
       "      <td>4.804944</td>\n",
       "    </tr>\n",
       "    <tr>\n",
       "      <th>2</th>\n",
       "      <td>3.0</td>\n",
       "      <td>Presidente da República fez uma série de aviso...</td>\n",
       "      <td>Foi naquele local que António Costa tomou poss...</td>\n",
       "      <td>1.75</td>\n",
       "      <td>2.693858</td>\n",
       "    </tr>\n",
       "    <tr>\n",
       "      <th>3</th>\n",
       "      <td>4.0</td>\n",
       "      <td>José Manuel da Silva reconheceu várias qualida...</td>\n",
       "      <td>O novo ministro, Adalberto Campos Fernandes, g...</td>\n",
       "      <td>1.25</td>\n",
       "      <td>2.337724</td>\n",
       "    </tr>\n",
       "    <tr>\n",
       "      <th>4</th>\n",
       "      <td>5.0</td>\n",
       "      <td>Recorde-se que Mel Gibson esteve casado com Ro...</td>\n",
       "      <td>Aos 60 anos, Mel Gibson volta a encontrar o amor.</td>\n",
       "      <td>2.00</td>\n",
       "      <td>2.632004</td>\n",
       "    </tr>\n",
       "  </tbody>\n",
       "</table>\n",
       "</div>"
      ],
      "text/plain": [
       "    id                                                  t  \\\n",
       "0  1.0  Mau tempo abate-se sobre o Algarve e inunda a ...   \n",
       "1  2.0  Em comparação com o ano anterior, registaram-s...   \n",
       "2  3.0  Presidente da República fez uma série de aviso...   \n",
       "3  4.0  José Manuel da Silva reconheceu várias qualida...   \n",
       "4  5.0  Recorde-se que Mel Gibson esteve casado com Ro...   \n",
       "\n",
       "                                                   h  similarity  predicted  \n",
       "0   A baixa de Albufeira foi afetada pelo mau tempo.        4.00   3.188667  \n",
       "1  Feita a comparação com igual período do ano pa...        5.00   4.804944  \n",
       "2  Foi naquele local que António Costa tomou poss...        1.75   2.693858  \n",
       "3  O novo ministro, Adalberto Campos Fernandes, g...        1.25   2.337724  \n",
       "4  Aos 60 anos, Mel Gibson volta a encontrar o amor.        2.00   2.632004  "
      ]
     },
     "execution_count": 20,
     "metadata": {},
     "output_type": "execute_result"
    }
   ],
   "source": [
    "df_ptpt_test['predicted'] = similarities\n",
    "df_ptpt_test.head()"
   ]
  },
  {
   "cell_type": "code",
   "execution_count": 29,
   "metadata": {
    "ExecuteTime": {
     "end_time": "2020-12-19T02:23:31.608152Z",
     "start_time": "2020-12-19T02:23:31.600821Z"
    }
   },
   "outputs": [
    {
     "data": {
      "text/html": [
       "<div>\n",
       "<style scoped>\n",
       "    .dataframe tbody tr th:only-of-type {\n",
       "        vertical-align: middle;\n",
       "    }\n",
       "\n",
       "    .dataframe tbody tr th {\n",
       "        vertical-align: top;\n",
       "    }\n",
       "\n",
       "    .dataframe thead th {\n",
       "        text-align: right;\n",
       "    }\n",
       "</style>\n",
       "<table border=\"1\" class=\"dataframe\">\n",
       "  <thead>\n",
       "    <tr style=\"text-align: right;\">\n",
       "      <th></th>\n",
       "      <th>id</th>\n",
       "      <th>t</th>\n",
       "      <th>h</th>\n",
       "      <th>similarity</th>\n",
       "      <th>predicted</th>\n",
       "      <th>predicted_pt</th>\n",
       "    </tr>\n",
       "  </thead>\n",
       "  <tbody>\n",
       "    <tr>\n",
       "      <th>0</th>\n",
       "      <td>1.0</td>\n",
       "      <td>No Brasil, 809 instituições participarão da Pr...</td>\n",
       "      <td>Começa nesta segunda-feira, em todo o Brasil, ...</td>\n",
       "      <td>3.25</td>\n",
       "      <td>2.642748</td>\n",
       "      <td>2.936442</td>\n",
       "    </tr>\n",
       "    <tr>\n",
       "      <th>1</th>\n",
       "      <td>2.0</td>\n",
       "      <td>Alguns dos novos participantes serão revelados...</td>\n",
       "      <td>Parte dos participantes será anunciada no Prog...</td>\n",
       "      <td>4.00</td>\n",
       "      <td>4.125273</td>\n",
       "      <td>3.999533</td>\n",
       "    </tr>\n",
       "    <tr>\n",
       "      <th>2</th>\n",
       "      <td>3.0</td>\n",
       "      <td>Nesta terça, o Inter revelou que o gringo sofr...</td>\n",
       "      <td>Nesta terça-feira, o departamento médico do cl...</td>\n",
       "      <td>4.50</td>\n",
       "      <td>3.798805</td>\n",
       "      <td>3.715212</td>\n",
       "    </tr>\n",
       "    <tr>\n",
       "      <th>3</th>\n",
       "      <td>4.0</td>\n",
       "      <td>O texto da reforma política será agora encamin...</td>\n",
       "      <td>Após passar pela Câmara, o texto tem que ir ai...</td>\n",
       "      <td>4.00</td>\n",
       "      <td>3.195306</td>\n",
       "      <td>3.451765</td>\n",
       "    </tr>\n",
       "    <tr>\n",
       "      <th>4</th>\n",
       "      <td>5.0</td>\n",
       "      <td>O Fluminense vive crise em campo e não vence h...</td>\n",
       "      <td>Nos últimos seis jogos, o Fluminense foi derro...</td>\n",
       "      <td>4.25</td>\n",
       "      <td>3.898855</td>\n",
       "      <td>3.997440</td>\n",
       "    </tr>\n",
       "  </tbody>\n",
       "</table>\n",
       "</div>"
      ],
      "text/plain": [
       "    id                                                  t  \\\n",
       "0  1.0  No Brasil, 809 instituições participarão da Pr...   \n",
       "1  2.0  Alguns dos novos participantes serão revelados...   \n",
       "2  3.0  Nesta terça, o Inter revelou que o gringo sofr...   \n",
       "3  4.0  O texto da reforma política será agora encamin...   \n",
       "4  5.0  O Fluminense vive crise em campo e não vence h...   \n",
       "\n",
       "                                                   h  similarity  predicted  \\\n",
       "0  Começa nesta segunda-feira, em todo o Brasil, ...        3.25   2.642748   \n",
       "1  Parte dos participantes será anunciada no Prog...        4.00   4.125273   \n",
       "2  Nesta terça-feira, o departamento médico do cl...        4.50   3.798805   \n",
       "3  Após passar pela Câmara, o texto tem que ir ai...        4.00   3.195306   \n",
       "4  Nos últimos seis jogos, o Fluminense foi derro...        4.25   3.898855   \n",
       "\n",
       "   predicted_pt  \n",
       "0      2.936442  \n",
       "1      3.999533  \n",
       "2      3.715212  \n",
       "3      3.451765  \n",
       "4      3.997440  "
      ]
     },
     "execution_count": 29,
     "metadata": {},
     "output_type": "execute_result"
    }
   ],
   "source": [
    "t_embeddings = model_pt.encode(df_ptbr_test['t'].tolist())\n",
    "h_embeddings = model_pt.encode(df_ptbr_test['h'].tolist())\n",
    "similarities = [5.0 * cosine_similarity([t], [h])[0][0] for t, h in zip(t_embeddings, h_embeddings)]\n",
    "df_ptbr_test['predicted_pt'] = similarities\n",
    "df_ptbr_test.head()"
   ]
  },
  {
   "cell_type": "code",
   "execution_count": 30,
   "metadata": {},
   "outputs": [
    {
     "data": {
      "text/html": [
       "<div>\n",
       "<style scoped>\n",
       "    .dataframe tbody tr th:only-of-type {\n",
       "        vertical-align: middle;\n",
       "    }\n",
       "\n",
       "    .dataframe tbody tr th {\n",
       "        vertical-align: top;\n",
       "    }\n",
       "\n",
       "    .dataframe thead th {\n",
       "        text-align: right;\n",
       "    }\n",
       "</style>\n",
       "<table border=\"1\" class=\"dataframe\">\n",
       "  <thead>\n",
       "    <tr style=\"text-align: right;\">\n",
       "      <th></th>\n",
       "      <th>id</th>\n",
       "      <th>t</th>\n",
       "      <th>h</th>\n",
       "      <th>similarity</th>\n",
       "      <th>predicted</th>\n",
       "      <th>predicted_br</th>\n",
       "    </tr>\n",
       "  </thead>\n",
       "  <tbody>\n",
       "    <tr>\n",
       "      <th>0</th>\n",
       "      <td>1.0</td>\n",
       "      <td>Mau tempo abate-se sobre o Algarve e inunda a ...</td>\n",
       "      <td>A baixa de Albufeira foi afetada pelo mau tempo.</td>\n",
       "      <td>4.00</td>\n",
       "      <td>3.188667</td>\n",
       "      <td>3.704959</td>\n",
       "    </tr>\n",
       "    <tr>\n",
       "      <th>1</th>\n",
       "      <td>2.0</td>\n",
       "      <td>Em comparação com o ano anterior, registaram-s...</td>\n",
       "      <td>Feita a comparação com igual período do ano pa...</td>\n",
       "      <td>5.00</td>\n",
       "      <td>4.804944</td>\n",
       "      <td>4.806061</td>\n",
       "    </tr>\n",
       "    <tr>\n",
       "      <th>2</th>\n",
       "      <td>3.0</td>\n",
       "      <td>Presidente da República fez uma série de aviso...</td>\n",
       "      <td>Foi naquele local que António Costa tomou poss...</td>\n",
       "      <td>1.75</td>\n",
       "      <td>2.693858</td>\n",
       "      <td>2.691873</td>\n",
       "    </tr>\n",
       "    <tr>\n",
       "      <th>3</th>\n",
       "      <td>4.0</td>\n",
       "      <td>José Manuel da Silva reconheceu várias qualida...</td>\n",
       "      <td>O novo ministro, Adalberto Campos Fernandes, g...</td>\n",
       "      <td>1.25</td>\n",
       "      <td>2.337724</td>\n",
       "      <td>2.262819</td>\n",
       "    </tr>\n",
       "    <tr>\n",
       "      <th>4</th>\n",
       "      <td>5.0</td>\n",
       "      <td>Recorde-se que Mel Gibson esteve casado com Ro...</td>\n",
       "      <td>Aos 60 anos, Mel Gibson volta a encontrar o amor.</td>\n",
       "      <td>2.00</td>\n",
       "      <td>2.632004</td>\n",
       "      <td>2.816572</td>\n",
       "    </tr>\n",
       "  </tbody>\n",
       "</table>\n",
       "</div>"
      ],
      "text/plain": [
       "    id                                                  t  \\\n",
       "0  1.0  Mau tempo abate-se sobre o Algarve e inunda a ...   \n",
       "1  2.0  Em comparação com o ano anterior, registaram-s...   \n",
       "2  3.0  Presidente da República fez uma série de aviso...   \n",
       "3  4.0  José Manuel da Silva reconheceu várias qualida...   \n",
       "4  5.0  Recorde-se que Mel Gibson esteve casado com Ro...   \n",
       "\n",
       "                                                   h  similarity  predicted  \\\n",
       "0   A baixa de Albufeira foi afetada pelo mau tempo.        4.00   3.188667   \n",
       "1  Feita a comparação com igual período do ano pa...        5.00   4.804944   \n",
       "2  Foi naquele local que António Costa tomou poss...        1.75   2.693858   \n",
       "3  O novo ministro, Adalberto Campos Fernandes, g...        1.25   2.337724   \n",
       "4  Aos 60 anos, Mel Gibson volta a encontrar o amor.        2.00   2.632004   \n",
       "\n",
       "   predicted_br  \n",
       "0      3.704959  \n",
       "1      4.806061  \n",
       "2      2.691873  \n",
       "3      2.262819  \n",
       "4      2.816572  "
      ]
     },
     "execution_count": 30,
     "metadata": {},
     "output_type": "execute_result"
    }
   ],
   "source": [
    "t_embeddings = model.encode(df_ptpt_test['t'].tolist())\n",
    "h_embeddings = model.encode(df_ptpt_test['h'].tolist())\n",
    "similarities = [5.0 * cosine_similarity([t], [h])[0][0] for t, h in zip(t_embeddings, h_embeddings)]\n",
    "df_ptpt_test['predicted_br'] = similarities\n",
    "df_ptpt_test.head()"
   ]
  },
  {
   "cell_type": "code",
   "execution_count": null,
   "metadata": {},
   "outputs": [],
   "source": []
  },
  {
   "cell_type": "code",
   "execution_count": 31,
   "metadata": {},
   "outputs": [],
   "source": [
    "df_ptpt_test.to_csv('ptpt_cruzado.csv', index=False)\n",
    "df_ptbr_test.to_csv('ptbr_cruzado.csv', index=False)"
   ]
  },
  {
   "cell_type": "code",
   "execution_count": 41,
   "metadata": {},
   "outputs": [
    {
     "name": "stdout",
     "output_type": "stream",
     "text": [
      "Treinado PT-PT, avaliado PT-PT\n",
      "\n",
      "Similarity evaluation\n",
      "Pearson\t\tMean Squared Error\n",
      "-------\t\t------------------\n",
      "  0.805\t\t              0.49\n",
      "\n",
      "Treinado PT-BR, avaliado PT-PT\n",
      "\n",
      "Similarity evaluation\n",
      "Pearson\t\tMean Squared Error\n",
      "-------\t\t------------------\n",
      "  0.793\t\t              0.53\n"
     ]
    }
   ],
   "source": [
    "print('Treinado PT-PT, avaliado PT-PT')\n",
    "eval_similarity(df_ptpt_test['similarity'].tolist(), df_ptpt_test['predicted'].tolist())\n",
    "print('\\nTreinado PT-BR, avaliado PT-PT')\n",
    "eval_similarity(df_ptpt_test['similarity'].tolist(), df_ptpt_test['predicted_br'].tolist())"
   ]
  },
  {
   "cell_type": "code",
   "execution_count": 37,
   "metadata": {},
   "outputs": [
    {
     "data": {
      "text/html": [
       "<div>\n",
       "<style scoped>\n",
       "    .dataframe tbody tr th:only-of-type {\n",
       "        vertical-align: middle;\n",
       "    }\n",
       "\n",
       "    .dataframe tbody tr th {\n",
       "        vertical-align: top;\n",
       "    }\n",
       "\n",
       "    .dataframe thead th {\n",
       "        text-align: right;\n",
       "    }\n",
       "</style>\n",
       "<table border=\"1\" class=\"dataframe\">\n",
       "  <thead>\n",
       "    <tr style=\"text-align: right;\">\n",
       "      <th></th>\n",
       "      <th>id</th>\n",
       "      <th>t</th>\n",
       "      <th>h</th>\n",
       "      <th>similarity</th>\n",
       "      <th>predicted</th>\n",
       "      <th>predicted_br</th>\n",
       "      <th>diff</th>\n",
       "    </tr>\n",
       "  </thead>\n",
       "  <tbody>\n",
       "    <tr>\n",
       "      <th>1285</th>\n",
       "      <td>1286.0</td>\n",
       "      <td>Noruega e Roménia defrontam-se ainda esta quinta-feira no Pavilhão Municipal da Póvoa de Varzim.</td>\n",
       "      <td>Os bilhetes para os jogos que decorrerão no Pavilhão Muncipal da Póvoa do Varzim são gratuitos.</td>\n",
       "      <td>2.00</td>\n",
       "      <td>2.473669</td>\n",
       "      <td>1.458696</td>\n",
       "      <td>1.014974</td>\n",
       "    </tr>\n",
       "    <tr>\n",
       "      <th>1418</th>\n",
       "      <td>1419.0</td>\n",
       "      <td>Nos últimos quatro anos, o aumento foi de cerca de metade desse valor.</td>\n",
       "      <td>Os portugueses não estão interessados em repetir a experiência dos últimos quatro anos.</td>\n",
       "      <td>1.75</td>\n",
       "      <td>2.009680</td>\n",
       "      <td>1.169388</td>\n",
       "      <td>0.840293</td>\n",
       "    </tr>\n",
       "    <tr>\n",
       "      <th>243</th>\n",
       "      <td>244.0</td>\n",
       "      <td>A companhia aérea brasileira Azul lança a 4 de maio o seu primeiro voo regular para a Europa.</td>\n",
       "      <td>O voo inaugural da Azul acontece já a 4 de maio.</td>\n",
       "      <td>4.00</td>\n",
       "      <td>3.856531</td>\n",
       "      <td>3.109473</td>\n",
       "      <td>0.747058</td>\n",
       "    </tr>\n",
       "    <tr>\n",
       "      <th>1502</th>\n",
       "      <td>1503.0</td>\n",
       "      <td>A Câmara da Figueira da Foz decretou hoje três dias de luto municipal na sequência do naufrágio de terça-feira.</td>\n",
       "      <td>A barra da Figueira da Foz está fechada, na sequência de um naufrágio naquela zona.</td>\n",
       "      <td>3.50</td>\n",
       "      <td>1.614678</td>\n",
       "      <td>2.297439</td>\n",
       "      <td>0.682761</td>\n",
       "    </tr>\n",
       "    <tr>\n",
       "      <th>1318</th>\n",
       "      <td>1319.0</td>\n",
       "      <td>O grupo VW anunciou, em 2014, um investimento de 677 milhões de euros para a modernização da VW Autoeuropa.</td>\n",
       "      <td>A fábrica Autoeuropa, do Grupo Volkswagen, anunciou o novo director geral.</td>\n",
       "      <td>1.00</td>\n",
       "      <td>2.273364</td>\n",
       "      <td>2.949896</td>\n",
       "      <td>0.676532</td>\n",
       "    </tr>\n",
       "    <tr>\n",
       "      <th>323</th>\n",
       "      <td>324.0</td>\n",
       "      <td>A juntar-se ao New York City FC, Casillas iria reencontrar David Villa e Andoni Iraola, antigos companheiros de seleção.</td>\n",
       "      <td>O New York City FC está a preparar uma oferta para o guarda-redes do FC Porto, Iker Casillas.</td>\n",
       "      <td>1.75</td>\n",
       "      <td>2.828932</td>\n",
       "      <td>2.152556</td>\n",
       "      <td>0.676375</td>\n",
       "    </tr>\n",
       "    <tr>\n",
       "      <th>1766</th>\n",
       "      <td>1767.0</td>\n",
       "      <td>A temperatura pode variar, hoje, entre 32 e 22 graus.</td>\n",
       "      <td>Ontem, a temperatura máxima na cidade chegou aos 33 graus, às 17 horas.</td>\n",
       "      <td>1.50</td>\n",
       "      <td>1.943733</td>\n",
       "      <td>2.589446</td>\n",
       "      <td>0.645714</td>\n",
       "    </tr>\n",
       "    <tr>\n",
       "      <th>1475</th>\n",
       "      <td>1476.0</td>\n",
       "      <td>O “Financial Times” foi vendido em 2015 e os jornalistas temem pelo futuro.</td>\n",
       "      <td>Os jornalistas do Financial Times anunciam que vão partir para a greve.</td>\n",
       "      <td>1.50</td>\n",
       "      <td>1.877116</td>\n",
       "      <td>2.516306</td>\n",
       "      <td>0.639190</td>\n",
       "    </tr>\n",
       "    <tr>\n",
       "      <th>868</th>\n",
       "      <td>869.0</td>\n",
       "      <td>Más notícias para Fábio Coentrão e para Leonardo Jardim.</td>\n",
       "      <td>Fábio Coentrão vai parar até final do ano.</td>\n",
       "      <td>1.50</td>\n",
       "      <td>1.761302</td>\n",
       "      <td>2.397497</td>\n",
       "      <td>0.636195</td>\n",
       "    </tr>\n",
       "    <tr>\n",
       "      <th>1901</th>\n",
       "      <td>1902.0</td>\n",
       "      <td>Justin Bieber desistiu oficialmente do romance com a cantora Selena Gomez para passar o réveillon ao lado de Hailey Baldwin.</td>\n",
       "      <td>Justin Bieber reencontrou novamente o amor ao lado de Hailey Baldwin.</td>\n",
       "      <td>3.00</td>\n",
       "      <td>3.684318</td>\n",
       "      <td>3.053008</td>\n",
       "      <td>0.631310</td>\n",
       "    </tr>\n",
       "  </tbody>\n",
       "</table>\n",
       "</div>"
      ],
      "text/plain": [
       "          id  \\\n",
       "1285  1286.0   \n",
       "1418  1419.0   \n",
       "243    244.0   \n",
       "1502  1503.0   \n",
       "1318  1319.0   \n",
       "323    324.0   \n",
       "1766  1767.0   \n",
       "1475  1476.0   \n",
       "868    869.0   \n",
       "1901  1902.0   \n",
       "\n",
       "                                                                                                                                 t  \\\n",
       "1285                              Noruega e Roménia defrontam-se ainda esta quinta-feira no Pavilhão Municipal da Póvoa de Varzim.   \n",
       "1418                                                        Nos últimos quatro anos, o aumento foi de cerca de metade desse valor.   \n",
       "243                                  A companhia aérea brasileira Azul lança a 4 de maio o seu primeiro voo regular para a Europa.   \n",
       "1502               A Câmara da Figueira da Foz decretou hoje três dias de luto municipal na sequência do naufrágio de terça-feira.   \n",
       "1318                   O grupo VW anunciou, em 2014, um investimento de 677 milhões de euros para a modernização da VW Autoeuropa.   \n",
       "323       A juntar-se ao New York City FC, Casillas iria reencontrar David Villa e Andoni Iraola, antigos companheiros de seleção.   \n",
       "1766                                                                         A temperatura pode variar, hoje, entre 32 e 22 graus.   \n",
       "1475                                                   O “Financial Times” foi vendido em 2015 e os jornalistas temem pelo futuro.   \n",
       "868                                                                       Más notícias para Fábio Coentrão e para Leonardo Jardim.   \n",
       "1901  Justin Bieber desistiu oficialmente do romance com a cantora Selena Gomez para passar o réveillon ao lado de Hailey Baldwin.   \n",
       "\n",
       "                                                                                                    h  \\\n",
       "1285  Os bilhetes para os jogos que decorrerão no Pavilhão Muncipal da Póvoa do Varzim são gratuitos.   \n",
       "1418          Os portugueses não estão interessados em repetir a experiência dos últimos quatro anos.   \n",
       "243                                                  O voo inaugural da Azul acontece já a 4 de maio.   \n",
       "1502              A barra da Figueira da Foz está fechada, na sequência de um naufrágio naquela zona.   \n",
       "1318                       A fábrica Autoeuropa, do Grupo Volkswagen, anunciou o novo director geral.   \n",
       "323     O New York City FC está a preparar uma oferta para o guarda-redes do FC Porto, Iker Casillas.   \n",
       "1766                          Ontem, a temperatura máxima na cidade chegou aos 33 graus, às 17 horas.   \n",
       "1475                          Os jornalistas do Financial Times anunciam que vão partir para a greve.   \n",
       "868                                                        Fábio Coentrão vai parar até final do ano.   \n",
       "1901                            Justin Bieber reencontrou novamente o amor ao lado de Hailey Baldwin.   \n",
       "\n",
       "      similarity  predicted  predicted_br      diff  \n",
       "1285        2.00   2.473669      1.458696  1.014974  \n",
       "1418        1.75   2.009680      1.169388  0.840293  \n",
       "243         4.00   3.856531      3.109473  0.747058  \n",
       "1502        3.50   1.614678      2.297439  0.682761  \n",
       "1318        1.00   2.273364      2.949896  0.676532  \n",
       "323         1.75   2.828932      2.152556  0.676375  \n",
       "1766        1.50   1.943733      2.589446  0.645714  \n",
       "1475        1.50   1.877116      2.516306  0.639190  \n",
       "868         1.50   1.761302      2.397497  0.636195  \n",
       "1901        3.00   3.684318      3.053008  0.631310  "
      ]
     },
     "execution_count": 37,
     "metadata": {},
     "output_type": "execute_result"
    }
   ],
   "source": [
    "pd.set_option('display.max_colwidth', None)\n",
    "df_ptpt_test['diff'] = abs(df_ptpt_test['predicted'] - df_ptpt_test['predicted_br'])\n",
    "df_ptpt_test.sort_values(by='diff', ascending=False).head(10)"
   ]
  },
  {
   "cell_type": "code",
   "execution_count": 42,
   "metadata": {},
   "outputs": [
    {
     "name": "stdout",
     "output_type": "stream",
     "text": [
      "Treinado PT-BR, avaliado PT-BR\n",
      "\n",
      "Similarity evaluation\n",
      "Pearson\t\tMean Squared Error\n",
      "-------\t\t------------------\n",
      "  0.792\t\t              0.30\n",
      "\n",
      "Treinado PT-PT, avaliado PT-BR\n",
      "\n",
      "Similarity evaluation\n",
      "Pearson\t\tMean Squared Error\n",
      "-------\t\t------------------\n",
      "  0.770\t\t              0.33\n"
     ]
    }
   ],
   "source": [
    "print('Treinado PT-BR, avaliado PT-BR')\n",
    "eval_similarity(df_ptbr_test['similarity'].tolist(), df_ptbr_test['predicted'].tolist())\n",
    "print('\\nTreinado PT-PT, avaliado PT-BR')\n",
    "eval_similarity(df_ptbr_test['similarity'].tolist(), df_ptbr_test['predicted_pt'].tolist())"
   ]
  },
  {
   "cell_type": "code",
   "execution_count": 38,
   "metadata": {},
   "outputs": [
    {
     "data": {
      "text/html": [
       "<div>\n",
       "<style scoped>\n",
       "    .dataframe tbody tr th:only-of-type {\n",
       "        vertical-align: middle;\n",
       "    }\n",
       "\n",
       "    .dataframe tbody tr th {\n",
       "        vertical-align: top;\n",
       "    }\n",
       "\n",
       "    .dataframe thead th {\n",
       "        text-align: right;\n",
       "    }\n",
       "</style>\n",
       "<table border=\"1\" class=\"dataframe\">\n",
       "  <thead>\n",
       "    <tr style=\"text-align: right;\">\n",
       "      <th></th>\n",
       "      <th>id</th>\n",
       "      <th>t</th>\n",
       "      <th>h</th>\n",
       "      <th>similarity</th>\n",
       "      <th>predicted</th>\n",
       "      <th>predicted_pt</th>\n",
       "      <th>diff</th>\n",
       "    </tr>\n",
       "  </thead>\n",
       "  <tbody>\n",
       "    <tr>\n",
       "      <th>531</th>\n",
       "      <td>532.0</td>\n",
       "      <td>O show está previsto para começar às 17h.</td>\n",
       "      <td>A atração acontece a partir das 12h.</td>\n",
       "      <td>1.75</td>\n",
       "      <td>1.534813</td>\n",
       "      <td>3.010281</td>\n",
       "      <td>1.475468</td>\n",
       "    </tr>\n",
       "    <tr>\n",
       "      <th>938</th>\n",
       "      <td>939.0</td>\n",
       "      <td>Já para 2016, a previsão dos economistas recuou de 5,6% para 5,51%.</td>\n",
       "      <td>A mediana das estimativas passou de 5,76% para 5,71%.</td>\n",
       "      <td>2.25</td>\n",
       "      <td>2.213118</td>\n",
       "      <td>3.500387</td>\n",
       "      <td>1.287269</td>\n",
       "    </tr>\n",
       "    <tr>\n",
       "      <th>1320</th>\n",
       "      <td>1321.0</td>\n",
       "      <td>A defesa de Pimentel entrou com recurso e o processo está atualmente no Tribunal Superior Eleitoral (TSE).</td>\n",
       "      <td>Ainda não há decisão do TSE quanto ao recurso da defesa.</td>\n",
       "      <td>3.50</td>\n",
       "      <td>3.509004</td>\n",
       "      <td>2.293510</td>\n",
       "      <td>1.215494</td>\n",
       "    </tr>\n",
       "    <tr>\n",
       "      <th>591</th>\n",
       "      <td>592.0</td>\n",
       "      <td>Ao todo, 323 municípios de todas as regiões poderão preencher 410 vagas ociosas.</td>\n",
       "      <td>Os profissionais selecionados preencherão vagas ociosas, principalmente por desistência.</td>\n",
       "      <td>2.50</td>\n",
       "      <td>1.487217</td>\n",
       "      <td>2.397150</td>\n",
       "      <td>0.909933</td>\n",
       "    </tr>\n",
       "    <tr>\n",
       "      <th>273</th>\n",
       "      <td>274.0</td>\n",
       "      <td>O “Oi 9º Dígito” serve para os sistemas Android e IOS e pode ser baixado gratuitamente.</td>\n",
       "      <td>O dígito 9 deve ser acrescentado à esquerda dos atuais números.</td>\n",
       "      <td>2.25</td>\n",
       "      <td>2.069565</td>\n",
       "      <td>1.285310</td>\n",
       "      <td>0.784255</td>\n",
       "    </tr>\n",
       "    <tr>\n",
       "      <th>742</th>\n",
       "      <td>743.0</td>\n",
       "      <td>Quatro semanas atrás estava em R$ 3,10.</td>\n",
       "      <td>Quatro edições antes, estava em US$ 3,20 bilhões.</td>\n",
       "      <td>1.75</td>\n",
       "      <td>2.505740</td>\n",
       "      <td>3.280355</td>\n",
       "      <td>0.774615</td>\n",
       "    </tr>\n",
       "    <tr>\n",
       "      <th>839</th>\n",
       "      <td>840.0</td>\n",
       "      <td>A presidente anunciou ainda novos investimentos para a agricultura da região.</td>\n",
       "      <td>Entre os anúncios, a presidente anunciou um investimento de R$ 700 milhões, de 2015 a 2018.</td>\n",
       "      <td>2.75</td>\n",
       "      <td>3.118390</td>\n",
       "      <td>2.383311</td>\n",
       "      <td>0.735079</td>\n",
       "    </tr>\n",
       "    <tr>\n",
       "      <th>395</th>\n",
       "      <td>396.0</td>\n",
       "      <td>Na quarta-feira (22), o prêmio de R$ 3 milhões acumulou.</td>\n",
       "      <td>NInguém acertou as seis dezenas e o prêmio acumulou mais uma vez.</td>\n",
       "      <td>3.75</td>\n",
       "      <td>2.376354</td>\n",
       "      <td>1.661987</td>\n",
       "      <td>0.714367</td>\n",
       "    </tr>\n",
       "    <tr>\n",
       "      <th>1938</th>\n",
       "      <td>1939.0</td>\n",
       "      <td>Pessoa fez acordo de delação premiada com a Justiça em troca de redução de pena.</td>\n",
       "      <td>Primeiro, para avaliar o impacto da delação premiada de Ricardo Pessoa.</td>\n",
       "      <td>2.75</td>\n",
       "      <td>2.550858</td>\n",
       "      <td>1.867840</td>\n",
       "      <td>0.683018</td>\n",
       "    </tr>\n",
       "    <tr>\n",
       "      <th>1109</th>\n",
       "      <td>1110.0</td>\n",
       "      <td>Uma das mudanças já definidas foi a instituição de gratificação para os conselheiros.</td>\n",
       "      <td>A gratificação foi instituída por um decreto de Dilma Rousseff.</td>\n",
       "      <td>3.50</td>\n",
       "      <td>2.895624</td>\n",
       "      <td>2.216990</td>\n",
       "      <td>0.678634</td>\n",
       "    </tr>\n",
       "  </tbody>\n",
       "</table>\n",
       "</div>"
      ],
      "text/plain": [
       "          id  \\\n",
       "531    532.0   \n",
       "938    939.0   \n",
       "1320  1321.0   \n",
       "591    592.0   \n",
       "273    274.0   \n",
       "742    743.0   \n",
       "839    840.0   \n",
       "395    396.0   \n",
       "1938  1939.0   \n",
       "1109  1110.0   \n",
       "\n",
       "                                                                                                               t  \\\n",
       "531                                                                    O show está previsto para começar às 17h.   \n",
       "938                                          Já para 2016, a previsão dos economistas recuou de 5,6% para 5,51%.   \n",
       "1320  A defesa de Pimentel entrou com recurso e o processo está atualmente no Tribunal Superior Eleitoral (TSE).   \n",
       "591                             Ao todo, 323 municípios de todas as regiões poderão preencher 410 vagas ociosas.   \n",
       "273                      O “Oi 9º Dígito” serve para os sistemas Android e IOS e pode ser baixado gratuitamente.   \n",
       "742                                                                      Quatro semanas atrás estava em R$ 3,10.   \n",
       "839                                A presidente anunciou ainda novos investimentos para a agricultura da região.   \n",
       "395                                                     Na quarta-feira (22), o prêmio de R$ 3 milhões acumulou.   \n",
       "1938                            Pessoa fez acordo de delação premiada com a Justiça em troca de redução de pena.   \n",
       "1109                       Uma das mudanças já definidas foi a instituição de gratificação para os conselheiros.   \n",
       "\n",
       "                                                                                                h  \\\n",
       "531                                                          A atração acontece a partir das 12h.   \n",
       "938                                         A mediana das estimativas passou de 5,76% para 5,71%.   \n",
       "1320                                     Ainda não há decisão do TSE quanto ao recurso da defesa.   \n",
       "591      Os profissionais selecionados preencherão vagas ociosas, principalmente por desistência.   \n",
       "273                               O dígito 9 deve ser acrescentado à esquerda dos atuais números.   \n",
       "742                                             Quatro edições antes, estava em US$ 3,20 bilhões.   \n",
       "839   Entre os anúncios, a presidente anunciou um investimento de R$ 700 milhões, de 2015 a 2018.   \n",
       "395                             NInguém acertou as seis dezenas e o prêmio acumulou mais uma vez.   \n",
       "1938                      Primeiro, para avaliar o impacto da delação premiada de Ricardo Pessoa.   \n",
       "1109                              A gratificação foi instituída por um decreto de Dilma Rousseff.   \n",
       "\n",
       "      similarity  predicted  predicted_pt      diff  \n",
       "531         1.75   1.534813      3.010281  1.475468  \n",
       "938         2.25   2.213118      3.500387  1.287269  \n",
       "1320        3.50   3.509004      2.293510  1.215494  \n",
       "591         2.50   1.487217      2.397150  0.909933  \n",
       "273         2.25   2.069565      1.285310  0.784255  \n",
       "742         1.75   2.505740      3.280355  0.774615  \n",
       "839         2.75   3.118390      2.383311  0.735079  \n",
       "395         3.75   2.376354      1.661987  0.714367  \n",
       "1938        2.75   2.550858      1.867840  0.683018  \n",
       "1109        3.50   2.895624      2.216990  0.678634  "
      ]
     },
     "execution_count": 38,
     "metadata": {},
     "output_type": "execute_result"
    }
   ],
   "source": [
    "pd.set_option('display.max_colwidth', None)\n",
    "df_ptbr_test['diff'] = abs(df_ptbr_test['predicted'] - df_ptbr_test['predicted_pt'])\n",
    "df_ptbr_test.sort_values(by='diff', ascending=False).head(10)"
   ]
  }
 ],
 "metadata": {
  "kernelspec": {
   "display_name": "Python 3",
   "language": "python",
   "name": "python3"
  },
  "language_info": {
   "codemirror_mode": {
    "name": "ipython",
    "version": 3
   },
   "file_extension": ".py",
   "mimetype": "text/x-python",
   "name": "python",
   "nbconvert_exporter": "python",
   "pygments_lexer": "ipython3",
   "version": "3.8.5"
  },
  "toc": {
   "base_numbering": 1,
   "nav_menu": {},
   "number_sections": true,
   "sideBar": true,
   "skip_h1_title": false,
   "title_cell": "Table of Contents",
   "title_sidebar": "Contents",
   "toc_cell": false,
   "toc_position": {
    "height": "calc(100% - 180px)",
    "left": "10px",
    "top": "150px",
    "width": "349.091px"
   },
   "toc_section_display": true,
   "toc_window_display": true
  }
 },
 "nbformat": 4,
 "nbformat_minor": 4
}
