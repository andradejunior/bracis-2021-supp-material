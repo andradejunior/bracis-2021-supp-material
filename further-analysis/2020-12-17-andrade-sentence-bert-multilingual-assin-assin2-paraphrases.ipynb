{
 "cells": [
  {
   "cell_type": "markdown",
   "metadata": {},
   "source": [
    "Outras similaridades: Cos, Ovl, Jacc, Dice"
   ]
  },
  {
   "cell_type": "markdown",
   "metadata": {},
   "source": [
    "Semantic Similarity\n",
    "\n",
    "These models find semantically similar sentences within one language or across languages:\n",
    "\n",
    "**distiluse-base-multilingual-cased-v2**: Multilingual knowledge distilled version of multilingual Universal Sentence Encoder. While the original mUSE model only supports 16 languages, this multilingual knowledge distilled version supports 50+ languages.\n",
    "\n",
    "**xlm-r-distilroberta-base-paraphrase-v1** - Multilingual version of distilroberta-base-paraphrase-v1, trained on parallel data for 50+ languages.\n",
    "\n",
    "**xlm-r-bert-base-nli-stsb-mean-tokens**: Produces similar embeddings as the bert-base-nli-stsb-mean-token model. Trained on parallel data for 50+ languages.\n",
    "\n",
    "**distilbert-multilingual-nli-stsb-quora-ranking** - Multilingual version of distilbert-base-nli-stsb-quora-ranking. Fine-tuned with parallel data for 50+ languages.\n",
    "\n",
    "**T-Systems-onsite/cross-en-de-roberta-sentence-transformer** - Multilingual model for English an German. [More]"
   ]
  },
  {
   "cell_type": "markdown",
   "metadata": {},
   "source": [
    "# Imports e métodos necessários"
   ]
  },
  {
   "cell_type": "code",
   "execution_count": 9,
   "metadata": {
    "ExecuteTime": {
     "end_time": "2020-12-19T02:32:43.550932Z",
     "start_time": "2020-12-19T02:32:42.291972Z"
    }
   },
   "outputs": [],
   "source": [
    "import pandas as pd\n",
    "import numpy as np\n",
    "import matplotlib.pyplot as plt\n",
    "import seaborn as sns\n",
    "\n",
    "%matplotlib inline"
   ]
  },
  {
   "cell_type": "code",
   "execution_count": 10,
   "metadata": {
    "ExecuteTime": {
     "end_time": "2020-12-19T02:32:43.565975Z",
     "start_time": "2020-12-19T02:32:43.553118Z"
    }
   },
   "outputs": [],
   "source": [
    "import pandas as pd \n",
    "import xml.etree.ElementTree as et \n",
    "\n",
    "from scipy.stats import pearsonr\n",
    "\n",
    "def parse_xml(xml_file):\n",
    "    \"\"\"Parse xml to pandas dataframe.\"\"\"\n",
    "    xtree = et.parse(xml_file)\n",
    "    xroot = xtree.getroot() \n",
    "\n",
    "    df_cols = ['id', 't', 'h', 'similarity']\n",
    "    rows = []\n",
    "\n",
    "    for node in xroot:\n",
    "        id_ = node.attrib.get(\"id\")\n",
    "        similarity = node.attrib.get(\"similarity\")\n",
    "        t = node.find(\"t\").text\n",
    "        h = node.find(\"h\").text\n",
    "\n",
    "        rows.append({\n",
    "            \"id\": id_,\n",
    "            \"t\": t, \n",
    "            \"h\": h,\n",
    "            \"similarity\": similarity\n",
    "        })\n",
    "    return pd.DataFrame(rows, columns=df_cols, dtype=float)\n",
    "\n",
    "def eval_similarity(pairs_gold, pairs_sys):\n",
    "    '''\n",
    "    Evaluate the semantic similarity output of the system against a gold score. \n",
    "    Results are printed to stdout.\n",
    "    '''\n",
    "    \n",
    "    gold_values = np.array(pairs_gold)\n",
    "    sys_values = np.array(pairs_sys)\n",
    "    pearson = pearsonr(gold_values, sys_values)[0]\n",
    "    absolute_diff = gold_values - sys_values\n",
    "    mse = (absolute_diff ** 2).mean()\n",
    "    \n",
    "    print()\n",
    "    print('Similarity evaluation')\n",
    "    print('Pearson\\t\\tMean Squared Error')\n",
    "    print('-------\\t\\t------------------')\n",
    "    print('{:7.3f}\\t\\t{:18.2f}'.format(pearson, mse))"
   ]
  },
  {
   "cell_type": "markdown",
   "metadata": {},
   "source": [
    "# Carregando os dados"
   ]
  },
  {
   "cell_type": "code",
   "execution_count": 11,
   "metadata": {},
   "outputs": [
    {
     "name": "stdout",
     "output_type": "stream",
     "text": [
      "assin-ptbr-dev.xml   assin-ptbr-train.xml  assin-ptpt-test.xml\r\n",
      "assin-ptbr-test.xml  assin-ptpt-dev.xml    assin-ptpt-train.xml\r\n"
     ]
    }
   ],
   "source": [
    "!ls ../data/assin"
   ]
  },
  {
   "cell_type": "code",
   "execution_count": 12,
   "metadata": {
    "ExecuteTime": {
     "end_time": "2020-12-19T02:32:44.344288Z",
     "start_time": "2020-12-19T02:32:43.567946Z"
    }
   },
   "outputs": [
    {
     "name": "stdout",
     "output_type": "stream",
     "text": [
      "assin2-blind-test.xml  assin2-dev.xml  assin2-test.xml\tassin2-train-only.xml\r\n"
     ]
    }
   ],
   "source": [
    "!ls ../data/assin2"
   ]
  },
  {
   "cell_type": "code",
   "execution_count": 13,
   "metadata": {
    "ExecuteTime": {
     "end_time": "2020-12-19T02:32:44.605926Z",
     "start_time": "2020-12-19T02:32:44.352093Z"
    }
   },
   "outputs": [],
   "source": [
    "df_ptbr_train = parse_xml('../data/assin/assin-ptbr-train.xml')\n",
    "df_ptbr_dev = parse_xml('../data/assin/assin-ptbr-dev.xml')\n",
    "df_ptbr_test = parse_xml('../data/assin/assin-ptbr-test.xml')\n",
    "\n",
    "df_ptpt_train = parse_xml('../data/assin/assin-ptpt-train.xml')\n",
    "df_ptpt_dev = parse_xml('../data/assin/assin-ptpt-dev.xml')\n",
    "df_ptpt_test = parse_xml('../data/assin/assin-ptpt-test.xml')\n",
    "\n",
    "df_ptbr2_train = parse_xml('../data/assin2/assin2-train-only.xml')\n",
    "df_ptbr2_dev = parse_xml('../data/assin2/assin2-dev.xml')\n",
    "df_ptbr2_test = parse_xml('../data/assin2/assin2-test.xml')"
   ]
  },
  {
   "cell_type": "code",
   "execution_count": 14,
   "metadata": {},
   "outputs": [],
   "source": [
    "df_ptbr_train = pd.concat([df_ptbr_train, df_ptpt_train, df_ptbr2_train])\n",
    "df_ptbr_dev = pd.concat([df_ptbr_dev, df_ptpt_dev, df_ptbr2_dev])\n",
    "# df_ptbr_train = pd.concat([df_ptbr_train, df_ptpt_train, df_ptbr2_train])"
   ]
  },
  {
   "cell_type": "code",
   "execution_count": 15,
   "metadata": {
    "ExecuteTime": {
     "end_time": "2020-12-19T02:32:44.611436Z",
     "start_time": "2020-12-19T02:32:44.607663Z"
    }
   },
   "outputs": [
    {
     "name": "stdout",
     "output_type": "stream",
     "text": [
      "assin-ptbr-train: (11500, 4)\n",
      "assin-ptbr-dev: (1500, 4)\n",
      "\n",
      "assin-ptbr-test: (2000, 4)\n",
      "assin-ptpt-test: (2000, 4)\n",
      "assin-ptbr2-test: (2448, 4)\n"
     ]
    }
   ],
   "source": [
    "print(f'assin-ptbr-train: {df_ptbr_train.shape}')\n",
    "print(f'assin-ptbr-dev: {df_ptbr_dev.shape}')\n",
    "print()\n",
    "print(f'assin-ptbr-test: {df_ptbr_test.shape}')\n",
    "print(f'assin-ptpt-test: {df_ptpt_test.shape}')\n",
    "print(f'assin-ptbr2-test: {df_ptbr2_test.shape}')"
   ]
  },
  {
   "cell_type": "code",
   "execution_count": 8,
   "metadata": {
    "ExecuteTime": {
     "end_time": "2020-12-19T02:32:44.913832Z",
     "start_time": "2020-12-19T02:32:44.893205Z"
    }
   },
   "outputs": [
    {
     "data": {
      "text/html": [
       "<div>\n",
       "<style scoped>\n",
       "    .dataframe tbody tr th:only-of-type {\n",
       "        vertical-align: middle;\n",
       "    }\n",
       "\n",
       "    .dataframe tbody tr th {\n",
       "        vertical-align: top;\n",
       "    }\n",
       "\n",
       "    .dataframe thead th {\n",
       "        text-align: right;\n",
       "    }\n",
       "</style>\n",
       "<table border=\"1\" class=\"dataframe\">\n",
       "  <thead>\n",
       "    <tr style=\"text-align: right;\">\n",
       "      <th></th>\n",
       "      <th>id</th>\n",
       "      <th>t</th>\n",
       "      <th>h</th>\n",
       "      <th>similarity</th>\n",
       "    </tr>\n",
       "  </thead>\n",
       "  <tbody>\n",
       "    <tr>\n",
       "      <th>0</th>\n",
       "      <td>1.0</td>\n",
       "      <td>A gente faz o aporte financeiro, é como se a e...</td>\n",
       "      <td>Fernando Moraes afirma que não tem vínculo com...</td>\n",
       "      <td>2.00</td>\n",
       "    </tr>\n",
       "    <tr>\n",
       "      <th>1</th>\n",
       "      <td>2.0</td>\n",
       "      <td>Em 2013, a história de como Walt Disney conven...</td>\n",
       "      <td>P.L.Travers era completamente contra a adaptaç...</td>\n",
       "      <td>2.25</td>\n",
       "    </tr>\n",
       "    <tr>\n",
       "      <th>2</th>\n",
       "      <td>3.0</td>\n",
       "      <td>David Silva bateu escanteio, Kompany escalou a...</td>\n",
       "      <td>David Silva cobrou escanteio, o zagueiro se ap...</td>\n",
       "      <td>3.75</td>\n",
       "    </tr>\n",
       "    <tr>\n",
       "      <th>3</th>\n",
       "      <td>4.0</td>\n",
       "      <td>Para os ambientalistas, as metas anunciadas pe...</td>\n",
       "      <td>Dilma aproveitou seu discurso ontem, na Confer...</td>\n",
       "      <td>2.75</td>\n",
       "    </tr>\n",
       "    <tr>\n",
       "      <th>4</th>\n",
       "      <td>5.0</td>\n",
       "      <td>De acordo com a PM, por volta das 10h30 havia ...</td>\n",
       "      <td>O protesto encerrou por volta de 12h15 (horári...</td>\n",
       "      <td>2.00</td>\n",
       "    </tr>\n",
       "  </tbody>\n",
       "</table>\n",
       "</div>"
      ],
      "text/plain": [
       "    id                                                  t  \\\n",
       "0  1.0  A gente faz o aporte financeiro, é como se a e...   \n",
       "1  2.0  Em 2013, a história de como Walt Disney conven...   \n",
       "2  3.0  David Silva bateu escanteio, Kompany escalou a...   \n",
       "3  4.0  Para os ambientalistas, as metas anunciadas pe...   \n",
       "4  5.0  De acordo com a PM, por volta das 10h30 havia ...   \n",
       "\n",
       "                                                   h  similarity  \n",
       "0  Fernando Moraes afirma que não tem vínculo com...        2.00  \n",
       "1  P.L.Travers era completamente contra a adaptaç...        2.25  \n",
       "2  David Silva cobrou escanteio, o zagueiro se ap...        3.75  \n",
       "3  Dilma aproveitou seu discurso ontem, na Confer...        2.75  \n",
       "4  O protesto encerrou por volta de 12h15 (horári...        2.00  "
      ]
     },
     "execution_count": 8,
     "metadata": {},
     "output_type": "execute_result"
    }
   ],
   "source": [
    "df_ptbr_train.head()"
   ]
  },
  {
   "cell_type": "markdown",
   "metadata": {},
   "source": [
    "# Testes"
   ]
  },
  {
   "cell_type": "markdown",
   "metadata": {},
   "source": [
    "## Fine-tuning Sentence-BERT"
   ]
  },
  {
   "cell_type": "markdown",
   "metadata": {},
   "source": [
    "https://www.sbert.net/docs/training/overview.html"
   ]
  },
  {
   "cell_type": "markdown",
   "metadata": {},
   "source": [
    "https://github.com/UKPLab/sentence-transformers/blob/master/examples/training/sts/training_stsbenchmark_continue_training.py"
   ]
  },
  {
   "cell_type": "markdown",
   "metadata": {},
   "source": [
    "### xlm-r-distilroberta-base-paraphrase-v1"
   ]
  },
  {
   "cell_type": "code",
   "execution_count": 18,
   "metadata": {},
   "outputs": [],
   "source": [
    "from sklearn.metrics.pairwise import  cosine_similarity\n",
    "from scipy.stats import spearmanr\n",
    "\n",
    "def test_evaluation(df_ptbr_test):\n",
    "    t_embeddings = model.encode(df_ptbr_test['t'])#,show_progress_bar=True)\n",
    "    h_embeddings = model.encode(df_ptbr_test['h'])#,show_progress_bar=True)\n",
    "\n",
    "    similarities = [5.0 * cosine_similarity([t], [h])[0][0] for t, h in zip(t_embeddings, h_embeddings)]\n",
    "    pairs_gold = df_ptbr_test['similarity'].tolist()\n",
    "    pairs_sys = similarities\n",
    "    eval_similarity(pairs_gold, pairs_sys)\n",
    "    \n",
    "    print('Spearman correlation: {:7.3f}'.format(spearmanr(pairs_gold, pairs_sys)[0]))"
   ]
  },
  {
   "cell_type": "code",
   "execution_count": 17,
   "metadata": {},
   "outputs": [
    {
     "data": {
      "text/plain": [
       "((11500, 4), (1500, 4))"
      ]
     },
     "execution_count": 17,
     "metadata": {},
     "output_type": "execute_result"
    }
   ],
   "source": [
    "#df_ptbr_train = pd.concat([df_ptbr_train, df_ptbr_dev])\n",
    "df_ptbr_train.shape, df_ptbr_dev.shape"
   ]
  },
  {
   "cell_type": "code",
   "execution_count": 19,
   "metadata": {
    "scrolled": true
   },
   "outputs": [
    {
     "data": {
      "application/vnd.jupyter.widget-view+json": {
       "model_id": "3d401512c0534d8b8263f02f08654fa7",
       "version_major": 2,
       "version_minor": 0
      },
      "text/plain": [
       "HBox(children=(FloatProgress(value=0.0, description='Epoch', max=4.0, style=ProgressStyle(description_width='i…"
      ]
     },
     "metadata": {},
     "output_type": "display_data"
    },
    {
     "data": {
      "application/vnd.jupyter.widget-view+json": {
       "model_id": "fce6dd5cca0a44f1b3f9adca37bcd6e5",
       "version_major": 2,
       "version_minor": 0
      },
      "text/plain": [
       "HBox(children=(FloatProgress(value=0.0, description='Iteration', max=719.0, style=ProgressStyle(description_wi…"
      ]
     },
     "metadata": {},
     "output_type": "display_data"
    },
    {
     "name": "stdout",
     "output_type": "stream",
     "text": [
      "\n"
     ]
    },
    {
     "data": {
      "application/vnd.jupyter.widget-view+json": {
       "model_id": "cb68e7cf0bdb4b04bc071e2c405a1636",
       "version_major": 2,
       "version_minor": 0
      },
      "text/plain": [
       "HBox(children=(FloatProgress(value=0.0, description='Iteration', max=719.0, style=ProgressStyle(description_wi…"
      ]
     },
     "metadata": {},
     "output_type": "display_data"
    },
    {
     "name": "stdout",
     "output_type": "stream",
     "text": [
      "\n"
     ]
    },
    {
     "data": {
      "application/vnd.jupyter.widget-view+json": {
       "model_id": "e461819f070444a69bd0b61061c334e5",
       "version_major": 2,
       "version_minor": 0
      },
      "text/plain": [
       "HBox(children=(FloatProgress(value=0.0, description='Iteration', max=719.0, style=ProgressStyle(description_wi…"
      ]
     },
     "metadata": {},
     "output_type": "display_data"
    },
    {
     "name": "stdout",
     "output_type": "stream",
     "text": [
      "\n"
     ]
    },
    {
     "data": {
      "application/vnd.jupyter.widget-view+json": {
       "model_id": "38873139a30248a5a1df623306251571",
       "version_major": 2,
       "version_minor": 0
      },
      "text/plain": [
       "HBox(children=(FloatProgress(value=0.0, description='Iteration', max=719.0, style=ProgressStyle(description_wi…"
      ]
     },
     "metadata": {},
     "output_type": "display_data"
    },
    {
     "name": "stdout",
     "output_type": "stream",
     "text": [
      "\n",
      "\n",
      "####################################################################################\n",
      "Test 499: ASSIN pt-br:\n",
      "\n",
      "Similarity evaluation\n",
      "Pearson\t\tMean Squared Error\n",
      "-------\t\t------------------\n",
      "  0.792\t\t              0.30\n",
      "Spearman correlation:   0.779\n",
      "Test 499: ASSIN pt-pt:\n",
      "\n",
      "Similarity evaluation\n",
      "Pearson\t\tMean Squared Error\n",
      "-------\t\t------------------\n",
      "  0.810\t\t              0.49\n",
      "Spearman correlation:   0.802\n",
      "Test 499: ASSIN 2:\n",
      "\n",
      "Similarity evaluation\n",
      "Pearson\t\tMean Squared Error\n",
      "-------\t\t------------------\n",
      "  0.853\t\t              0.41\n",
      "Spearman correlation:   0.817\n",
      "####################################################################################\n"
     ]
    },
    {
     "data": {
      "application/vnd.jupyter.widget-view+json": {
       "model_id": "5b001ed01a8c490a846517496928c25b",
       "version_major": 2,
       "version_minor": 0
      },
      "text/plain": [
       "HBox(children=(FloatProgress(value=0.0, description='Epoch', max=4.0, style=ProgressStyle(description_width='i…"
      ]
     },
     "metadata": {},
     "output_type": "display_data"
    },
    {
     "data": {
      "application/vnd.jupyter.widget-view+json": {
       "model_id": "4cbe31ab1be14c3083d1e92ae9011759",
       "version_major": 2,
       "version_minor": 0
      },
      "text/plain": [
       "HBox(children=(FloatProgress(value=0.0, description='Iteration', max=719.0, style=ProgressStyle(description_wi…"
      ]
     },
     "metadata": {},
     "output_type": "display_data"
    },
    {
     "name": "stdout",
     "output_type": "stream",
     "text": [
      "\n"
     ]
    },
    {
     "data": {
      "application/vnd.jupyter.widget-view+json": {
       "model_id": "33665df93beb46bf8a086cc128c329be",
       "version_major": 2,
       "version_minor": 0
      },
      "text/plain": [
       "HBox(children=(FloatProgress(value=0.0, description='Iteration', max=719.0, style=ProgressStyle(description_wi…"
      ]
     },
     "metadata": {},
     "output_type": "display_data"
    },
    {
     "name": "stdout",
     "output_type": "stream",
     "text": [
      "\n"
     ]
    },
    {
     "data": {
      "application/vnd.jupyter.widget-view+json": {
       "model_id": "7428b2bf5b2e4d5fb6b8878cd0200187",
       "version_major": 2,
       "version_minor": 0
      },
      "text/plain": [
       "HBox(children=(FloatProgress(value=0.0, description='Iteration', max=719.0, style=ProgressStyle(description_wi…"
      ]
     },
     "metadata": {},
     "output_type": "display_data"
    },
    {
     "name": "stdout",
     "output_type": "stream",
     "text": [
      "\n"
     ]
    },
    {
     "data": {
      "application/vnd.jupyter.widget-view+json": {
       "model_id": "6faf41f92c3b4b31bb4bf95b18c7ad50",
       "version_major": 2,
       "version_minor": 0
      },
      "text/plain": [
       "HBox(children=(FloatProgress(value=0.0, description='Iteration', max=719.0, style=ProgressStyle(description_wi…"
      ]
     },
     "metadata": {},
     "output_type": "display_data"
    },
    {
     "name": "stdout",
     "output_type": "stream",
     "text": [
      "\n",
      "\n",
      "####################################################################################\n",
      "Test 499: ASSIN pt-br:\n",
      "\n",
      "Similarity evaluation\n",
      "Pearson\t\tMean Squared Error\n",
      "-------\t\t------------------\n",
      "  0.793\t\t              0.29\n",
      "Spearman correlation:   0.780\n",
      "Test 499: ASSIN pt-pt:\n",
      "\n",
      "Similarity evaluation\n",
      "Pearson\t\tMean Squared Error\n",
      "-------\t\t------------------\n",
      "  0.809\t\t              0.50\n",
      "Spearman correlation:   0.800\n",
      "Test 499: ASSIN 2:\n",
      "\n",
      "Similarity evaluation\n",
      "Pearson\t\tMean Squared Error\n",
      "-------\t\t------------------\n",
      "  0.850\t\t              0.41\n",
      "Spearman correlation:   0.814\n",
      "####################################################################################\n"
     ]
    },
    {
     "data": {
      "application/vnd.jupyter.widget-view+json": {
       "model_id": "ff1559a09d1b4864bc6a8ae25a302fe9",
       "version_major": 2,
       "version_minor": 0
      },
      "text/plain": [
       "HBox(children=(FloatProgress(value=0.0, description='Epoch', max=4.0, style=ProgressStyle(description_width='i…"
      ]
     },
     "metadata": {},
     "output_type": "display_data"
    },
    {
     "data": {
      "application/vnd.jupyter.widget-view+json": {
       "model_id": "99b870d9bb234f12aa2860add5430354",
       "version_major": 2,
       "version_minor": 0
      },
      "text/plain": [
       "HBox(children=(FloatProgress(value=0.0, description='Iteration', max=719.0, style=ProgressStyle(description_wi…"
      ]
     },
     "metadata": {},
     "output_type": "display_data"
    },
    {
     "name": "stdout",
     "output_type": "stream",
     "text": [
      "\n"
     ]
    },
    {
     "data": {
      "application/vnd.jupyter.widget-view+json": {
       "model_id": "2c13c3115b8344bdb8f6390e9e8ab279",
       "version_major": 2,
       "version_minor": 0
      },
      "text/plain": [
       "HBox(children=(FloatProgress(value=0.0, description='Iteration', max=719.0, style=ProgressStyle(description_wi…"
      ]
     },
     "metadata": {},
     "output_type": "display_data"
    },
    {
     "name": "stdout",
     "output_type": "stream",
     "text": [
      "\n"
     ]
    },
    {
     "data": {
      "application/vnd.jupyter.widget-view+json": {
       "model_id": "1e5ed2d4e78c4dbebbe5d989010ef3b4",
       "version_major": 2,
       "version_minor": 0
      },
      "text/plain": [
       "HBox(children=(FloatProgress(value=0.0, description='Iteration', max=719.0, style=ProgressStyle(description_wi…"
      ]
     },
     "metadata": {},
     "output_type": "display_data"
    },
    {
     "name": "stdout",
     "output_type": "stream",
     "text": [
      "\n"
     ]
    },
    {
     "data": {
      "application/vnd.jupyter.widget-view+json": {
       "model_id": "d5bd20030d694b04b5d8652a80a7d799",
       "version_major": 2,
       "version_minor": 0
      },
      "text/plain": [
       "HBox(children=(FloatProgress(value=0.0, description='Iteration', max=719.0, style=ProgressStyle(description_wi…"
      ]
     },
     "metadata": {},
     "output_type": "display_data"
    },
    {
     "name": "stdout",
     "output_type": "stream",
     "text": [
      "\n",
      "\n",
      "####################################################################################\n",
      "Test 499: ASSIN pt-br:\n",
      "\n",
      "Similarity evaluation\n",
      "Pearson\t\tMean Squared Error\n",
      "-------\t\t------------------\n",
      "  0.792\t\t              0.30\n",
      "Spearman correlation:   0.779\n",
      "Test 499: ASSIN pt-pt:\n",
      "\n",
      "Similarity evaluation\n",
      "Pearson\t\tMean Squared Error\n",
      "-------\t\t------------------\n",
      "  0.808\t\t              0.49\n",
      "Spearman correlation:   0.799\n",
      "Test 499: ASSIN 2:\n",
      "\n",
      "Similarity evaluation\n",
      "Pearson\t\tMean Squared Error\n",
      "-------\t\t------------------\n",
      "  0.851\t\t              0.41\n",
      "Spearman correlation:   0.815\n",
      "####################################################################################\n"
     ]
    },
    {
     "data": {
      "application/vnd.jupyter.widget-view+json": {
       "model_id": "1e92fb6224254b76b573d840dae0c5b9",
       "version_major": 2,
       "version_minor": 0
      },
      "text/plain": [
       "HBox(children=(FloatProgress(value=0.0, description='Epoch', max=4.0, style=ProgressStyle(description_width='i…"
      ]
     },
     "metadata": {},
     "output_type": "display_data"
    },
    {
     "data": {
      "application/vnd.jupyter.widget-view+json": {
       "model_id": "eb815ed7f8b34c25b000cf315f93011e",
       "version_major": 2,
       "version_minor": 0
      },
      "text/plain": [
       "HBox(children=(FloatProgress(value=0.0, description='Iteration', max=719.0, style=ProgressStyle(description_wi…"
      ]
     },
     "metadata": {},
     "output_type": "display_data"
    },
    {
     "name": "stdout",
     "output_type": "stream",
     "text": [
      "\n"
     ]
    },
    {
     "data": {
      "application/vnd.jupyter.widget-view+json": {
       "model_id": "ae4788f7bc4f4b8eb1a1c53af3816883",
       "version_major": 2,
       "version_minor": 0
      },
      "text/plain": [
       "HBox(children=(FloatProgress(value=0.0, description='Iteration', max=719.0, style=ProgressStyle(description_wi…"
      ]
     },
     "metadata": {},
     "output_type": "display_data"
    },
    {
     "name": "stdout",
     "output_type": "stream",
     "text": [
      "\n"
     ]
    },
    {
     "data": {
      "application/vnd.jupyter.widget-view+json": {
       "model_id": "11fa70ac6b224e87a89d01a0d655b3ee",
       "version_major": 2,
       "version_minor": 0
      },
      "text/plain": [
       "HBox(children=(FloatProgress(value=0.0, description='Iteration', max=719.0, style=ProgressStyle(description_wi…"
      ]
     },
     "metadata": {},
     "output_type": "display_data"
    },
    {
     "name": "stdout",
     "output_type": "stream",
     "text": [
      "\n"
     ]
    },
    {
     "data": {
      "application/vnd.jupyter.widget-view+json": {
       "model_id": "931649e9f9824900b5b3267325ea54f6",
       "version_major": 2,
       "version_minor": 0
      },
      "text/plain": [
       "HBox(children=(FloatProgress(value=0.0, description='Iteration', max=719.0, style=ProgressStyle(description_wi…"
      ]
     },
     "metadata": {},
     "output_type": "display_data"
    },
    {
     "name": "stdout",
     "output_type": "stream",
     "text": [
      "\n",
      "\n",
      "####################################################################################\n",
      "Test 499: ASSIN pt-br:\n",
      "\n",
      "Similarity evaluation\n",
      "Pearson\t\tMean Squared Error\n",
      "-------\t\t------------------\n",
      "  0.795\t\t              0.29\n",
      "Spearman correlation:   0.781\n",
      "Test 499: ASSIN pt-pt:\n",
      "\n",
      "Similarity evaluation\n",
      "Pearson\t\tMean Squared Error\n",
      "-------\t\t------------------\n",
      "  0.811\t\t              0.49\n",
      "Spearman correlation:   0.801\n",
      "Test 499: ASSIN 2:\n",
      "\n",
      "Similarity evaluation\n",
      "Pearson\t\tMean Squared Error\n",
      "-------\t\t------------------\n",
      "  0.852\t\t              0.41\n",
      "Spearman correlation:   0.818\n",
      "####################################################################################\n"
     ]
    },
    {
     "data": {
      "application/vnd.jupyter.widget-view+json": {
       "model_id": "fdb8feb6b1b34f3a9b11d82b6dd99319",
       "version_major": 2,
       "version_minor": 0
      },
      "text/plain": [
       "HBox(children=(FloatProgress(value=0.0, description='Epoch', max=4.0, style=ProgressStyle(description_width='i…"
      ]
     },
     "metadata": {},
     "output_type": "display_data"
    },
    {
     "data": {
      "application/vnd.jupyter.widget-view+json": {
       "model_id": "27cfe80d8cef48b3a6aa4585eb74ab60",
       "version_major": 2,
       "version_minor": 0
      },
      "text/plain": [
       "HBox(children=(FloatProgress(value=0.0, description='Iteration', max=719.0, style=ProgressStyle(description_wi…"
      ]
     },
     "metadata": {},
     "output_type": "display_data"
    },
    {
     "name": "stdout",
     "output_type": "stream",
     "text": [
      "\n"
     ]
    },
    {
     "data": {
      "application/vnd.jupyter.widget-view+json": {
       "model_id": "39c11193b7524dad92997ff2e0d1d7b3",
       "version_major": 2,
       "version_minor": 0
      },
      "text/plain": [
       "HBox(children=(FloatProgress(value=0.0, description='Iteration', max=719.0, style=ProgressStyle(description_wi…"
      ]
     },
     "metadata": {},
     "output_type": "display_data"
    },
    {
     "name": "stdout",
     "output_type": "stream",
     "text": [
      "\n"
     ]
    },
    {
     "data": {
      "application/vnd.jupyter.widget-view+json": {
       "model_id": "d7eeba15b825486eab25c5035fad34a3",
       "version_major": 2,
       "version_minor": 0
      },
      "text/plain": [
       "HBox(children=(FloatProgress(value=0.0, description='Iteration', max=719.0, style=ProgressStyle(description_wi…"
      ]
     },
     "metadata": {},
     "output_type": "display_data"
    },
    {
     "name": "stdout",
     "output_type": "stream",
     "text": [
      "\n"
     ]
    },
    {
     "data": {
      "application/vnd.jupyter.widget-view+json": {
       "model_id": "45c1b8c235d84e558c18dbcbb661a599",
       "version_major": 2,
       "version_minor": 0
      },
      "text/plain": [
       "HBox(children=(FloatProgress(value=0.0, description='Iteration', max=719.0, style=ProgressStyle(description_wi…"
      ]
     },
     "metadata": {},
     "output_type": "display_data"
    },
    {
     "name": "stdout",
     "output_type": "stream",
     "text": [
      "\n",
      "\n",
      "####################################################################################\n",
      "Test 499: ASSIN pt-br:\n",
      "\n",
      "Similarity evaluation\n",
      "Pearson\t\tMean Squared Error\n",
      "-------\t\t------------------\n",
      "  0.792\t\t              0.30\n",
      "Spearman correlation:   0.778\n",
      "Test 499: ASSIN pt-pt:\n",
      "\n",
      "Similarity evaluation\n",
      "Pearson\t\tMean Squared Error\n",
      "-------\t\t------------------\n",
      "  0.809\t\t              0.50\n",
      "Spearman correlation:   0.800\n",
      "Test 499: ASSIN 2:\n",
      "\n",
      "Similarity evaluation\n",
      "Pearson\t\tMean Squared Error\n",
      "-------\t\t------------------\n",
      "  0.852\t\t              0.41\n",
      "Spearman correlation:   0.818\n",
      "####################################################################################\n"
     ]
    },
    {
     "data": {
      "application/vnd.jupyter.widget-view+json": {
       "model_id": "a6d830e49b2d4175b18bb2bc6a777e65",
       "version_major": 2,
       "version_minor": 0
      },
      "text/plain": [
       "HBox(children=(FloatProgress(value=0.0, description='Epoch', max=4.0, style=ProgressStyle(description_width='i…"
      ]
     },
     "metadata": {},
     "output_type": "display_data"
    },
    {
     "data": {
      "application/vnd.jupyter.widget-view+json": {
       "model_id": "0a307fd75c1e4a4287d20bff0b1e6e25",
       "version_major": 2,
       "version_minor": 0
      },
      "text/plain": [
       "HBox(children=(FloatProgress(value=0.0, description='Iteration', max=719.0, style=ProgressStyle(description_wi…"
      ]
     },
     "metadata": {},
     "output_type": "display_data"
    },
    {
     "name": "stdout",
     "output_type": "stream",
     "text": [
      "\n"
     ]
    },
    {
     "data": {
      "application/vnd.jupyter.widget-view+json": {
       "model_id": "6ca05b07e34142b0ba12b855370e06b9",
       "version_major": 2,
       "version_minor": 0
      },
      "text/plain": [
       "HBox(children=(FloatProgress(value=0.0, description='Iteration', max=719.0, style=ProgressStyle(description_wi…"
      ]
     },
     "metadata": {},
     "output_type": "display_data"
    },
    {
     "name": "stdout",
     "output_type": "stream",
     "text": [
      "\n"
     ]
    },
    {
     "data": {
      "application/vnd.jupyter.widget-view+json": {
       "model_id": "22f530f599dd4989acded92ad7da9ab2",
       "version_major": 2,
       "version_minor": 0
      },
      "text/plain": [
       "HBox(children=(FloatProgress(value=0.0, description='Iteration', max=719.0, style=ProgressStyle(description_wi…"
      ]
     },
     "metadata": {},
     "output_type": "display_data"
    },
    {
     "name": "stdout",
     "output_type": "stream",
     "text": [
      "\n"
     ]
    },
    {
     "data": {
      "application/vnd.jupyter.widget-view+json": {
       "model_id": "719bf666c4e74640976a67643bd7bc44",
       "version_major": 2,
       "version_minor": 0
      },
      "text/plain": [
       "HBox(children=(FloatProgress(value=0.0, description='Iteration', max=719.0, style=ProgressStyle(description_wi…"
      ]
     },
     "metadata": {},
     "output_type": "display_data"
    },
    {
     "name": "stdout",
     "output_type": "stream",
     "text": [
      "\n",
      "\n",
      "####################################################################################\n",
      "Test 499: ASSIN pt-br:\n",
      "\n",
      "Similarity evaluation\n",
      "Pearson\t\tMean Squared Error\n",
      "-------\t\t------------------\n",
      "  0.795\t\t              0.29\n",
      "Spearman correlation:   0.781\n",
      "Test 499: ASSIN pt-pt:\n",
      "\n",
      "Similarity evaluation\n",
      "Pearson\t\tMean Squared Error\n",
      "-------\t\t------------------\n",
      "  0.809\t\t              0.49\n",
      "Spearman correlation:   0.800\n",
      "Test 499: ASSIN 2:\n",
      "\n",
      "Similarity evaluation\n",
      "Pearson\t\tMean Squared Error\n",
      "-------\t\t------------------\n",
      "  0.852\t\t              0.41\n",
      "Spearman correlation:   0.816\n",
      "####################################################################################\n"
     ]
    },
    {
     "data": {
      "application/vnd.jupyter.widget-view+json": {
       "model_id": "65f3b951007244dfb2bc2da76053be9d",
       "version_major": 2,
       "version_minor": 0
      },
      "text/plain": [
       "HBox(children=(FloatProgress(value=0.0, description='Epoch', max=4.0, style=ProgressStyle(description_width='i…"
      ]
     },
     "metadata": {},
     "output_type": "display_data"
    },
    {
     "data": {
      "application/vnd.jupyter.widget-view+json": {
       "model_id": "c46098b9c8ac4ad88fda8d97439e5bdc",
       "version_major": 2,
       "version_minor": 0
      },
      "text/plain": [
       "HBox(children=(FloatProgress(value=0.0, description='Iteration', max=719.0, style=ProgressStyle(description_wi…"
      ]
     },
     "metadata": {},
     "output_type": "display_data"
    },
    {
     "name": "stdout",
     "output_type": "stream",
     "text": [
      "\n"
     ]
    },
    {
     "data": {
      "application/vnd.jupyter.widget-view+json": {
       "model_id": "dd7b0e9113ce432d9d3eb6aeae2d80d5",
       "version_major": 2,
       "version_minor": 0
      },
      "text/plain": [
       "HBox(children=(FloatProgress(value=0.0, description='Iteration', max=719.0, style=ProgressStyle(description_wi…"
      ]
     },
     "metadata": {},
     "output_type": "display_data"
    },
    {
     "name": "stdout",
     "output_type": "stream",
     "text": [
      "\n"
     ]
    },
    {
     "data": {
      "application/vnd.jupyter.widget-view+json": {
       "model_id": "2fa1fe8b0ed0476180b071c6aef59017",
       "version_major": 2,
       "version_minor": 0
      },
      "text/plain": [
       "HBox(children=(FloatProgress(value=0.0, description='Iteration', max=719.0, style=ProgressStyle(description_wi…"
      ]
     },
     "metadata": {},
     "output_type": "display_data"
    },
    {
     "name": "stdout",
     "output_type": "stream",
     "text": [
      "\n"
     ]
    },
    {
     "data": {
      "application/vnd.jupyter.widget-view+json": {
       "model_id": "3e7b09e91c6944eca40cdf273319a7f8",
       "version_major": 2,
       "version_minor": 0
      },
      "text/plain": [
       "HBox(children=(FloatProgress(value=0.0, description='Iteration', max=719.0, style=ProgressStyle(description_wi…"
      ]
     },
     "metadata": {},
     "output_type": "display_data"
    },
    {
     "name": "stdout",
     "output_type": "stream",
     "text": [
      "\n",
      "\n",
      "####################################################################################\n",
      "Test 499: ASSIN pt-br:\n",
      "\n",
      "Similarity evaluation\n",
      "Pearson\t\tMean Squared Error\n",
      "-------\t\t------------------\n",
      "  0.793\t\t              0.29\n",
      "Spearman correlation:   0.779\n",
      "Test 499: ASSIN pt-pt:\n",
      "\n",
      "Similarity evaluation\n",
      "Pearson\t\tMean Squared Error\n",
      "-------\t\t------------------\n",
      "  0.811\t\t              0.49\n",
      "Spearman correlation:   0.801\n",
      "Test 499: ASSIN 2:\n",
      "\n",
      "Similarity evaluation\n",
      "Pearson\t\tMean Squared Error\n",
      "-------\t\t------------------\n",
      "  0.852\t\t              0.41\n",
      "Spearman correlation:   0.816\n",
      "####################################################################################\n"
     ]
    },
    {
     "data": {
      "application/vnd.jupyter.widget-view+json": {
       "model_id": "67c218ea2fc54d81a8bbc6566ace930e",
       "version_major": 2,
       "version_minor": 0
      },
      "text/plain": [
       "HBox(children=(FloatProgress(value=0.0, description='Epoch', max=4.0, style=ProgressStyle(description_width='i…"
      ]
     },
     "metadata": {},
     "output_type": "display_data"
    },
    {
     "data": {
      "application/vnd.jupyter.widget-view+json": {
       "model_id": "2cd44242a6e2495fabfdc83f141c5ac2",
       "version_major": 2,
       "version_minor": 0
      },
      "text/plain": [
       "HBox(children=(FloatProgress(value=0.0, description='Iteration', max=719.0, style=ProgressStyle(description_wi…"
      ]
     },
     "metadata": {},
     "output_type": "display_data"
    },
    {
     "name": "stdout",
     "output_type": "stream",
     "text": [
      "\n"
     ]
    },
    {
     "data": {
      "application/vnd.jupyter.widget-view+json": {
       "model_id": "6a4b8b8e037a47f28d1e9d0c4dae0682",
       "version_major": 2,
       "version_minor": 0
      },
      "text/plain": [
       "HBox(children=(FloatProgress(value=0.0, description='Iteration', max=719.0, style=ProgressStyle(description_wi…"
      ]
     },
     "metadata": {},
     "output_type": "display_data"
    },
    {
     "name": "stdout",
     "output_type": "stream",
     "text": [
      "\n"
     ]
    },
    {
     "data": {
      "application/vnd.jupyter.widget-view+json": {
       "model_id": "ed5100d697214734ab1e25c18fadf97d",
       "version_major": 2,
       "version_minor": 0
      },
      "text/plain": [
       "HBox(children=(FloatProgress(value=0.0, description='Iteration', max=719.0, style=ProgressStyle(description_wi…"
      ]
     },
     "metadata": {},
     "output_type": "display_data"
    },
    {
     "name": "stdout",
     "output_type": "stream",
     "text": [
      "\n"
     ]
    },
    {
     "data": {
      "application/vnd.jupyter.widget-view+json": {
       "model_id": "ff0107d9adc644a5903c6018e2ba0964",
       "version_major": 2,
       "version_minor": 0
      },
      "text/plain": [
       "HBox(children=(FloatProgress(value=0.0, description='Iteration', max=719.0, style=ProgressStyle(description_wi…"
      ]
     },
     "metadata": {},
     "output_type": "display_data"
    },
    {
     "name": "stdout",
     "output_type": "stream",
     "text": [
      "\n",
      "\n",
      "####################################################################################\n",
      "Test 499: ASSIN pt-br:\n",
      "\n",
      "Similarity evaluation\n",
      "Pearson\t\tMean Squared Error\n",
      "-------\t\t------------------\n",
      "  0.790\t\t              0.30\n",
      "Spearman correlation:   0.776\n",
      "Test 499: ASSIN pt-pt:\n",
      "\n",
      "Similarity evaluation\n",
      "Pearson\t\tMean Squared Error\n",
      "-------\t\t------------------\n",
      "  0.809\t\t              0.49\n",
      "Spearman correlation:   0.801\n",
      "Test 499: ASSIN 2:\n",
      "\n",
      "Similarity evaluation\n",
      "Pearson\t\tMean Squared Error\n",
      "-------\t\t------------------\n",
      "  0.853\t\t              0.41\n",
      "Spearman correlation:   0.817\n",
      "####################################################################################\n"
     ]
    },
    {
     "data": {
      "application/vnd.jupyter.widget-view+json": {
       "model_id": "b2852d89d7504c15bb8b56c3fac1eeff",
       "version_major": 2,
       "version_minor": 0
      },
      "text/plain": [
       "HBox(children=(FloatProgress(value=0.0, description='Epoch', max=4.0, style=ProgressStyle(description_width='i…"
      ]
     },
     "metadata": {},
     "output_type": "display_data"
    },
    {
     "data": {
      "application/vnd.jupyter.widget-view+json": {
       "model_id": "9dc1ed61d12d4d4ab709131d0aff09b5",
       "version_major": 2,
       "version_minor": 0
      },
      "text/plain": [
       "HBox(children=(FloatProgress(value=0.0, description='Iteration', max=719.0, style=ProgressStyle(description_wi…"
      ]
     },
     "metadata": {},
     "output_type": "display_data"
    },
    {
     "name": "stdout",
     "output_type": "stream",
     "text": [
      "\n"
     ]
    },
    {
     "data": {
      "application/vnd.jupyter.widget-view+json": {
       "model_id": "2ab7cb94391d493caa60fdf8f6ea567e",
       "version_major": 2,
       "version_minor": 0
      },
      "text/plain": [
       "HBox(children=(FloatProgress(value=0.0, description='Iteration', max=719.0, style=ProgressStyle(description_wi…"
      ]
     },
     "metadata": {},
     "output_type": "display_data"
    },
    {
     "name": "stdout",
     "output_type": "stream",
     "text": [
      "\n"
     ]
    },
    {
     "data": {
      "application/vnd.jupyter.widget-view+json": {
       "model_id": "ded88091ab534a79ac5e98f21344c187",
       "version_major": 2,
       "version_minor": 0
      },
      "text/plain": [
       "HBox(children=(FloatProgress(value=0.0, description='Iteration', max=719.0, style=ProgressStyle(description_wi…"
      ]
     },
     "metadata": {},
     "output_type": "display_data"
    },
    {
     "name": "stdout",
     "output_type": "stream",
     "text": [
      "\n"
     ]
    },
    {
     "data": {
      "application/vnd.jupyter.widget-view+json": {
       "model_id": "8ef6de10918a45e48c0e422a9f81f891",
       "version_major": 2,
       "version_minor": 0
      },
      "text/plain": [
       "HBox(children=(FloatProgress(value=0.0, description='Iteration', max=719.0, style=ProgressStyle(description_wi…"
      ]
     },
     "metadata": {},
     "output_type": "display_data"
    },
    {
     "name": "stdout",
     "output_type": "stream",
     "text": [
      "\n",
      "\n",
      "####################################################################################\n",
      "Test 499: ASSIN pt-br:\n",
      "\n",
      "Similarity evaluation\n",
      "Pearson\t\tMean Squared Error\n",
      "-------\t\t------------------\n",
      "  0.793\t\t              0.30\n",
      "Spearman correlation:   0.779\n",
      "Test 499: ASSIN pt-pt:\n",
      "\n",
      "Similarity evaluation\n",
      "Pearson\t\tMean Squared Error\n",
      "-------\t\t------------------\n",
      "  0.811\t\t              0.49\n",
      "Spearman correlation:   0.802\n",
      "Test 499: ASSIN 2:\n",
      "\n",
      "Similarity evaluation\n",
      "Pearson\t\tMean Squared Error\n",
      "-------\t\t------------------\n",
      "  0.853\t\t              0.41\n",
      "Spearman correlation:   0.819\n",
      "####################################################################################\n"
     ]
    },
    {
     "data": {
      "application/vnd.jupyter.widget-view+json": {
       "model_id": "cbb2002aaf6346a6ae629b617ce88f40",
       "version_major": 2,
       "version_minor": 0
      },
      "text/plain": [
       "HBox(children=(FloatProgress(value=0.0, description='Epoch', max=4.0, style=ProgressStyle(description_width='i…"
      ]
     },
     "metadata": {},
     "output_type": "display_data"
    },
    {
     "data": {
      "application/vnd.jupyter.widget-view+json": {
       "model_id": "7def1e79211a437a960bba7d125f3ee3",
       "version_major": 2,
       "version_minor": 0
      },
      "text/plain": [
       "HBox(children=(FloatProgress(value=0.0, description='Iteration', max=719.0, style=ProgressStyle(description_wi…"
      ]
     },
     "metadata": {},
     "output_type": "display_data"
    },
    {
     "name": "stdout",
     "output_type": "stream",
     "text": [
      "\n"
     ]
    },
    {
     "data": {
      "application/vnd.jupyter.widget-view+json": {
       "model_id": "33e79f9f9f3243d386c7beb3fead689e",
       "version_major": 2,
       "version_minor": 0
      },
      "text/plain": [
       "HBox(children=(FloatProgress(value=0.0, description='Iteration', max=719.0, style=ProgressStyle(description_wi…"
      ]
     },
     "metadata": {},
     "output_type": "display_data"
    },
    {
     "name": "stdout",
     "output_type": "stream",
     "text": [
      "\n"
     ]
    },
    {
     "data": {
      "application/vnd.jupyter.widget-view+json": {
       "model_id": "e7b39ea12adf4a498906c4d0f0e3ca6d",
       "version_major": 2,
       "version_minor": 0
      },
      "text/plain": [
       "HBox(children=(FloatProgress(value=0.0, description='Iteration', max=719.0, style=ProgressStyle(description_wi…"
      ]
     },
     "metadata": {},
     "output_type": "display_data"
    },
    {
     "name": "stdout",
     "output_type": "stream",
     "text": [
      "\n"
     ]
    },
    {
     "data": {
      "application/vnd.jupyter.widget-view+json": {
       "model_id": "911297aaa568446fa3b2b96f6f7ac5ab",
       "version_major": 2,
       "version_minor": 0
      },
      "text/plain": [
       "HBox(children=(FloatProgress(value=0.0, description='Iteration', max=719.0, style=ProgressStyle(description_wi…"
      ]
     },
     "metadata": {},
     "output_type": "display_data"
    },
    {
     "name": "stdout",
     "output_type": "stream",
     "text": [
      "\n",
      "\n",
      "####################################################################################\n",
      "Test 499: ASSIN pt-br:\n",
      "\n",
      "Similarity evaluation\n",
      "Pearson\t\tMean Squared Error\n",
      "-------\t\t------------------\n",
      "  0.793\t\t              0.29\n",
      "Spearman correlation:   0.781\n",
      "Test 499: ASSIN pt-pt:\n",
      "\n",
      "Similarity evaluation\n",
      "Pearson\t\tMean Squared Error\n",
      "-------\t\t------------------\n",
      "  0.808\t\t              0.49\n",
      "Spearman correlation:   0.799\n",
      "Test 499: ASSIN 2:\n",
      "\n",
      "Similarity evaluation\n",
      "Pearson\t\tMean Squared Error\n",
      "-------\t\t------------------\n",
      "  0.851\t\t              0.41\n",
      "Spearman correlation:   0.817\n",
      "####################################################################################\n"
     ]
    }
   ],
   "source": [
    "\"\"\"\n",
    "This example loads the pre-trained SentenceTransformer model 'bert-base-nli-mean-tokens' from the server.\n",
    "It then fine-tunes this model for some epochs on the STS benchmark dataset.\n",
    "Note: In this example, you must specify a SentenceTransformer model.\n",
    "If you want to fine-tune a huggingface/transformers model like bert-base-uncased, see training_nli.py and training_stsbenchmark.py\n",
    "\"\"\"\n",
    "from torch.utils.data import DataLoader\n",
    "import math\n",
    "from sentence_transformers import SentenceTransformer,  SentencesDataset, LoggingHandler, losses, util, InputExample\n",
    "from sentence_transformers.evaluation import EmbeddingSimilarityEvaluator\n",
    "from datetime import datetime\n",
    "import os\n",
    "import csv\n",
    "from sentence_transformers import models, SentenceTransformer\n",
    "\n",
    "\n",
    "\n",
    "# Read the dataset\n",
    "for i in range(1, 10+1):\n",
    "    train_batch_size = 16\n",
    "    num_epochs = 4 # tentar distilroberta large\n",
    "    model_save_path = f'../data/sbert_finetuning_assin2_xlm-r-distilroberta-base-paraphrase-v1-{i}'# + datetime.now().strftime(\"%Y-%m-%d_%H-%M-%S\")\n",
    "\n",
    "\n",
    "\n",
    "    # Load a pre-trained sentence transformer model\n",
    "    #model = SentenceTransformer(model_name)\n",
    "\n",
    "\n",
    "    model = SentenceTransformer('xlm-r-distilroberta-base-paraphrase-v1', device='cpu')\n",
    "\n",
    "    train_samples = []\n",
    "    dev_samples = []\n",
    "    #test_samples = []\n",
    "\n",
    "    for i, row in df_ptbr_train.iterrows():\n",
    "        inp_example = InputExample(texts=[row['t'], row['h']], label=row['similarity'] / 5)\n",
    "        train_samples.append(inp_example)\n",
    "\n",
    "    for i, row in df_ptbr_dev.iterrows():\n",
    "        inp_example = InputExample(texts=[row['t'], row['h']], label=row['similarity'] / 5)\n",
    "        dev_samples.append(inp_example)\n",
    "\n",
    "    #for i, row in df_ptbr_test.iterrows():\n",
    "    #    inp_example = InputExample(texts=[row['t'], row['h']], label=row['similarity'] / 5)\n",
    "    #    test_samples.append(inp_example)\n",
    "\n",
    "\n",
    "\n",
    "    train_dataset = SentencesDataset(train_samples, model)\n",
    "    train_dataloader = DataLoader(train_dataset, shuffle=True, batch_size=train_batch_size)\n",
    "    train_loss = losses.CosineSimilarityLoss(model=model)\n",
    "\n",
    "\n",
    "    evaluator = EmbeddingSimilarityEvaluator.from_input_examples(dev_samples, name='sts-dev')\n",
    "\n",
    "\n",
    "    # Configure the training. We skip evaluation in this example\n",
    "    warmup_steps = math.ceil(len(train_dataset) * num_epochs / train_batch_size * 0.1) #10% of train data for warm-up\n",
    "\n",
    "\n",
    "    # Train the model\n",
    "    model.fit(train_objectives=[(train_dataloader, train_loss)],\n",
    "              evaluator=evaluator,\n",
    "              epochs=num_epochs,\n",
    "              evaluation_steps=1000,\n",
    "              warmup_steps=warmup_steps,\n",
    "              output_path=model_save_path)\n",
    "    \n",
    "    print('####################################################################################')\n",
    "    print(f'Test {i}: ASSIN pt-br:')\n",
    "    test_evaluation(df_ptbr_test)\n",
    "    \n",
    "    print(f'Test {i}: ASSIN pt-pt:')\n",
    "    test_evaluation(df_ptpt_test)\n",
    "    \n",
    "    print(f'Test {i}: ASSIN 2:')\n",
    "    test_evaluation(df_ptbr2_test)\n",
    "    print('####################################################################################')\n",
    "    "
   ]
  },
  {
   "cell_type": "code",
   "execution_count": null,
   "metadata": {},
   "outputs": [],
   "source": []
  },
  {
   "cell_type": "code",
   "execution_count": null,
   "metadata": {},
   "outputs": [],
   "source": []
  },
  {
   "cell_type": "code",
   "execution_count": null,
   "metadata": {},
   "outputs": [],
   "source": []
  },
  {
   "cell_type": "code",
   "execution_count": 20,
   "metadata": {},
   "outputs": [
    {
     "data": {
      "text/plain": [
       "((13000, 4), (1500, 4))"
      ]
     },
     "execution_count": 20,
     "metadata": {},
     "output_type": "execute_result"
    }
   ],
   "source": [
    "df_ptbr_train = pd.concat([df_ptbr_train, df_ptbr_dev])\n",
    "df_ptbr_train.shape, df_ptbr_dev.shape"
   ]
  },
  {
   "cell_type": "code",
   "execution_count": 21,
   "metadata": {},
   "outputs": [
    {
     "data": {
      "application/vnd.jupyter.widget-view+json": {
       "model_id": "f14713e143c84400894bade204da6c9a",
       "version_major": 2,
       "version_minor": 0
      },
      "text/plain": [
       "HBox(children=(FloatProgress(value=0.0, description='Epoch', max=4.0, style=ProgressStyle(description_width='i…"
      ]
     },
     "metadata": {},
     "output_type": "display_data"
    },
    {
     "data": {
      "application/vnd.jupyter.widget-view+json": {
       "model_id": "95776b9541b04389b1116d8b0f8857d2",
       "version_major": 2,
       "version_minor": 0
      },
      "text/plain": [
       "HBox(children=(FloatProgress(value=0.0, description='Iteration', max=813.0, style=ProgressStyle(description_wi…"
      ]
     },
     "metadata": {},
     "output_type": "display_data"
    },
    {
     "name": "stdout",
     "output_type": "stream",
     "text": [
      "\n"
     ]
    },
    {
     "data": {
      "application/vnd.jupyter.widget-view+json": {
       "model_id": "fdf436bce2764e99940a2e435ad92af0",
       "version_major": 2,
       "version_minor": 0
      },
      "text/plain": [
       "HBox(children=(FloatProgress(value=0.0, description='Iteration', max=813.0, style=ProgressStyle(description_wi…"
      ]
     },
     "metadata": {},
     "output_type": "display_data"
    },
    {
     "name": "stdout",
     "output_type": "stream",
     "text": [
      "\n"
     ]
    },
    {
     "data": {
      "application/vnd.jupyter.widget-view+json": {
       "model_id": "5e343d15df2a4e958bfc109172a247ac",
       "version_major": 2,
       "version_minor": 0
      },
      "text/plain": [
       "HBox(children=(FloatProgress(value=0.0, description='Iteration', max=813.0, style=ProgressStyle(description_wi…"
      ]
     },
     "metadata": {},
     "output_type": "display_data"
    },
    {
     "name": "stdout",
     "output_type": "stream",
     "text": [
      "\n"
     ]
    },
    {
     "data": {
      "application/vnd.jupyter.widget-view+json": {
       "model_id": "d2e1146ab2fa4f8e8216c31934aff5ab",
       "version_major": 2,
       "version_minor": 0
      },
      "text/plain": [
       "HBox(children=(FloatProgress(value=0.0, description='Iteration', max=813.0, style=ProgressStyle(description_wi…"
      ]
     },
     "metadata": {},
     "output_type": "display_data"
    },
    {
     "name": "stdout",
     "output_type": "stream",
     "text": [
      "\n",
      "\n",
      "####################################################################################\n",
      "Test 1: ASSIN pt-br:\n",
      "\n",
      "Similarity evaluation\n",
      "Pearson\t\tMean Squared Error\n",
      "-------\t\t------------------\n",
      "  0.798\t\t              0.29\n",
      "Spearman correlation:   0.784\n",
      "Test 1: ASSIN pt-pt:\n",
      "\n",
      "Similarity evaluation\n",
      "Pearson\t\tMean Squared Error\n",
      "-------\t\t------------------\n",
      "  0.810\t\t              0.49\n",
      "Spearman correlation:   0.802\n",
      "Test 1: ASSIN 2:\n",
      "\n",
      "Similarity evaluation\n",
      "Pearson\t\tMean Squared Error\n",
      "-------\t\t------------------\n",
      "  0.851\t\t              0.41\n",
      "Spearman correlation:   0.816\n",
      "####################################################################################\n"
     ]
    },
    {
     "data": {
      "application/vnd.jupyter.widget-view+json": {
       "model_id": "ec5f28ea4b474fb3a2ab37fbc1166eea",
       "version_major": 2,
       "version_minor": 0
      },
      "text/plain": [
       "HBox(children=(FloatProgress(value=0.0, description='Epoch', max=4.0, style=ProgressStyle(description_width='i…"
      ]
     },
     "metadata": {},
     "output_type": "display_data"
    },
    {
     "data": {
      "application/vnd.jupyter.widget-view+json": {
       "model_id": "b8f2d5936769464abfb57d8ce54b4838",
       "version_major": 2,
       "version_minor": 0
      },
      "text/plain": [
       "HBox(children=(FloatProgress(value=0.0, description='Iteration', max=813.0, style=ProgressStyle(description_wi…"
      ]
     },
     "metadata": {},
     "output_type": "display_data"
    },
    {
     "name": "stdout",
     "output_type": "stream",
     "text": [
      "\n"
     ]
    },
    {
     "data": {
      "application/vnd.jupyter.widget-view+json": {
       "model_id": "db5e8f2d984f43f797167bfcbf6013c5",
       "version_major": 2,
       "version_minor": 0
      },
      "text/plain": [
       "HBox(children=(FloatProgress(value=0.0, description='Iteration', max=813.0, style=ProgressStyle(description_wi…"
      ]
     },
     "metadata": {},
     "output_type": "display_data"
    },
    {
     "name": "stdout",
     "output_type": "stream",
     "text": [
      "\n"
     ]
    },
    {
     "data": {
      "application/vnd.jupyter.widget-view+json": {
       "model_id": "2f5af3bb66804117a98332e9b8d5fa1f",
       "version_major": 2,
       "version_minor": 0
      },
      "text/plain": [
       "HBox(children=(FloatProgress(value=0.0, description='Iteration', max=813.0, style=ProgressStyle(description_wi…"
      ]
     },
     "metadata": {},
     "output_type": "display_data"
    },
    {
     "name": "stdout",
     "output_type": "stream",
     "text": [
      "\n"
     ]
    },
    {
     "data": {
      "application/vnd.jupyter.widget-view+json": {
       "model_id": "826ad36676014bf5bb110605486e0e19",
       "version_major": 2,
       "version_minor": 0
      },
      "text/plain": [
       "HBox(children=(FloatProgress(value=0.0, description='Iteration', max=813.0, style=ProgressStyle(description_wi…"
      ]
     },
     "metadata": {},
     "output_type": "display_data"
    },
    {
     "name": "stdout",
     "output_type": "stream",
     "text": [
      "\n",
      "\n",
      "####################################################################################\n",
      "Test 2: ASSIN pt-br:\n",
      "\n",
      "Similarity evaluation\n",
      "Pearson\t\tMean Squared Error\n",
      "-------\t\t------------------\n",
      "  0.796\t\t              0.29\n",
      "Spearman correlation:   0.782\n",
      "Test 2: ASSIN pt-pt:\n",
      "\n",
      "Similarity evaluation\n",
      "Pearson\t\tMean Squared Error\n",
      "-------\t\t------------------\n",
      "  0.810\t\t              0.49\n",
      "Spearman correlation:   0.801\n",
      "Test 2: ASSIN 2:\n",
      "\n",
      "Similarity evaluation\n",
      "Pearson\t\tMean Squared Error\n",
      "-------\t\t------------------\n",
      "  0.850\t\t              0.42\n",
      "Spearman correlation:   0.816\n",
      "####################################################################################\n"
     ]
    },
    {
     "data": {
      "application/vnd.jupyter.widget-view+json": {
       "model_id": "c5d4742d0c1b4c0295469214475f7cbd",
       "version_major": 2,
       "version_minor": 0
      },
      "text/plain": [
       "HBox(children=(FloatProgress(value=0.0, description='Epoch', max=4.0, style=ProgressStyle(description_width='i…"
      ]
     },
     "metadata": {},
     "output_type": "display_data"
    },
    {
     "data": {
      "application/vnd.jupyter.widget-view+json": {
       "model_id": "80f6ede93edc4050980c82e54a7cf8b7",
       "version_major": 2,
       "version_minor": 0
      },
      "text/plain": [
       "HBox(children=(FloatProgress(value=0.0, description='Iteration', max=813.0, style=ProgressStyle(description_wi…"
      ]
     },
     "metadata": {},
     "output_type": "display_data"
    },
    {
     "name": "stdout",
     "output_type": "stream",
     "text": [
      "\n"
     ]
    },
    {
     "data": {
      "application/vnd.jupyter.widget-view+json": {
       "model_id": "73452527a3344d3ba813e440e297fa05",
       "version_major": 2,
       "version_minor": 0
      },
      "text/plain": [
       "HBox(children=(FloatProgress(value=0.0, description='Iteration', max=813.0, style=ProgressStyle(description_wi…"
      ]
     },
     "metadata": {},
     "output_type": "display_data"
    },
    {
     "name": "stdout",
     "output_type": "stream",
     "text": [
      "\n"
     ]
    },
    {
     "data": {
      "application/vnd.jupyter.widget-view+json": {
       "model_id": "bd8db2e382e74779bcdd7bee69157058",
       "version_major": 2,
       "version_minor": 0
      },
      "text/plain": [
       "HBox(children=(FloatProgress(value=0.0, description='Iteration', max=813.0, style=ProgressStyle(description_wi…"
      ]
     },
     "metadata": {},
     "output_type": "display_data"
    },
    {
     "name": "stdout",
     "output_type": "stream",
     "text": [
      "\n"
     ]
    },
    {
     "data": {
      "application/vnd.jupyter.widget-view+json": {
       "model_id": "21186eb3e3f1472cb09d6e6e0f917d64",
       "version_major": 2,
       "version_minor": 0
      },
      "text/plain": [
       "HBox(children=(FloatProgress(value=0.0, description='Iteration', max=813.0, style=ProgressStyle(description_wi…"
      ]
     },
     "metadata": {},
     "output_type": "display_data"
    },
    {
     "name": "stdout",
     "output_type": "stream",
     "text": [
      "\n",
      "\n",
      "####################################################################################\n",
      "Test 3: ASSIN pt-br:\n",
      "\n",
      "Similarity evaluation\n",
      "Pearson\t\tMean Squared Error\n",
      "-------\t\t------------------\n",
      "  0.796\t\t              0.29\n",
      "Spearman correlation:   0.783\n",
      "Test 3: ASSIN pt-pt:\n",
      "\n",
      "Similarity evaluation\n",
      "Pearson\t\tMean Squared Error\n",
      "-------\t\t------------------\n",
      "  0.811\t\t              0.48\n",
      "Spearman correlation:   0.802\n",
      "Test 3: ASSIN 2:\n",
      "\n",
      "Similarity evaluation\n",
      "Pearson\t\tMean Squared Error\n",
      "-------\t\t------------------\n",
      "  0.848\t\t              0.42\n",
      "Spearman correlation:   0.814\n",
      "####################################################################################\n"
     ]
    },
    {
     "data": {
      "application/vnd.jupyter.widget-view+json": {
       "model_id": "031c07df9e3b4a6080910bd195b540c9",
       "version_major": 2,
       "version_minor": 0
      },
      "text/plain": [
       "HBox(children=(FloatProgress(value=0.0, description='Epoch', max=4.0, style=ProgressStyle(description_width='i…"
      ]
     },
     "metadata": {},
     "output_type": "display_data"
    },
    {
     "data": {
      "application/vnd.jupyter.widget-view+json": {
       "model_id": "3398a15a23db4be18f301217de4d9300",
       "version_major": 2,
       "version_minor": 0
      },
      "text/plain": [
       "HBox(children=(FloatProgress(value=0.0, description='Iteration', max=813.0, style=ProgressStyle(description_wi…"
      ]
     },
     "metadata": {},
     "output_type": "display_data"
    },
    {
     "name": "stdout",
     "output_type": "stream",
     "text": [
      "\n"
     ]
    },
    {
     "data": {
      "application/vnd.jupyter.widget-view+json": {
       "model_id": "fb5678acd8114b8f96d7ef0bcc84d28a",
       "version_major": 2,
       "version_minor": 0
      },
      "text/plain": [
       "HBox(children=(FloatProgress(value=0.0, description='Iteration', max=813.0, style=ProgressStyle(description_wi…"
      ]
     },
     "metadata": {},
     "output_type": "display_data"
    },
    {
     "name": "stdout",
     "output_type": "stream",
     "text": [
      "\n"
     ]
    },
    {
     "data": {
      "application/vnd.jupyter.widget-view+json": {
       "model_id": "d46ecfa7084b4a2cab1103bd5f057685",
       "version_major": 2,
       "version_minor": 0
      },
      "text/plain": [
       "HBox(children=(FloatProgress(value=0.0, description='Iteration', max=813.0, style=ProgressStyle(description_wi…"
      ]
     },
     "metadata": {},
     "output_type": "display_data"
    },
    {
     "name": "stdout",
     "output_type": "stream",
     "text": [
      "\n"
     ]
    },
    {
     "data": {
      "application/vnd.jupyter.widget-view+json": {
       "model_id": "8b445e40b2f5476fbaf04e4635f8574a",
       "version_major": 2,
       "version_minor": 0
      },
      "text/plain": [
       "HBox(children=(FloatProgress(value=0.0, description='Iteration', max=813.0, style=ProgressStyle(description_wi…"
      ]
     },
     "metadata": {},
     "output_type": "display_data"
    },
    {
     "name": "stdout",
     "output_type": "stream",
     "text": [
      "\n",
      "\n",
      "####################################################################################\n",
      "Test 4: ASSIN pt-br:\n",
      "\n",
      "Similarity evaluation\n",
      "Pearson\t\tMean Squared Error\n",
      "-------\t\t------------------\n",
      "  0.797\t\t              0.29\n",
      "Spearman correlation:   0.784\n",
      "Test 4: ASSIN pt-pt:\n",
      "\n",
      "Similarity evaluation\n",
      "Pearson\t\tMean Squared Error\n",
      "-------\t\t------------------\n",
      "  0.811\t\t              0.49\n",
      "Spearman correlation:   0.803\n",
      "Test 4: ASSIN 2:\n",
      "\n",
      "Similarity evaluation\n",
      "Pearson\t\tMean Squared Error\n",
      "-------\t\t------------------\n",
      "  0.851\t\t              0.41\n",
      "Spearman correlation:   0.815\n",
      "####################################################################################\n"
     ]
    },
    {
     "data": {
      "application/vnd.jupyter.widget-view+json": {
       "model_id": "31c130a2feb445399cb24cc66ccd4174",
       "version_major": 2,
       "version_minor": 0
      },
      "text/plain": [
       "HBox(children=(FloatProgress(value=0.0, description='Epoch', max=4.0, style=ProgressStyle(description_width='i…"
      ]
     },
     "metadata": {},
     "output_type": "display_data"
    },
    {
     "data": {
      "application/vnd.jupyter.widget-view+json": {
       "model_id": "ad4c233352e94ad69b27bd5b2b1627db",
       "version_major": 2,
       "version_minor": 0
      },
      "text/plain": [
       "HBox(children=(FloatProgress(value=0.0, description='Iteration', max=813.0, style=ProgressStyle(description_wi…"
      ]
     },
     "metadata": {},
     "output_type": "display_data"
    },
    {
     "name": "stdout",
     "output_type": "stream",
     "text": [
      "\n"
     ]
    },
    {
     "data": {
      "application/vnd.jupyter.widget-view+json": {
       "model_id": "3b79feec0cd54fc78290c009ae065a3d",
       "version_major": 2,
       "version_minor": 0
      },
      "text/plain": [
       "HBox(children=(FloatProgress(value=0.0, description='Iteration', max=813.0, style=ProgressStyle(description_wi…"
      ]
     },
     "metadata": {},
     "output_type": "display_data"
    },
    {
     "name": "stdout",
     "output_type": "stream",
     "text": [
      "\n"
     ]
    },
    {
     "data": {
      "application/vnd.jupyter.widget-view+json": {
       "model_id": "97475d9844b14022aa3f416852f1f5d3",
       "version_major": 2,
       "version_minor": 0
      },
      "text/plain": [
       "HBox(children=(FloatProgress(value=0.0, description='Iteration', max=813.0, style=ProgressStyle(description_wi…"
      ]
     },
     "metadata": {},
     "output_type": "display_data"
    },
    {
     "name": "stdout",
     "output_type": "stream",
     "text": [
      "\n"
     ]
    },
    {
     "data": {
      "application/vnd.jupyter.widget-view+json": {
       "model_id": "c1e13b76d09545d496d4b2cf372f1cad",
       "version_major": 2,
       "version_minor": 0
      },
      "text/plain": [
       "HBox(children=(FloatProgress(value=0.0, description='Iteration', max=813.0, style=ProgressStyle(description_wi…"
      ]
     },
     "metadata": {},
     "output_type": "display_data"
    },
    {
     "name": "stdout",
     "output_type": "stream",
     "text": [
      "\n",
      "\n",
      "####################################################################################\n",
      "Test 5: ASSIN pt-br:\n",
      "\n",
      "Similarity evaluation\n",
      "Pearson\t\tMean Squared Error\n",
      "-------\t\t------------------\n",
      "  0.796\t\t              0.29\n",
      "Spearman correlation:   0.784\n",
      "Test 5: ASSIN pt-pt:\n",
      "\n",
      "Similarity evaluation\n",
      "Pearson\t\tMean Squared Error\n",
      "-------\t\t------------------\n",
      "  0.811\t\t              0.49\n",
      "Spearman correlation:   0.802\n",
      "Test 5: ASSIN 2:\n",
      "\n",
      "Similarity evaluation\n",
      "Pearson\t\tMean Squared Error\n",
      "-------\t\t------------------\n",
      "  0.849\t\t              0.41\n",
      "Spearman correlation:   0.814\n",
      "####################################################################################\n"
     ]
    },
    {
     "data": {
      "application/vnd.jupyter.widget-view+json": {
       "model_id": "6f1745f05c954c2886583cec40c7f354",
       "version_major": 2,
       "version_minor": 0
      },
      "text/plain": [
       "HBox(children=(FloatProgress(value=0.0, description='Epoch', max=4.0, style=ProgressStyle(description_width='i…"
      ]
     },
     "metadata": {},
     "output_type": "display_data"
    },
    {
     "data": {
      "application/vnd.jupyter.widget-view+json": {
       "model_id": "7ac5556e7dc54db3afcbcf1f71309d9f",
       "version_major": 2,
       "version_minor": 0
      },
      "text/plain": [
       "HBox(children=(FloatProgress(value=0.0, description='Iteration', max=813.0, style=ProgressStyle(description_wi…"
      ]
     },
     "metadata": {},
     "output_type": "display_data"
    },
    {
     "name": "stdout",
     "output_type": "stream",
     "text": [
      "\n"
     ]
    },
    {
     "data": {
      "application/vnd.jupyter.widget-view+json": {
       "model_id": "5926e5ed0d484bd2b3ba9d99e2ca86e2",
       "version_major": 2,
       "version_minor": 0
      },
      "text/plain": [
       "HBox(children=(FloatProgress(value=0.0, description='Iteration', max=813.0, style=ProgressStyle(description_wi…"
      ]
     },
     "metadata": {},
     "output_type": "display_data"
    },
    {
     "name": "stdout",
     "output_type": "stream",
     "text": [
      "\n"
     ]
    },
    {
     "data": {
      "application/vnd.jupyter.widget-view+json": {
       "model_id": "fff2a307b0c64c798ad690249ede6d45",
       "version_major": 2,
       "version_minor": 0
      },
      "text/plain": [
       "HBox(children=(FloatProgress(value=0.0, description='Iteration', max=813.0, style=ProgressStyle(description_wi…"
      ]
     },
     "metadata": {},
     "output_type": "display_data"
    },
    {
     "name": "stdout",
     "output_type": "stream",
     "text": [
      "\n"
     ]
    },
    {
     "data": {
      "application/vnd.jupyter.widget-view+json": {
       "model_id": "bb7ed8150159463db04e72f1c9cca5a8",
       "version_major": 2,
       "version_minor": 0
      },
      "text/plain": [
       "HBox(children=(FloatProgress(value=0.0, description='Iteration', max=813.0, style=ProgressStyle(description_wi…"
      ]
     },
     "metadata": {},
     "output_type": "display_data"
    },
    {
     "name": "stdout",
     "output_type": "stream",
     "text": [
      "\n",
      "\n",
      "####################################################################################\n",
      "Test 6: ASSIN pt-br:\n",
      "\n",
      "Similarity evaluation\n",
      "Pearson\t\tMean Squared Error\n",
      "-------\t\t------------------\n",
      "  0.798\t\t              0.29\n",
      "Spearman correlation:   0.785\n",
      "Test 6: ASSIN pt-pt:\n",
      "\n",
      "Similarity evaluation\n",
      "Pearson\t\tMean Squared Error\n",
      "-------\t\t------------------\n",
      "  0.812\t\t              0.48\n",
      "Spearman correlation:   0.804\n",
      "Test 6: ASSIN 2:\n",
      "\n",
      "Similarity evaluation\n",
      "Pearson\t\tMean Squared Error\n",
      "-------\t\t------------------\n",
      "  0.850\t\t              0.42\n",
      "Spearman correlation:   0.816\n",
      "####################################################################################\n"
     ]
    },
    {
     "data": {
      "application/vnd.jupyter.widget-view+json": {
       "model_id": "983cf2501d8c4b0d9cf0b16e72d3788b",
       "version_major": 2,
       "version_minor": 0
      },
      "text/plain": [
       "HBox(children=(FloatProgress(value=0.0, description='Epoch', max=4.0, style=ProgressStyle(description_width='i…"
      ]
     },
     "metadata": {},
     "output_type": "display_data"
    },
    {
     "data": {
      "application/vnd.jupyter.widget-view+json": {
       "model_id": "052a30bcf9e743a098bffe32caa508b2",
       "version_major": 2,
       "version_minor": 0
      },
      "text/plain": [
       "HBox(children=(FloatProgress(value=0.0, description='Iteration', max=813.0, style=ProgressStyle(description_wi…"
      ]
     },
     "metadata": {},
     "output_type": "display_data"
    },
    {
     "name": "stdout",
     "output_type": "stream",
     "text": [
      "\n"
     ]
    },
    {
     "data": {
      "application/vnd.jupyter.widget-view+json": {
       "model_id": "5aee36b351664979b4c891d7208d3231",
       "version_major": 2,
       "version_minor": 0
      },
      "text/plain": [
       "HBox(children=(FloatProgress(value=0.0, description='Iteration', max=813.0, style=ProgressStyle(description_wi…"
      ]
     },
     "metadata": {},
     "output_type": "display_data"
    },
    {
     "name": "stdout",
     "output_type": "stream",
     "text": [
      "\n"
     ]
    },
    {
     "data": {
      "application/vnd.jupyter.widget-view+json": {
       "model_id": "cb8ad22cf0994013b447822d8a541cea",
       "version_major": 2,
       "version_minor": 0
      },
      "text/plain": [
       "HBox(children=(FloatProgress(value=0.0, description='Iteration', max=813.0, style=ProgressStyle(description_wi…"
      ]
     },
     "metadata": {},
     "output_type": "display_data"
    },
    {
     "name": "stdout",
     "output_type": "stream",
     "text": [
      "\n"
     ]
    },
    {
     "data": {
      "application/vnd.jupyter.widget-view+json": {
       "model_id": "e3e77e157bbb48e8bcf32835b5ed737e",
       "version_major": 2,
       "version_minor": 0
      },
      "text/plain": [
       "HBox(children=(FloatProgress(value=0.0, description='Iteration', max=813.0, style=ProgressStyle(description_wi…"
      ]
     },
     "metadata": {},
     "output_type": "display_data"
    },
    {
     "name": "stdout",
     "output_type": "stream",
     "text": [
      "\n",
      "\n",
      "####################################################################################\n",
      "Test 7: ASSIN pt-br:\n",
      "\n",
      "Similarity evaluation\n",
      "Pearson\t\tMean Squared Error\n",
      "-------\t\t------------------\n",
      "  0.797\t\t              0.29\n",
      "Spearman correlation:   0.785\n",
      "Test 7: ASSIN pt-pt:\n",
      "\n",
      "Similarity evaluation\n",
      "Pearson\t\tMean Squared Error\n",
      "-------\t\t------------------\n",
      "  0.809\t\t              0.49\n",
      "Spearman correlation:   0.801\n",
      "Test 7: ASSIN 2:\n",
      "\n",
      "Similarity evaluation\n",
      "Pearson\t\tMean Squared Error\n",
      "-------\t\t------------------\n",
      "  0.850\t\t              0.42\n",
      "Spearman correlation:   0.814\n",
      "####################################################################################\n"
     ]
    },
    {
     "data": {
      "application/vnd.jupyter.widget-view+json": {
       "model_id": "65f58484fac4485eb96d00780691cdbd",
       "version_major": 2,
       "version_minor": 0
      },
      "text/plain": [
       "HBox(children=(FloatProgress(value=0.0, description='Epoch', max=4.0, style=ProgressStyle(description_width='i…"
      ]
     },
     "metadata": {},
     "output_type": "display_data"
    },
    {
     "data": {
      "application/vnd.jupyter.widget-view+json": {
       "model_id": "93fd1fd6cfa642cc9eeaa14f334a2643",
       "version_major": 2,
       "version_minor": 0
      },
      "text/plain": [
       "HBox(children=(FloatProgress(value=0.0, description='Iteration', max=813.0, style=ProgressStyle(description_wi…"
      ]
     },
     "metadata": {},
     "output_type": "display_data"
    },
    {
     "name": "stdout",
     "output_type": "stream",
     "text": [
      "\n"
     ]
    },
    {
     "data": {
      "application/vnd.jupyter.widget-view+json": {
       "model_id": "cd4ce86b38a64d7ea430d3d93693a5a8",
       "version_major": 2,
       "version_minor": 0
      },
      "text/plain": [
       "HBox(children=(FloatProgress(value=0.0, description='Iteration', max=813.0, style=ProgressStyle(description_wi…"
      ]
     },
     "metadata": {},
     "output_type": "display_data"
    },
    {
     "name": "stdout",
     "output_type": "stream",
     "text": [
      "\n"
     ]
    },
    {
     "data": {
      "application/vnd.jupyter.widget-view+json": {
       "model_id": "0630e65a4da545568c21424e9569a514",
       "version_major": 2,
       "version_minor": 0
      },
      "text/plain": [
       "HBox(children=(FloatProgress(value=0.0, description='Iteration', max=813.0, style=ProgressStyle(description_wi…"
      ]
     },
     "metadata": {},
     "output_type": "display_data"
    },
    {
     "name": "stdout",
     "output_type": "stream",
     "text": [
      "\n"
     ]
    },
    {
     "data": {
      "application/vnd.jupyter.widget-view+json": {
       "model_id": "2acc146dce6245d99c9bc5e85469769e",
       "version_major": 2,
       "version_minor": 0
      },
      "text/plain": [
       "HBox(children=(FloatProgress(value=0.0, description='Iteration', max=813.0, style=ProgressStyle(description_wi…"
      ]
     },
     "metadata": {},
     "output_type": "display_data"
    },
    {
     "name": "stdout",
     "output_type": "stream",
     "text": [
      "\n",
      "\n",
      "####################################################################################\n",
      "Test 8: ASSIN pt-br:\n",
      "\n",
      "Similarity evaluation\n",
      "Pearson\t\tMean Squared Error\n",
      "-------\t\t------------------\n",
      "  0.798\t\t              0.29\n",
      "Spearman correlation:   0.784\n",
      "Test 8: ASSIN pt-pt:\n",
      "\n",
      "Similarity evaluation\n",
      "Pearson\t\tMean Squared Error\n",
      "-------\t\t------------------\n",
      "  0.813\t\t              0.48\n",
      "Spearman correlation:   0.804\n",
      "Test 8: ASSIN 2:\n",
      "\n",
      "Similarity evaluation\n",
      "Pearson\t\tMean Squared Error\n",
      "-------\t\t------------------\n",
      "  0.851\t\t              0.41\n",
      "Spearman correlation:   0.817\n",
      "####################################################################################\n"
     ]
    },
    {
     "data": {
      "application/vnd.jupyter.widget-view+json": {
       "model_id": "4c87445a3dcf4ef3b456844b33642438",
       "version_major": 2,
       "version_minor": 0
      },
      "text/plain": [
       "HBox(children=(FloatProgress(value=0.0, description='Epoch', max=4.0, style=ProgressStyle(description_width='i…"
      ]
     },
     "metadata": {},
     "output_type": "display_data"
    },
    {
     "data": {
      "application/vnd.jupyter.widget-view+json": {
       "model_id": "eb224440005846ffbd4054061c3b82ee",
       "version_major": 2,
       "version_minor": 0
      },
      "text/plain": [
       "HBox(children=(FloatProgress(value=0.0, description='Iteration', max=813.0, style=ProgressStyle(description_wi…"
      ]
     },
     "metadata": {},
     "output_type": "display_data"
    },
    {
     "name": "stdout",
     "output_type": "stream",
     "text": [
      "\n"
     ]
    },
    {
     "data": {
      "application/vnd.jupyter.widget-view+json": {
       "model_id": "dd3f541dfe2f46c1a003ca2d469cd6ba",
       "version_major": 2,
       "version_minor": 0
      },
      "text/plain": [
       "HBox(children=(FloatProgress(value=0.0, description='Iteration', max=813.0, style=ProgressStyle(description_wi…"
      ]
     },
     "metadata": {},
     "output_type": "display_data"
    },
    {
     "name": "stdout",
     "output_type": "stream",
     "text": [
      "\n"
     ]
    },
    {
     "data": {
      "application/vnd.jupyter.widget-view+json": {
       "model_id": "a46a3dccc2e0456e9cff17c888a0d690",
       "version_major": 2,
       "version_minor": 0
      },
      "text/plain": [
       "HBox(children=(FloatProgress(value=0.0, description='Iteration', max=813.0, style=ProgressStyle(description_wi…"
      ]
     },
     "metadata": {},
     "output_type": "display_data"
    },
    {
     "name": "stdout",
     "output_type": "stream",
     "text": [
      "\n"
     ]
    },
    {
     "data": {
      "application/vnd.jupyter.widget-view+json": {
       "model_id": "6ad00beec32a4931a01aca06dd229caa",
       "version_major": 2,
       "version_minor": 0
      },
      "text/plain": [
       "HBox(children=(FloatProgress(value=0.0, description='Iteration', max=813.0, style=ProgressStyle(description_wi…"
      ]
     },
     "metadata": {},
     "output_type": "display_data"
    },
    {
     "name": "stdout",
     "output_type": "stream",
     "text": [
      "\n",
      "\n",
      "####################################################################################\n",
      "Test 9: ASSIN pt-br:\n",
      "\n",
      "Similarity evaluation\n",
      "Pearson\t\tMean Squared Error\n",
      "-------\t\t------------------\n",
      "  0.797\t\t              0.29\n",
      "Spearman correlation:   0.783\n",
      "Test 9: ASSIN pt-pt:\n",
      "\n",
      "Similarity evaluation\n",
      "Pearson\t\tMean Squared Error\n",
      "-------\t\t------------------\n",
      "  0.811\t\t              0.49\n",
      "Spearman correlation:   0.803\n",
      "Test 9: ASSIN 2:\n",
      "\n",
      "Similarity evaluation\n",
      "Pearson\t\tMean Squared Error\n",
      "-------\t\t------------------\n",
      "  0.852\t\t              0.41\n",
      "Spearman correlation:   0.818\n",
      "####################################################################################\n"
     ]
    },
    {
     "data": {
      "application/vnd.jupyter.widget-view+json": {
       "model_id": "733b2491460f4a74a4158b950e831b2c",
       "version_major": 2,
       "version_minor": 0
      },
      "text/plain": [
       "HBox(children=(FloatProgress(value=0.0, description='Epoch', max=4.0, style=ProgressStyle(description_width='i…"
      ]
     },
     "metadata": {},
     "output_type": "display_data"
    },
    {
     "data": {
      "application/vnd.jupyter.widget-view+json": {
       "model_id": "5b5767db036d42879ced62a406b15814",
       "version_major": 2,
       "version_minor": 0
      },
      "text/plain": [
       "HBox(children=(FloatProgress(value=0.0, description='Iteration', max=813.0, style=ProgressStyle(description_wi…"
      ]
     },
     "metadata": {},
     "output_type": "display_data"
    },
    {
     "name": "stdout",
     "output_type": "stream",
     "text": [
      "\n"
     ]
    },
    {
     "data": {
      "application/vnd.jupyter.widget-view+json": {
       "model_id": "97d38c999e1e44248f86ba6ed15c5afa",
       "version_major": 2,
       "version_minor": 0
      },
      "text/plain": [
       "HBox(children=(FloatProgress(value=0.0, description='Iteration', max=813.0, style=ProgressStyle(description_wi…"
      ]
     },
     "metadata": {},
     "output_type": "display_data"
    },
    {
     "name": "stdout",
     "output_type": "stream",
     "text": [
      "\n"
     ]
    },
    {
     "data": {
      "application/vnd.jupyter.widget-view+json": {
       "model_id": "24076a9031c7494e977055a796146b1c",
       "version_major": 2,
       "version_minor": 0
      },
      "text/plain": [
       "HBox(children=(FloatProgress(value=0.0, description='Iteration', max=813.0, style=ProgressStyle(description_wi…"
      ]
     },
     "metadata": {},
     "output_type": "display_data"
    },
    {
     "name": "stdout",
     "output_type": "stream",
     "text": [
      "\n"
     ]
    },
    {
     "data": {
      "application/vnd.jupyter.widget-view+json": {
       "model_id": "13f17b68b2e4461da10f93d927d83a9a",
       "version_major": 2,
       "version_minor": 0
      },
      "text/plain": [
       "HBox(children=(FloatProgress(value=0.0, description='Iteration', max=813.0, style=ProgressStyle(description_wi…"
      ]
     },
     "metadata": {},
     "output_type": "display_data"
    },
    {
     "name": "stdout",
     "output_type": "stream",
     "text": [
      "\n",
      "\n",
      "####################################################################################\n",
      "Test 10: ASSIN pt-br:\n",
      "\n",
      "Similarity evaluation\n",
      "Pearson\t\tMean Squared Error\n",
      "-------\t\t------------------\n",
      "  0.796\t\t              0.29\n",
      "Spearman correlation:   0.784\n",
      "Test 10: ASSIN pt-pt:\n",
      "\n",
      "Similarity evaluation\n",
      "Pearson\t\tMean Squared Error\n",
      "-------\t\t------------------\n",
      "  0.813\t\t              0.48\n",
      "Spearman correlation:   0.803\n",
      "Test 10: ASSIN 2:\n",
      "\n",
      "Similarity evaluation\n",
      "Pearson\t\tMean Squared Error\n",
      "-------\t\t------------------\n",
      "  0.851\t\t              0.41\n",
      "Spearman correlation:   0.819\n",
      "####################################################################################\n"
     ]
    }
   ],
   "source": [
    "\"\"\"\n",
    "This example loads the pre-trained SentenceTransformer model 'bert-base-nli-mean-tokens' from the server.\n",
    "It then fine-tunes this model for some epochs on the STS benchmark dataset.\n",
    "Note: In this example, you must specify a SentenceTransformer model.\n",
    "If you want to fine-tune a huggingface/transformers model like bert-base-uncased, see training_nli.py and training_stsbenchmark.py\n",
    "\"\"\"\n",
    "from torch.utils.data import DataLoader\n",
    "import math\n",
    "from sentence_transformers import SentenceTransformer,  SentencesDataset, LoggingHandler, losses, util, InputExample\n",
    "from sentence_transformers.evaluation import EmbeddingSimilarityEvaluator\n",
    "from datetime import datetime\n",
    "import os\n",
    "import csv\n",
    "from sentence_transformers import models, SentenceTransformer\n",
    "\n",
    "train_samples = []\n",
    "    #dev_samples = []\n",
    "    #test_samples = []\n",
    "\n",
    "for i, row in df_ptbr_train.iterrows():\n",
    "    inp_example = InputExample(texts=[row['t'], row['h']], label=row['similarity'] / 5)\n",
    "    train_samples.append(inp_example)\n",
    "\n",
    "# Read the dataset\n",
    "for i in range(1, 10+1):\n",
    "    train_batch_size = 16\n",
    "    num_epochs = 4 # tentar distilroberta large\n",
    "    model_save_path = f'../data/sbert_finetuning_assin2_xlm-r-distilroberta-base-paraphrase-v1-all-{i}'# + datetime.now().strftime(\"%Y-%m-%d_%H-%M-%S\")\n",
    "\n",
    "\n",
    "\n",
    "    # Load a pre-trained sentence transformer model\n",
    "    #model = SentenceTransformer(model_name)\n",
    "\n",
    "\n",
    "    model = SentenceTransformer('xlm-r-distilroberta-base-paraphrase-v1', device='cpu')\n",
    "\n",
    "    #train_samples = []\n",
    "    #dev_samples = []\n",
    "    #test_samples = []\n",
    "\n",
    "    #for i, row in df_ptbr_train.iterrows():\n",
    "    #    inp_example = InputExample(texts=[row['t'], row['h']], label=row['similarity'] / 5)\n",
    "    #    train_samples.append(inp_example)\n",
    "\n",
    "    #for i, row in df_ptbr_dev.iterrows():\n",
    "    #    inp_example = InputExample(texts=[row['t'], row['h']], label=row['similarity'] / 5)\n",
    "    #    dev_samples.append(inp_example)\n",
    "\n",
    "    #for i, row in df_ptbr_test.iterrows():\n",
    "    #    inp_example = InputExample(texts=[row['t'], row['h']], label=row['similarity'] / 5)\n",
    "    #    test_samples.append(inp_example)\n",
    "\n",
    "\n",
    "\n",
    "    train_dataset = SentencesDataset(train_samples, model)\n",
    "    train_dataloader = DataLoader(train_dataset, shuffle=True, batch_size=train_batch_size)\n",
    "    train_loss = losses.CosineSimilarityLoss(model=model)\n",
    "\n",
    "\n",
    "    #evaluator = EmbeddingSimilarityEvaluator.from_input_examples(dev_samples, name='sts-dev')\n",
    "\n",
    "\n",
    "    # Configure the training. We skip evaluation in this example\n",
    "    warmup_steps = math.ceil(len(train_dataset) * num_epochs / train_batch_size * 0.1) #10% of train data for warm-up\n",
    "\n",
    "\n",
    "    # Train the model\n",
    "    model.fit(train_objectives=[(train_dataloader, train_loss)],\n",
    "              #evaluator=evaluator,\n",
    "              epochs=num_epochs,\n",
    "              #evaluation_steps=1000,\n",
    "              warmup_steps=warmup_steps,\n",
    "              output_path=model_save_path)\n",
    "    \n",
    "    print('####################################################################################')\n",
    "    print(f'Test {i}: ASSIN pt-br:')\n",
    "    test_evaluation(df_ptbr_test)\n",
    "    \n",
    "    print(f'Test {i}: ASSIN pt-pt:')\n",
    "    test_evaluation(df_ptpt_test)\n",
    "    \n",
    "    print(f'Test {i}: ASSIN 2:')\n",
    "    test_evaluation(df_ptbr2_test)\n",
    "    print('####################################################################################')"
   ]
  },
  {
   "cell_type": "code",
   "execution_count": null,
   "metadata": {},
   "outputs": [],
   "source": []
  }
 ],
 "metadata": {
  "kernelspec": {
   "display_name": "Python 3",
   "language": "python",
   "name": "python3"
  },
  "language_info": {
   "codemirror_mode": {
    "name": "ipython",
    "version": 3
   },
   "file_extension": ".py",
   "mimetype": "text/x-python",
   "name": "python",
   "nbconvert_exporter": "python",
   "pygments_lexer": "ipython3",
   "version": "3.8.10"
  },
  "toc": {
   "base_numbering": 1,
   "nav_menu": {},
   "number_sections": true,
   "sideBar": true,
   "skip_h1_title": false,
   "title_cell": "Table of Contents",
   "title_sidebar": "Contents",
   "toc_cell": false,
   "toc_position": {
    "height": "calc(100% - 180px)",
    "left": "10px",
    "top": "150px",
    "width": "349.091px"
   },
   "toc_section_display": true,
   "toc_window_display": true
  }
 },
 "nbformat": 4,
 "nbformat_minor": 4
}
